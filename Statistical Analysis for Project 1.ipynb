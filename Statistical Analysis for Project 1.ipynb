{
 "cells": [
  {
   "cell_type": "markdown",
   "id": "a156e6b5",
   "metadata": {},
   "source": [
    "For the statistical calculation of the t-test(a significant difference in the categories) just for practice, can maybe use both z and t test (should be able to derive the same ans)"
   ]
  },
  {
   "cell_type": "code",
   "execution_count": 2,
   "id": "144f3127",
   "metadata": {},
   "outputs": [],
   "source": [
    "import numpy as np\n",
    "import pandas as pd\n",
    "from statsmodels.stats import weightstats \n",
    "import scipy.stats as stats"
   ]
  },
  {
   "cell_type": "code",
   "execution_count": 3,
   "id": "ba48ecc2",
   "metadata": {},
   "outputs": [],
   "source": [
    "transac_data = pd.read_csv('Dummy Data (3 months).csv')"
   ]
  },
  {
   "cell_type": "code",
   "execution_count": 4,
   "id": "ab1b241d",
   "metadata": {},
   "outputs": [
    {
     "data": {
      "text/html": [
       "<div>\n",
       "<style scoped>\n",
       "    .dataframe tbody tr th:only-of-type {\n",
       "        vertical-align: middle;\n",
       "    }\n",
       "\n",
       "    .dataframe tbody tr th {\n",
       "        vertical-align: top;\n",
       "    }\n",
       "\n",
       "    .dataframe thead th {\n",
       "        text-align: right;\n",
       "    }\n",
       "</style>\n",
       "<table border=\"1\" class=\"dataframe\">\n",
       "  <thead>\n",
       "    <tr style=\"text-align: right;\">\n",
       "      <th></th>\n",
       "      <th>Date</th>\n",
       "      <th>Description of Purchase</th>\n",
       "      <th>Category of Purchase</th>\n",
       "      <th>Price</th>\n",
       "    </tr>\n",
       "  </thead>\n",
       "  <tbody>\n",
       "    <tr>\n",
       "      <th>0</th>\n",
       "      <td>1/1/22</td>\n",
       "      <td>Grocery Store</td>\n",
       "      <td>Groceries</td>\n",
       "      <td>45.67</td>\n",
       "    </tr>\n",
       "    <tr>\n",
       "      <th>1</th>\n",
       "      <td>2/1/22</td>\n",
       "      <td>Gas Station</td>\n",
       "      <td>Transportation</td>\n",
       "      <td>35.12</td>\n",
       "    </tr>\n",
       "    <tr>\n",
       "      <th>2</th>\n",
       "      <td>3/1/22</td>\n",
       "      <td>Coffee Shop</td>\n",
       "      <td>Dining Out</td>\n",
       "      <td>8.99</td>\n",
       "    </tr>\n",
       "    <tr>\n",
       "      <th>3</th>\n",
       "      <td>4/1/22</td>\n",
       "      <td>Movie Theater</td>\n",
       "      <td>Entertainment</td>\n",
       "      <td>22.50</td>\n",
       "    </tr>\n",
       "    <tr>\n",
       "      <th>4</th>\n",
       "      <td>5/1/22</td>\n",
       "      <td>Amazon.com</td>\n",
       "      <td>Online Shopping</td>\n",
       "      <td>67.89</td>\n",
       "    </tr>\n",
       "    <tr>\n",
       "      <th>5</th>\n",
       "      <td>6/1/22</td>\n",
       "      <td>Hair Salon</td>\n",
       "      <td>Personal Care</td>\n",
       "      <td>55.00</td>\n",
       "    </tr>\n",
       "    <tr>\n",
       "      <th>6</th>\n",
       "      <td>7/1/22</td>\n",
       "      <td>Gym Membership</td>\n",
       "      <td>Health/Fitness</td>\n",
       "      <td>80.00</td>\n",
       "    </tr>\n",
       "    <tr>\n",
       "      <th>7</th>\n",
       "      <td>8/1/22</td>\n",
       "      <td>Clothing Store</td>\n",
       "      <td>Clothing</td>\n",
       "      <td>112.45</td>\n",
       "    </tr>\n",
       "    <tr>\n",
       "      <th>8</th>\n",
       "      <td>9/1/22</td>\n",
       "      <td>Grocery Store</td>\n",
       "      <td>Groceries</td>\n",
       "      <td>23.12</td>\n",
       "    </tr>\n",
       "    <tr>\n",
       "      <th>9</th>\n",
       "      <td>10/1/22</td>\n",
       "      <td>Gas Station</td>\n",
       "      <td>Transportation</td>\n",
       "      <td>40.23</td>\n",
       "    </tr>\n",
       "  </tbody>\n",
       "</table>\n",
       "</div>"
      ],
      "text/plain": [
       "      Date Description of Purchase Category of Purchase  Price \n",
       "0   1/1/22           Grocery Store            Groceries   45.67\n",
       "1   2/1/22             Gas Station       Transportation   35.12\n",
       "2   3/1/22             Coffee Shop           Dining Out    8.99\n",
       "3   4/1/22           Movie Theater        Entertainment   22.50\n",
       "4   5/1/22              Amazon.com      Online Shopping   67.89\n",
       "5   6/1/22              Hair Salon        Personal Care   55.00\n",
       "6   7/1/22          Gym Membership       Health/Fitness   80.00\n",
       "7   8/1/22          Clothing Store             Clothing  112.45\n",
       "8   9/1/22           Grocery Store            Groceries   23.12\n",
       "9  10/1/22             Gas Station       Transportation   40.23"
      ]
     },
     "execution_count": 4,
     "metadata": {},
     "output_type": "execute_result"
    }
   ],
   "source": [
    "transac_data.head(10)"
   ]
  },
  {
   "cell_type": "code",
   "execution_count": 24,
   "id": "5d7e371a",
   "metadata": {},
   "outputs": [],
   "source": [
    "#getting rid of whitespace in the headers\n",
    "transac_data.columns = transac_data.columns.str.strip()"
   ]
  },
  {
   "cell_type": "code",
   "execution_count": 25,
   "id": "e98e39ce",
   "metadata": {},
   "outputs": [],
   "source": [
    "#changing the data types\n",
    "#1: date to dmy\n",
    "transac_data['Date'] = pd.to_datetime(transac_data['Date'], format = '%d/%m/%y')"
   ]
  },
  {
   "cell_type": "code",
   "execution_count": 26,
   "id": "7d2eeef2",
   "metadata": {},
   "outputs": [],
   "source": [
    "#2: description of purchase and category of purchase as string\n",
    "transac_data[['Description of Purchase', 'Category of Purchase']] = transac_data[['Description of Purchase', 'Category of Purchase']].astype('string')"
   ]
  },
  {
   "cell_type": "markdown",
   "id": "a3f9bb54",
   "metadata": {},
   "source": [
    "**Analysis 1**: Any significant difference between the amount spent within the different categories"
   ]
  },
  {
   "cell_type": "markdown",
   "id": "cfc32095",
   "metadata": {},
   "source": [
    "Categories: Groceries, Transportation, Dining Out, Entertainment, Online Shopping, Personal Care "
   ]
  },
  {
   "cell_type": "code",
   "execution_count": 6,
   "id": "3c22dc06",
   "metadata": {},
   "outputs": [
    {
     "data": {
      "text/plain": [
       "0     45.67\n",
       "8     23.12\n",
       "16    41.23\n",
       "24    27.23\n",
       "30    42.89\n",
       "38    23.56\n",
       "46    37.23\n",
       "54    29.23\n",
       "58    35.67\n",
       "66    28.34\n",
       "74    31.23\n",
       "82    26.23\n",
       "Name: Price, dtype: float64"
      ]
     },
     "execution_count": 6,
     "metadata": {},
     "output_type": "execute_result"
    }
   ],
   "source": [
    "#filtered item for groceries\n",
    "groceries = transac_data[transac_data['Category of Purchase']== 'Groceries']['Price']\n",
    "groceries"
   ]
  },
  {
   "cell_type": "code",
   "execution_count": 7,
   "id": "17ede412",
   "metadata": {},
   "outputs": [
    {
     "data": {
      "text/plain": [
       "1     35.12\n",
       "9     40.23\n",
       "17    37.12\n",
       "25    38.23\n",
       "31    30.12\n",
       "39    40.23\n",
       "47    35.12\n",
       "55    38.23\n",
       "59    25.42\n",
       "67    36.12\n",
       "75    29.45\n",
       "83    39.56\n",
       "Name: Price, dtype: float64"
      ]
     },
     "execution_count": 7,
     "metadata": {},
     "output_type": "execute_result"
    }
   ],
   "source": [
    "#filtered item for Transportation\n",
    "transportation = transac_data[transac_data['Category of Purchase']== 'Transportation']['Price']\n",
    "transportation"
   ]
  },
  {
   "cell_type": "code",
   "execution_count": 8,
   "id": "62edd5c1",
   "metadata": {},
   "outputs": [
    {
     "data": {
      "text/plain": [
       "2      8.99\n",
       "10    12.99\n",
       "18     9.99\n",
       "26    10.99\n",
       "32     8.50\n",
       "40    12.99\n",
       "48     9.99\n",
       "56    10.99\n",
       "60     7.99\n",
       "68    10.99\n",
       "76     8.50\n",
       "84    12.99\n",
       "Name: Price, dtype: float64"
      ]
     },
     "execution_count": 8,
     "metadata": {},
     "output_type": "execute_result"
    }
   ],
   "source": [
    "#filtered item for Dining Out\n",
    "dining_out = transac_data[transac_data['Category of Purchase']== 'Dining Out']['Price']\n",
    "dining_out"
   ]
  },
  {
   "cell_type": "code",
   "execution_count": 9,
   "id": "22407b5c",
   "metadata": {},
   "outputs": [
    {
     "data": {
      "text/plain": [
       "3     22.50\n",
       "11    28.75\n",
       "19    24.50\n",
       "27    26.75\n",
       "33    25.00\n",
       "41    28.50\n",
       "49    22.75\n",
       "57    26.75\n",
       "61    20.50\n",
       "69    23.75\n",
       "77    27.50\n",
       "85    21.75\n",
       "Name: Price, dtype: float64"
      ]
     },
     "execution_count": 9,
     "metadata": {},
     "output_type": "execute_result"
    }
   ],
   "source": [
    "#filtered item for Entertainment\n",
    "entertainment = transac_data[transac_data['Category of Purchase']== 'Entertainment']['Price']\n",
    "entertainment"
   ]
  },
  {
   "cell_type": "code",
   "execution_count": 10,
   "id": "5c9f760c",
   "metadata": {},
   "outputs": [
    {
     "data": {
      "text/plain": [
       "3     22.50\n",
       "11    28.75\n",
       "19    24.50\n",
       "27    26.75\n",
       "33    25.00\n",
       "41    28.50\n",
       "49    22.75\n",
       "57    26.75\n",
       "61    20.50\n",
       "69    23.75\n",
       "77    27.50\n",
       "85    21.75\n",
       "Name: Price, dtype: float64"
      ]
     },
     "execution_count": 10,
     "metadata": {},
     "output_type": "execute_result"
    }
   ],
   "source": [
    "#filtered item for Online Shopping\n",
    "online_shop = transac_data[transac_data['Category of Purchase'] == 'Entertainment']['Price']\n",
    "online_shop"
   ]
  },
  {
   "cell_type": "code",
   "execution_count": 11,
   "id": "073e9f44",
   "metadata": {},
   "outputs": [
    {
     "data": {
      "text/plain": [
       "5     55.0\n",
       "13    67.0\n",
       "21    62.0\n",
       "29    71.0\n",
       "35    65.0\n",
       "43    72.0\n",
       "51    60.0\n",
       "63    62.0\n",
       "71    75.0\n",
       "79    68.0\n",
       "87    80.0\n",
       "Name: Price, dtype: float64"
      ]
     },
     "execution_count": 11,
     "metadata": {},
     "output_type": "execute_result"
    }
   ],
   "source": [
    "#filtered item for Personal Care\n",
    "personal_care = transac_data[transac_data['Category of Purchase'] == 'Personal Care']['Price']\n",
    "personal_care"
   ]
  },
  {
   "cell_type": "markdown",
   "id": "d2dc50d4",
   "metadata": {},
   "source": [
    "----------------------------------------------------------------------------------------------------------------------"
   ]
  },
  {
   "cell_type": "code",
   "execution_count": 12,
   "id": "2060d834",
   "metadata": {},
   "outputs": [
    {
     "data": {
      "text/plain": [
       "Ttest_indResult(statistic=-1.062842990461972, pvalue=0.2993811934896691)"
      ]
     },
     "execution_count": 12,
     "metadata": {},
     "output_type": "execute_result"
    }
   ],
   "source": [
    "#conducting t-test for the different categories\n",
    "#groceries and transportation\n",
    "stats.ttest_ind(groceries, transportation, equal_var=True)"
   ]
  },
  {
   "cell_type": "markdown",
   "id": "d522c22f",
   "metadata": {},
   "source": [
    "p-value = 0.299 > 0.05. We do not reject the null hypothesis. There is no significant difference in the spendings for groceries and transportation."
   ]
  },
  {
   "cell_type": "code",
   "execution_count": 14,
   "id": "bda6b286",
   "metadata": {},
   "outputs": [
    {
     "data": {
      "text/plain": [
       "Ttest_indResult(statistic=9.679605925063399, pvalue=2.175878554643374e-09)"
      ]
     },
     "execution_count": 14,
     "metadata": {},
     "output_type": "execute_result"
    }
   ],
   "source": [
    "#groceries and dining out\n",
    "stats.ttest_ind(groceries, dining_out, equal_var = True)"
   ]
  },
  {
   "cell_type": "markdown",
   "id": "548734f2",
   "metadata": {},
   "source": [
    "p-value = 2.175878554643374e-09 < 0.05. We reject null hypothesis. There is a significant difference in the spendings for groceries and dining out."
   ]
  },
  {
   "cell_type": "code",
   "execution_count": 23,
   "id": "cd0a7669",
   "metadata": {},
   "outputs": [
    {
     "data": {
      "text/plain": [
       "Ttest_indResult(statistic=3.266894307563918, pvalue=0.0035282759831674008)"
      ]
     },
     "execution_count": 23,
     "metadata": {},
     "output_type": "execute_result"
    }
   ],
   "source": [
    "#groceries and entertainment\n",
    "stats.ttest_ind(groceries, entertainment, equal_var = True)"
   ]
  },
  {
   "cell_type": "markdown",
   "id": "fad05e37",
   "metadata": {},
   "source": [
    "p-value = 0.0035283 < 0.05. We reject the null hypothesis. There is significant difference in the spendings for groceries and entertainment."
   ]
  },
  {
   "cell_type": "code",
   "execution_count": 25,
   "id": "810e1f8f",
   "metadata": {},
   "outputs": [
    {
     "data": {
      "text/plain": [
       "Ttest_indResult(statistic=3.266894307563918, pvalue=0.0035282759831674008)"
      ]
     },
     "execution_count": 25,
     "metadata": {},
     "output_type": "execute_result"
    }
   ],
   "source": [
    "#groceries and online shopping\n",
    "stats.ttest_ind(groceries, online_shop, equal_var = True)"
   ]
  },
  {
   "cell_type": "markdown",
   "id": "e3ebfc73",
   "metadata": {},
   "source": [
    "p-value = 0.0035283 < 0.05. We reject the null hypothesis. There is significant difference in the spendings for groceries and entertainment."
   ]
  },
  {
   "cell_type": "code",
   "execution_count": 26,
   "id": "b6d05486",
   "metadata": {},
   "outputs": [
    {
     "data": {
      "text/plain": [
       "Ttest_indResult(statistic=-10.99910646742078, pvalue=3.5653466492395016e-10)"
      ]
     },
     "execution_count": 26,
     "metadata": {},
     "output_type": "execute_result"
    }
   ],
   "source": [
    "#groceries and personal care\n",
    "stats.ttest_ind(groceries, personal_care, equal_var = True)"
   ]
  },
  {
   "cell_type": "markdown",
   "id": "5b54e45a",
   "metadata": {},
   "source": [
    "p-value = 3.5653466492395016e-10 < 0.05. We reject the null hypothesis. There is a significant difference in the spendings for groceries and personal care. "
   ]
  },
  {
   "cell_type": "code",
   "execution_count": 28,
   "id": "317dba72",
   "metadata": {},
   "outputs": [
    {
     "data": {
      "text/plain": [
       "Ttest_indResult(statistic=17.02244760743162, pvalue=3.7574222893432807e-14)"
      ]
     },
     "execution_count": 28,
     "metadata": {},
     "output_type": "execute_result"
    }
   ],
   "source": [
    "#transportation and dining out\n",
    "stats.ttest_ind(transportation, dining_out, equal_var = True)"
   ]
  },
  {
   "cell_type": "markdown",
   "id": "66a878b2",
   "metadata": {},
   "source": [
    "p-value = 3.7574222893432807e-14. We reject the null hypothesis. There is a significant difference in the spendings for transportation and dining out."
   ]
  },
  {
   "cell_type": "code",
   "execution_count": 30,
   "id": "a4d83b3f",
   "metadata": {},
   "outputs": [
    {
     "data": {
      "text/plain": [
       "Ttest_indResult(statistic=6.647865962628232, pvalue=1.1029140191760613e-06)"
      ]
     },
     "execution_count": 30,
     "metadata": {},
     "output_type": "execute_result"
    }
   ],
   "source": [
    "#transportation and entertainment\n",
    "stats.ttest_ind(transportation, entertainment, equal_var = True)"
   ]
  },
  {
   "cell_type": "markdown",
   "id": "86c3e420",
   "metadata": {},
   "source": [
    "p-value = 1.1029140191760613e-06 < 0.05. We reject the null hypothesis. There is a significant difference in the spendings for transportation and entertainment. "
   ]
  },
  {
   "cell_type": "code",
   "execution_count": 31,
   "id": "00db74b7",
   "metadata": {},
   "outputs": [
    {
     "data": {
      "text/plain": [
       "Ttest_indResult(statistic=6.647865962628232, pvalue=1.1029140191760613e-06)"
      ]
     },
     "execution_count": 31,
     "metadata": {},
     "output_type": "execute_result"
    }
   ],
   "source": [
    "#transportation and online shopping\n",
    "stats.ttest_ind(transportation, online_shop, equal_var = True)"
   ]
  },
  {
   "cell_type": "markdown",
   "id": "d9a34dd4",
   "metadata": {},
   "source": [
    "p-value = 1.1029140191760613e-06 < 0.05. We reject the null hypothesis. There is a significant difference in the spendings for transportation and online shopping."
   ]
  },
  {
   "cell_type": "code",
   "execution_count": 32,
   "id": "bf1e1d58",
   "metadata": {},
   "outputs": [
    {
     "data": {
      "text/plain": [
       "Ttest_indResult(statistic=-12.509145549519868, pvalue=3.371108718508917e-11)"
      ]
     },
     "execution_count": 32,
     "metadata": {},
     "output_type": "execute_result"
    }
   ],
   "source": [
    "#transportation and personal care\n",
    "stats.ttest_ind(transportation, personal_care, equal_var = True)"
   ]
  },
  {
   "cell_type": "markdown",
   "id": "ecfbb712",
   "metadata": {},
   "source": [
    "p-value = 3.371108718508917e-11 < 0.05. We reject the null hypothesis. There is significant difference in the spendings for transportation and online shopping."
   ]
  },
  {
   "cell_type": "code",
   "execution_count": 33,
   "id": "fed1747a",
   "metadata": {},
   "outputs": [
    {
     "data": {
      "text/plain": [
       "Ttest_indResult(statistic=-15.194939077754787, pvalue=3.7872452230425636e-13)"
      ]
     },
     "execution_count": 33,
     "metadata": {},
     "output_type": "execute_result"
    }
   ],
   "source": [
    "#dining out and entertainment\n",
    "stats.ttest_ind(dining_out, entertainment, equal_var = True)"
   ]
  },
  {
   "cell_type": "markdown",
   "id": "f5bb45e2",
   "metadata": {},
   "source": [
    "p-value = 3.7872452230425636e-13 < 0.05. We reject the null hypothesis. There is significant difference in the spendings for dining out and entertainment."
   ]
  },
  {
   "cell_type": "code",
   "execution_count": 34,
   "id": "0ed85927",
   "metadata": {},
   "outputs": [
    {
     "data": {
      "text/plain": [
       "Ttest_indResult(statistic=-15.194939077754787, pvalue=3.7872452230425636e-13)"
      ]
     },
     "execution_count": 34,
     "metadata": {},
     "output_type": "execute_result"
    }
   ],
   "source": [
    "#dining out and online shopping\n",
    "stats.ttest_ind(dining_out, online_shop, equal_var = True)"
   ]
  },
  {
   "cell_type": "markdown",
   "id": "2d30a144",
   "metadata": {},
   "source": [
    "p-value = 3.7872452230425636e-13 < 0.05. We reject the null hypothesis. There is significant difference in the spendings for dining out and online shopping."
   ]
  },
  {
   "cell_type": "code",
   "execution_count": 35,
   "id": "2bbb4671",
   "metadata": {},
   "outputs": [
    {
     "data": {
      "text/plain": [
       "Ttest_indResult(statistic=-26.252136052320694, pvalue=1.5331153801767453e-17)"
      ]
     },
     "execution_count": 35,
     "metadata": {},
     "output_type": "execute_result"
    }
   ],
   "source": [
    "#dining out and personal care\n",
    "stats.ttest_ind(dining_out, personal_care, equal_var = True)"
   ]
  },
  {
   "cell_type": "markdown",
   "id": "1b6eb1b5",
   "metadata": {},
   "source": [
    "p-value = 1.5331153801767453e-17 < 0.05. We reject the null hypothesis. There is significant difference in the spendings for dining out and personal care."
   ]
  },
  {
   "cell_type": "code",
   "execution_count": 36,
   "id": "6d2c9aae",
   "metadata": {},
   "outputs": [
    {
     "data": {
      "text/plain": [
       "Ttest_indResult(statistic=0.0, pvalue=1.0)"
      ]
     },
     "execution_count": 36,
     "metadata": {},
     "output_type": "execute_result"
    }
   ],
   "source": [
    "#entertainment and online shopping\n",
    "stats.ttest_ind(entertainment, online_shop, equal_var = True)"
   ]
  },
  {
   "cell_type": "markdown",
   "id": "0eca8e8a",
   "metadata": {},
   "source": [
    "????"
   ]
  },
  {
   "cell_type": "code",
   "execution_count": 38,
   "id": "91dacc7a",
   "metadata": {},
   "outputs": [
    {
     "data": {
      "text/plain": [
       "Ttest_indResult(statistic=-18.790126657586825, pvalue=1.301376376101303e-14)"
      ]
     },
     "execution_count": 38,
     "metadata": {},
     "output_type": "execute_result"
    }
   ],
   "source": [
    "#entertainment and personal care\n",
    "stats.ttest_ind(entertainment, personal_care, equal_var = True)"
   ]
  },
  {
   "cell_type": "markdown",
   "id": "cc8e949b",
   "metadata": {},
   "source": [
    "p-value = 1.301376376101303e-14 < 0.05. We reject the null hypothesis. There is significant difference in the spendings for entertainment and personal care."
   ]
  },
  {
   "cell_type": "code",
   "execution_count": 39,
   "id": "ca7f864e",
   "metadata": {},
   "outputs": [
    {
     "data": {
      "text/plain": [
       "Ttest_indResult(statistic=-18.790126657586825, pvalue=1.301376376101303e-14)"
      ]
     },
     "execution_count": 39,
     "metadata": {},
     "output_type": "execute_result"
    }
   ],
   "source": [
    "#online shopping and personal care\n",
    "stats.ttest_ind(online_shop, personal_care, equal_var = True)"
   ]
  },
  {
   "cell_type": "markdown",
   "id": "be3fd42d",
   "metadata": {},
   "source": [
    "p-value = 1.301376376101303e-14 < 0.05. We reject the null hypothesis. There is significant difference in the spendings for entertainment and personal care."
   ]
  },
  {
   "cell_type": "markdown",
   "id": "16cd389a",
   "metadata": {},
   "source": [
    "**Analysis 2:** Calculating confidence interval (for each category of spending)"
   ]
  },
  {
   "cell_type": "code",
   "execution_count": 17,
   "id": "ee95a9a2",
   "metadata": {
    "scrolled": true
   },
   "outputs": [
    {
     "data": {
      "text/plain": [
       "32.63583333333333"
      ]
     },
     "execution_count": 17,
     "metadata": {},
     "output_type": "execute_result"
    }
   ],
   "source": [
    "#groceries\n",
    "mean = np.mean(groceries)\n",
    "mean"
   ]
  },
  {
   "cell_type": "code",
   "execution_count": 18,
   "id": "c0d57a96",
   "metadata": {},
   "outputs": [
    {
     "data": {
      "text/plain": [
       "7.384778780633099"
      ]
     },
     "execution_count": 18,
     "metadata": {},
     "output_type": "execute_result"
    }
   ],
   "source": [
    "sd = np.std(groceries)\n",
    "sd"
   ]
  },
  {
   "cell_type": "code",
   "execution_count": 23,
   "id": "e24ad213",
   "metadata": {},
   "outputs": [
    {
     "data": {
      "text/plain": [
       "(27.94376874849506, 37.3278979181716)"
      ]
     },
     "execution_count": 23,
     "metadata": {},
     "output_type": "execute_result"
    }
   ],
   "source": [
    "stats.t.interval(0.95, len(groceries) - 1, loc = mean, scale = sd / np.sqrt(len(groceries)))"
   ]
  },
  {
   "cell_type": "markdown",
   "id": "f57488a8",
   "metadata": {},
   "source": [
    "95% confident that the expenditures for groceries is (27.9438, 37.3279)\n",
    "\n",
    "Groceries, Transportation, Dining Out, Entertainment, Online Shopping, Personal Care"
   ]
  },
  {
   "cell_type": "code",
   "execution_count": 21,
   "id": "d8780511",
   "metadata": {},
   "outputs": [
    {
     "data": {
      "text/plain": [
       "35.4125"
      ]
     },
     "execution_count": 21,
     "metadata": {},
     "output_type": "execute_result"
    }
   ],
   "source": [
    "#transportation\n",
    "mean_t = np.mean(transportation)\n",
    "mean_t"
   ]
  },
  {
   "cell_type": "code",
   "execution_count": 22,
   "id": "1d5baf6c",
   "metadata": {},
   "outputs": [
    {
     "data": {
      "text/plain": [
       "4.5322384554066275"
      ]
     },
     "execution_count": 22,
     "metadata": {},
     "output_type": "execute_result"
    }
   ],
   "source": [
    "sd_t = np.std(transportation)\n",
    "sd_t"
   ]
  },
  {
   "cell_type": "code",
   "execution_count": 27,
   "id": "ac21e035",
   "metadata": {},
   "outputs": [
    {
     "data": {
      "text/plain": [
       "(32.53285306969176, 38.29214693030824)"
      ]
     },
     "execution_count": 27,
     "metadata": {},
     "output_type": "execute_result"
    }
   ],
   "source": [
    "stats.t.interval(0.95, len(transportation) - 1, loc = mean_t, scale = sd_t / np.sqrt(len(transportation)))"
   ]
  },
  {
   "cell_type": "markdown",
   "id": "f8adc717",
   "metadata": {},
   "source": [
    "95% confident the expenditures for groceries is (32.5329, 38.29215)."
   ]
  },
  {
   "cell_type": "code",
   "execution_count": 15,
   "id": "8011ea02",
   "metadata": {},
   "outputs": [
    {
     "data": {
      "text/plain": [
       "10.491666666666665"
      ]
     },
     "execution_count": 15,
     "metadata": {},
     "output_type": "execute_result"
    }
   ],
   "source": [
    "#Dining out\n",
    "mean_dining = np.mean(dining_out)\n",
    "mean_dining"
   ]
  },
  {
   "cell_type": "code",
   "execution_count": 16,
   "id": "8ad289dd",
   "metadata": {},
   "outputs": [
    {
     "data": {
      "text/plain": [
       "1.7421291252053877"
      ]
     },
     "execution_count": 16,
     "metadata": {},
     "output_type": "execute_result"
    }
   ],
   "source": [
    "sd_dining = np.std(dining_out)\n",
    "sd_dining"
   ]
  },
  {
   "cell_type": "code",
   "execution_count": 17,
   "id": "d195b3ad",
   "metadata": {},
   "outputs": [
    {
     "data": {
      "text/plain": [
       "(9.384770629099688, 11.598562704233643)"
      ]
     },
     "execution_count": 17,
     "metadata": {},
     "output_type": "execute_result"
    }
   ],
   "source": [
    "stats.t.interval(0.95, len(dining_out) - 1, loc = mean_dining, scale = sd_dining/np.sqrt(len(dining_out)))"
   ]
  },
  {
   "cell_type": "markdown",
   "id": "fc4183e0",
   "metadata": {},
   "source": [
    "95% confident the expenditures for dining out is (34.3056, 36.5194)."
   ]
  },
  {
   "cell_type": "code",
   "execution_count": 32,
   "id": "5b432858",
   "metadata": {},
   "outputs": [
    {
     "data": {
      "text/plain": [
       "24.916666666666668"
      ]
     },
     "execution_count": 32,
     "metadata": {},
     "output_type": "execute_result"
    }
   ],
   "source": [
    "#entertainment\n",
    "mean_entertainment = np.mean(entertainment)\n",
    "mean_entertainment"
   ]
  },
  {
   "cell_type": "code",
   "execution_count": 33,
   "id": "b0513f77",
   "metadata": {},
   "outputs": [
    {
     "data": {
      "text/plain": [
       "2.6226841636427025"
      ]
     },
     "execution_count": 33,
     "metadata": {},
     "output_type": "execute_result"
    }
   ],
   "source": [
    "sd_entertainment = np.std(entertainment)\n",
    "sd_entertainment"
   ]
  },
  {
   "cell_type": "code",
   "execution_count": 34,
   "id": "d7155431",
   "metadata": {},
   "outputs": [
    {
     "data": {
      "text/plain": [
       "(23.250292649652565, 26.58304068368077)"
      ]
     },
     "execution_count": 34,
     "metadata": {},
     "output_type": "execute_result"
    }
   ],
   "source": [
    "stats.t.interval(0.95, len(entertainment) - 1, loc = mean_entertainment, scale = sd_entertainment/np.sqrt(len(entertainment)))"
   ]
  },
  {
   "cell_type": "markdown",
   "id": "c4abee19",
   "metadata": {},
   "source": [
    "95% confident that expenditures for entertainment is (23.25029, 26.58304)."
   ]
  },
  {
   "cell_type": "code",
   "execution_count": 35,
   "id": "ff14bc32",
   "metadata": {},
   "outputs": [
    {
     "data": {
      "text/plain": [
       "24.916666666666668"
      ]
     },
     "execution_count": 35,
     "metadata": {},
     "output_type": "execute_result"
    }
   ],
   "source": [
    "#online shopping\n",
    "mean_shop = np.mean(online_shop)\n",
    "mean_shop"
   ]
  },
  {
   "cell_type": "code",
   "execution_count": 37,
   "id": "fc5f5686",
   "metadata": {},
   "outputs": [
    {
     "data": {
      "text/plain": [
       "2.6226841636427025"
      ]
     },
     "execution_count": 37,
     "metadata": {},
     "output_type": "execute_result"
    }
   ],
   "source": [
    "sd_shop = np.std(online_shop)\n",
    "sd_shop"
   ]
  },
  {
   "cell_type": "code",
   "execution_count": 38,
   "id": "2ef55584",
   "metadata": {},
   "outputs": [
    {
     "data": {
      "text/plain": [
       "(23.250292649652565, 26.58304068368077)"
      ]
     },
     "execution_count": 38,
     "metadata": {},
     "output_type": "execute_result"
    }
   ],
   "source": [
    "stats.t.interval(0.95, len(online_shop) - 1, loc = mean_shop, scale = sd_shop/np.sqrt(len(online_shop)))"
   ]
  },
  {
   "cell_type": "markdown",
   "id": "2a7aa580",
   "metadata": {},
   "source": [
    "95% confident that the expenditures for online shopping is (23.2503, 26.583)."
   ]
  },
  {
   "cell_type": "code",
   "execution_count": 39,
   "id": "cf6011c0",
   "metadata": {},
   "outputs": [
    {
     "data": {
      "text/plain": [
       "67.0"
      ]
     },
     "execution_count": 39,
     "metadata": {},
     "output_type": "execute_result"
    }
   ],
   "source": [
    "#personal care\n",
    "mean_care = np.mean(personal_care)\n",
    "mean_care"
   ]
  },
  {
   "cell_type": "code",
   "execution_count": 40,
   "id": "3bd9f9f7",
   "metadata": {},
   "outputs": [
    {
     "data": {
      "text/plain": [
       "6.888725967444594"
      ]
     },
     "execution_count": 40,
     "metadata": {},
     "output_type": "execute_result"
    }
   ],
   "source": [
    "sd_care = np.std(personal_care)\n",
    "sd_care"
   ]
  },
  {
   "cell_type": "code",
   "execution_count": 43,
   "id": "ebd87d50",
   "metadata": {},
   "outputs": [
    {
     "data": {
      "text/plain": [
       "(62.37209092411135, 71.62790907588865)"
      ]
     },
     "execution_count": 43,
     "metadata": {},
     "output_type": "execute_result"
    }
   ],
   "source": [
    "stats.t.interval(0.95, len(personal_care) - 1, loc = mean_care, scale = sd_care/np.sqrt(len(personal_care)))"
   ]
  },
  {
   "cell_type": "markdown",
   "id": "ffea607d",
   "metadata": {},
   "source": [
    "95% confident that the expenditures for personal care is (62.3721, 71.62791)."
   ]
  },
  {
   "cell_type": "markdown",
   "id": "8272413f",
   "metadata": {},
   "source": [
    "**Analysis 3:** Any significant difference between the amount spent within the different months"
   ]
  },
  {
   "cell_type": "code",
   "execution_count": 37,
   "id": "146397eb",
   "metadata": {},
   "outputs": [
    {
     "data": {
      "text/html": [
       "<div>\n",
       "<style scoped>\n",
       "    .dataframe tbody tr th:only-of-type {\n",
       "        vertical-align: middle;\n",
       "    }\n",
       "\n",
       "    .dataframe tbody tr th {\n",
       "        vertical-align: top;\n",
       "    }\n",
       "\n",
       "    .dataframe thead th {\n",
       "        text-align: right;\n",
       "    }\n",
       "</style>\n",
       "<table border=\"1\" class=\"dataframe\">\n",
       "  <thead>\n",
       "    <tr style=\"text-align: right;\">\n",
       "      <th></th>\n",
       "      <th>Date</th>\n",
       "      <th>Description of Purchase</th>\n",
       "      <th>Category of Purchase</th>\n",
       "      <th>Price</th>\n",
       "      <th>Month</th>\n",
       "    </tr>\n",
       "  </thead>\n",
       "  <tbody>\n",
       "    <tr>\n",
       "      <th>0</th>\n",
       "      <td>2022-01-01</td>\n",
       "      <td>Grocery Store</td>\n",
       "      <td>Groceries</td>\n",
       "      <td>45.67</td>\n",
       "      <td>Jan</td>\n",
       "    </tr>\n",
       "    <tr>\n",
       "      <th>1</th>\n",
       "      <td>2022-01-02</td>\n",
       "      <td>Gas Station</td>\n",
       "      <td>Transportation</td>\n",
       "      <td>35.12</td>\n",
       "      <td>Jan</td>\n",
       "    </tr>\n",
       "    <tr>\n",
       "      <th>2</th>\n",
       "      <td>2022-01-03</td>\n",
       "      <td>Coffee Shop</td>\n",
       "      <td>Dining Out</td>\n",
       "      <td>8.99</td>\n",
       "      <td>Jan</td>\n",
       "    </tr>\n",
       "    <tr>\n",
       "      <th>3</th>\n",
       "      <td>2022-01-04</td>\n",
       "      <td>Movie Theater</td>\n",
       "      <td>Entertainment</td>\n",
       "      <td>22.50</td>\n",
       "      <td>Jan</td>\n",
       "    </tr>\n",
       "    <tr>\n",
       "      <th>4</th>\n",
       "      <td>2022-01-05</td>\n",
       "      <td>Amazon.com</td>\n",
       "      <td>Online Shopping</td>\n",
       "      <td>67.89</td>\n",
       "      <td>Jan</td>\n",
       "    </tr>\n",
       "    <tr>\n",
       "      <th>5</th>\n",
       "      <td>2022-01-06</td>\n",
       "      <td>Hair Salon</td>\n",
       "      <td>Personal Care</td>\n",
       "      <td>55.00</td>\n",
       "      <td>Jan</td>\n",
       "    </tr>\n",
       "    <tr>\n",
       "      <th>6</th>\n",
       "      <td>2022-01-07</td>\n",
       "      <td>Gym Membership</td>\n",
       "      <td>Health/Fitness</td>\n",
       "      <td>80.00</td>\n",
       "      <td>Jan</td>\n",
       "    </tr>\n",
       "    <tr>\n",
       "      <th>7</th>\n",
       "      <td>2022-01-08</td>\n",
       "      <td>Clothing Store</td>\n",
       "      <td>Clothing</td>\n",
       "      <td>112.45</td>\n",
       "      <td>Jan</td>\n",
       "    </tr>\n",
       "    <tr>\n",
       "      <th>8</th>\n",
       "      <td>2022-01-09</td>\n",
       "      <td>Grocery Store</td>\n",
       "      <td>Groceries</td>\n",
       "      <td>23.12</td>\n",
       "      <td>Jan</td>\n",
       "    </tr>\n",
       "    <tr>\n",
       "      <th>9</th>\n",
       "      <td>2022-01-10</td>\n",
       "      <td>Gas Station</td>\n",
       "      <td>Transportation</td>\n",
       "      <td>40.23</td>\n",
       "      <td>Jan</td>\n",
       "    </tr>\n",
       "    <tr>\n",
       "      <th>10</th>\n",
       "      <td>2022-01-11</td>\n",
       "      <td>Coffee Shop</td>\n",
       "      <td>Dining Out</td>\n",
       "      <td>12.99</td>\n",
       "      <td>Jan</td>\n",
       "    </tr>\n",
       "    <tr>\n",
       "      <th>11</th>\n",
       "      <td>2022-01-12</td>\n",
       "      <td>Movie Theater</td>\n",
       "      <td>Entertainment</td>\n",
       "      <td>28.75</td>\n",
       "      <td>Jan</td>\n",
       "    </tr>\n",
       "    <tr>\n",
       "      <th>12</th>\n",
       "      <td>2022-01-13</td>\n",
       "      <td>Amazon.com</td>\n",
       "      <td>Online Shopping</td>\n",
       "      <td>45.67</td>\n",
       "      <td>Jan</td>\n",
       "    </tr>\n",
       "    <tr>\n",
       "      <th>13</th>\n",
       "      <td>2022-01-14</td>\n",
       "      <td>Hair Salon</td>\n",
       "      <td>Personal Care</td>\n",
       "      <td>67.00</td>\n",
       "      <td>Jan</td>\n",
       "    </tr>\n",
       "    <tr>\n",
       "      <th>14</th>\n",
       "      <td>2022-01-15</td>\n",
       "      <td>Gym Membership</td>\n",
       "      <td>Health/Fitness</td>\n",
       "      <td>75.00</td>\n",
       "      <td>Jan</td>\n",
       "    </tr>\n",
       "    <tr>\n",
       "      <th>15</th>\n",
       "      <td>2022-01-16</td>\n",
       "      <td>Clothing Store</td>\n",
       "      <td>Clothing</td>\n",
       "      <td>89.99</td>\n",
       "      <td>Jan</td>\n",
       "    </tr>\n",
       "    <tr>\n",
       "      <th>16</th>\n",
       "      <td>2022-01-17</td>\n",
       "      <td>Grocery Store</td>\n",
       "      <td>Groceries</td>\n",
       "      <td>41.23</td>\n",
       "      <td>Jan</td>\n",
       "    </tr>\n",
       "    <tr>\n",
       "      <th>17</th>\n",
       "      <td>2022-01-18</td>\n",
       "      <td>Gas Station</td>\n",
       "      <td>Transportation</td>\n",
       "      <td>37.12</td>\n",
       "      <td>Jan</td>\n",
       "    </tr>\n",
       "    <tr>\n",
       "      <th>18</th>\n",
       "      <td>2022-01-19</td>\n",
       "      <td>Coffee Shop</td>\n",
       "      <td>Dining Out</td>\n",
       "      <td>9.99</td>\n",
       "      <td>Jan</td>\n",
       "    </tr>\n",
       "    <tr>\n",
       "      <th>19</th>\n",
       "      <td>2022-01-20</td>\n",
       "      <td>Movie Theater</td>\n",
       "      <td>Entertainment</td>\n",
       "      <td>24.50</td>\n",
       "      <td>Jan</td>\n",
       "    </tr>\n",
       "  </tbody>\n",
       "</table>\n",
       "</div>"
      ],
      "text/plain": [
       "         Date Description of Purchase Category of Purchase   Price Month\n",
       "0  2022-01-01           Grocery Store            Groceries   45.67   Jan\n",
       "1  2022-01-02             Gas Station       Transportation   35.12   Jan\n",
       "2  2022-01-03             Coffee Shop           Dining Out    8.99   Jan\n",
       "3  2022-01-04           Movie Theater        Entertainment   22.50   Jan\n",
       "4  2022-01-05              Amazon.com      Online Shopping   67.89   Jan\n",
       "5  2022-01-06              Hair Salon        Personal Care   55.00   Jan\n",
       "6  2022-01-07          Gym Membership       Health/Fitness   80.00   Jan\n",
       "7  2022-01-08          Clothing Store             Clothing  112.45   Jan\n",
       "8  2022-01-09           Grocery Store            Groceries   23.12   Jan\n",
       "9  2022-01-10             Gas Station       Transportation   40.23   Jan\n",
       "10 2022-01-11             Coffee Shop           Dining Out   12.99   Jan\n",
       "11 2022-01-12           Movie Theater        Entertainment   28.75   Jan\n",
       "12 2022-01-13              Amazon.com      Online Shopping   45.67   Jan\n",
       "13 2022-01-14              Hair Salon        Personal Care   67.00   Jan\n",
       "14 2022-01-15          Gym Membership       Health/Fitness   75.00   Jan\n",
       "15 2022-01-16          Clothing Store             Clothing   89.99   Jan\n",
       "16 2022-01-17           Grocery Store            Groceries   41.23   Jan\n",
       "17 2022-01-18             Gas Station       Transportation   37.12   Jan\n",
       "18 2022-01-19             Coffee Shop           Dining Out    9.99   Jan\n",
       "19 2022-01-20           Movie Theater        Entertainment   24.50   Jan"
      ]
     },
     "execution_count": 37,
     "metadata": {},
     "output_type": "execute_result"
    }
   ],
   "source": [
    "transac_data.head(20)"
   ]
  },
  {
   "cell_type": "code",
   "execution_count": 33,
   "id": "e50a8514",
   "metadata": {},
   "outputs": [
    {
     "data": {
      "text/html": [
       "<div>\n",
       "<style scoped>\n",
       "    .dataframe tbody tr th:only-of-type {\n",
       "        vertical-align: middle;\n",
       "    }\n",
       "\n",
       "    .dataframe tbody tr th {\n",
       "        vertical-align: top;\n",
       "    }\n",
       "\n",
       "    .dataframe thead th {\n",
       "        text-align: right;\n",
       "    }\n",
       "</style>\n",
       "<table border=\"1\" class=\"dataframe\">\n",
       "  <thead>\n",
       "    <tr style=\"text-align: right;\">\n",
       "      <th></th>\n",
       "      <th>Date</th>\n",
       "      <th>Description of Purchase</th>\n",
       "      <th>Category of Purchase</th>\n",
       "      <th>Price</th>\n",
       "      <th>Month</th>\n",
       "    </tr>\n",
       "  </thead>\n",
       "  <tbody>\n",
       "    <tr>\n",
       "      <th>0</th>\n",
       "      <td>2022-01-01</td>\n",
       "      <td>Grocery Store</td>\n",
       "      <td>Groceries</td>\n",
       "      <td>45.67</td>\n",
       "      <td>Jan</td>\n",
       "    </tr>\n",
       "    <tr>\n",
       "      <th>1</th>\n",
       "      <td>2022-01-02</td>\n",
       "      <td>Gas Station</td>\n",
       "      <td>Transportation</td>\n",
       "      <td>35.12</td>\n",
       "      <td>Jan</td>\n",
       "    </tr>\n",
       "    <tr>\n",
       "      <th>2</th>\n",
       "      <td>2022-01-03</td>\n",
       "      <td>Coffee Shop</td>\n",
       "      <td>Dining Out</td>\n",
       "      <td>8.99</td>\n",
       "      <td>Jan</td>\n",
       "    </tr>\n",
       "    <tr>\n",
       "      <th>3</th>\n",
       "      <td>2022-01-04</td>\n",
       "      <td>Movie Theater</td>\n",
       "      <td>Entertainment</td>\n",
       "      <td>22.50</td>\n",
       "      <td>Jan</td>\n",
       "    </tr>\n",
       "    <tr>\n",
       "      <th>4</th>\n",
       "      <td>2022-01-05</td>\n",
       "      <td>Amazon.com</td>\n",
       "      <td>Online Shopping</td>\n",
       "      <td>67.89</td>\n",
       "      <td>Jan</td>\n",
       "    </tr>\n",
       "    <tr>\n",
       "      <th>...</th>\n",
       "      <td>...</td>\n",
       "      <td>...</td>\n",
       "      <td>...</td>\n",
       "      <td>...</td>\n",
       "      <td>...</td>\n",
       "    </tr>\n",
       "    <tr>\n",
       "      <th>83</th>\n",
       "      <td>2022-03-26</td>\n",
       "      <td>Gas Station</td>\n",
       "      <td>Transportation</td>\n",
       "      <td>39.56</td>\n",
       "      <td>Mar</td>\n",
       "    </tr>\n",
       "    <tr>\n",
       "      <th>84</th>\n",
       "      <td>2022-03-27</td>\n",
       "      <td>Coffee Shop</td>\n",
       "      <td>Dining Out</td>\n",
       "      <td>12.99</td>\n",
       "      <td>Mar</td>\n",
       "    </tr>\n",
       "    <tr>\n",
       "      <th>85</th>\n",
       "      <td>2022-03-28</td>\n",
       "      <td>Movie Theater</td>\n",
       "      <td>Entertainment</td>\n",
       "      <td>21.75</td>\n",
       "      <td>Mar</td>\n",
       "    </tr>\n",
       "    <tr>\n",
       "      <th>86</th>\n",
       "      <td>2022-03-29</td>\n",
       "      <td>Amazon.com</td>\n",
       "      <td>Online Shopping</td>\n",
       "      <td>36.99</td>\n",
       "      <td>Mar</td>\n",
       "    </tr>\n",
       "    <tr>\n",
       "      <th>87</th>\n",
       "      <td>2022-03-30</td>\n",
       "      <td>Hair Salon</td>\n",
       "      <td>Personal Care</td>\n",
       "      <td>80.00</td>\n",
       "      <td>Mar</td>\n",
       "    </tr>\n",
       "  </tbody>\n",
       "</table>\n",
       "<p>88 rows × 5 columns</p>\n",
       "</div>"
      ],
      "text/plain": [
       "         Date Description of Purchase Category of Purchase  Price Month\n",
       "0  2022-01-01           Grocery Store            Groceries  45.67   Jan\n",
       "1  2022-01-02             Gas Station       Transportation  35.12   Jan\n",
       "2  2022-01-03             Coffee Shop           Dining Out   8.99   Jan\n",
       "3  2022-01-04           Movie Theater        Entertainment  22.50   Jan\n",
       "4  2022-01-05              Amazon.com      Online Shopping  67.89   Jan\n",
       "..        ...                     ...                  ...    ...   ...\n",
       "83 2022-03-26             Gas Station       Transportation  39.56   Mar\n",
       "84 2022-03-27             Coffee Shop           Dining Out  12.99   Mar\n",
       "85 2022-03-28           Movie Theater        Entertainment  21.75   Mar\n",
       "86 2022-03-29              Amazon.com      Online Shopping  36.99   Mar\n",
       "87 2022-03-30              Hair Salon        Personal Care  80.00   Mar\n",
       "\n",
       "[88 rows x 5 columns]"
      ]
     },
     "execution_count": 33,
     "metadata": {},
     "output_type": "execute_result"
    }
   ],
   "source": [
    "#new 'month' column to group transactions in months\n",
    "transac_data['Month'] = transac_data['Date'].dt.strftime('%b')\n",
    "transac_data"
   ]
  },
  {
   "cell_type": "code",
   "execution_count": 34,
   "id": "7be89866",
   "metadata": {},
   "outputs": [
    {
     "data": {
      "text/plain": [
       "0      45.67\n",
       "1      35.12\n",
       "2       8.99\n",
       "3      22.50\n",
       "4      67.89\n",
       "5      55.00\n",
       "6      80.00\n",
       "7     112.45\n",
       "8      23.12\n",
       "9      40.23\n",
       "10     12.99\n",
       "11     28.75\n",
       "12     45.67\n",
       "13     67.00\n",
       "14     75.00\n",
       "15     89.99\n",
       "16     41.23\n",
       "17     37.12\n",
       "18      9.99\n",
       "19     24.50\n",
       "20     78.90\n",
       "21     62.00\n",
       "22     85.00\n",
       "23    102.45\n",
       "24     27.23\n",
       "25     38.23\n",
       "26     10.99\n",
       "27     26.75\n",
       "28     55.67\n",
       "29     71.00\n",
       "Name: Price, dtype: float64"
      ]
     },
     "execution_count": 34,
     "metadata": {},
     "output_type": "execute_result"
    }
   ],
   "source": [
    "january = transac_data[transac_data['Month'] == 'Jan']['Price']\n",
    "january"
   ]
  },
  {
   "cell_type": "code",
   "execution_count": 39,
   "id": "615091a7",
   "metadata": {},
   "outputs": [
    {
     "data": {
      "text/plain": [
       "30     42.89\n",
       "31     30.12\n",
       "32      8.50\n",
       "33     25.00\n",
       "34     68.99\n",
       "35     65.00\n",
       "36     90.00\n",
       "37    110.45\n",
       "38     23.56\n",
       "39     40.23\n",
       "40     12.99\n",
       "41     28.50\n",
       "42     46.67\n",
       "43     72.00\n",
       "44     80.00\n",
       "45     89.99\n",
       "46     37.23\n",
       "47     35.12\n",
       "48      9.99\n",
       "49     22.75\n",
       "50     49.99\n",
       "51     60.00\n",
       "52     85.00\n",
       "53    102.45\n",
       "54     29.23\n",
       "55     38.23\n",
       "56     10.99\n",
       "57     26.75\n",
       "Name: Price, dtype: float64"
      ]
     },
     "execution_count": 39,
     "metadata": {},
     "output_type": "execute_result"
    }
   ],
   "source": [
    "february = transac_data[transac_data['Month'] == 'Feb']['Price']\n",
    "february"
   ]
  },
  {
   "cell_type": "code",
   "execution_count": 40,
   "id": "6d198549",
   "metadata": {},
   "outputs": [
    {
     "data": {
      "text/plain": [
       "58     35.67\n",
       "59     25.42\n",
       "60      7.99\n",
       "61     20.50\n",
       "62     56.78\n",
       "63     62.00\n",
       "64     85.00\n",
       "65     99.95\n",
       "66     28.34\n",
       "67     36.12\n",
       "68     10.99\n",
       "69     23.75\n",
       "70     45.99\n",
       "71     75.00\n",
       "72     90.00\n",
       "73    110.45\n",
       "74     31.23\n",
       "75     29.45\n",
       "76      8.50\n",
       "77     27.50\n",
       "78     62.99\n",
       "79     68.00\n",
       "80     95.00\n",
       "81    112.99\n",
       "82     26.23\n",
       "83     39.56\n",
       "84     12.99\n",
       "85     21.75\n",
       "86     36.99\n",
       "87     80.00\n",
       "Name: Price, dtype: float64"
      ]
     },
     "execution_count": 40,
     "metadata": {},
     "output_type": "execute_result"
    }
   ],
   "source": [
    "march = transac_data[transac_data['Month'] == 'Mar']['Price']\n",
    "march"
   ]
  },
  {
   "cell_type": "code",
   "execution_count": 43,
   "id": "5bb31c37",
   "metadata": {},
   "outputs": [
    {
     "data": {
      "text/plain": [
       "Ttest_indResult(statistic=0.1874935319157287, pvalue=0.8519513883887918)"
      ]
     },
     "execution_count": 43,
     "metadata": {},
     "output_type": "execute_result"
    }
   ],
   "source": [
    "#t-test for jan and feb\n",
    "stats.ttest_ind(january, february, equal_var = True)"
   ]
  },
  {
   "cell_type": "markdown",
   "id": "a0f6dd18",
   "metadata": {},
   "source": [
    "p-value = 0.85195 > 0.05. We do not reject the null hypothesis. There is no significant difference between spendings in January and February."
   ]
  },
  {
   "cell_type": "code",
   "execution_count": 44,
   "id": "4a48f9e1",
   "metadata": {},
   "outputs": [
    {
     "data": {
      "text/plain": [
       "Ttest_indResult(statistic=0.06100748277982143, pvalue=0.9515629896291878)"
      ]
     },
     "execution_count": 44,
     "metadata": {},
     "output_type": "execute_result"
    }
   ],
   "source": [
    "#t test for jan and mar\n",
    "stats.ttest_ind(january, march, equal_var = True)"
   ]
  },
  {
   "cell_type": "markdown",
   "id": "779dada8",
   "metadata": {},
   "source": [
    "p-value = 0.95156 > 0.05. We reject the null hypothesis. There is no significant difference between spendings in January and March."
   ]
  },
  {
   "cell_type": "code",
   "execution_count": 45,
   "id": "b8d1d159",
   "metadata": {},
   "outputs": [
    {
     "data": {
      "text/plain": [
       "Ttest_indResult(statistic=-0.11790105995303116, pvalue=0.9065679300756864)"
      ]
     },
     "execution_count": 45,
     "metadata": {},
     "output_type": "execute_result"
    }
   ],
   "source": [
    "#t test for feb and mar\n",
    "stats.ttest_ind(february, march, equal_var = True)"
   ]
  },
  {
   "cell_type": "markdown",
   "id": "fef1957a",
   "metadata": {},
   "source": [
    "p-value = 0.90657 > 0.05. We reject the null hypothesis. There is no significant difference between spendings in February and March."
   ]
  },
  {
   "cell_type": "code",
   "execution_count": null,
   "id": "6a77454d",
   "metadata": {},
   "outputs": [],
   "source": []
  },
  {
   "cell_type": "markdown",
   "id": "e1f83a31",
   "metadata": {},
   "source": []
  }
 ],
 "metadata": {
  "kernelspec": {
   "display_name": "Python 3 (ipykernel)",
   "language": "python",
   "name": "python3"
  },
  "language_info": {
   "codemirror_mode": {
    "name": "ipython",
    "version": 3
   },
   "file_extension": ".py",
   "mimetype": "text/x-python",
   "name": "python",
   "nbconvert_exporter": "python",
   "pygments_lexer": "ipython3",
   "version": "3.9.13"
  }
 },
 "nbformat": 4,
 "nbformat_minor": 5
}
