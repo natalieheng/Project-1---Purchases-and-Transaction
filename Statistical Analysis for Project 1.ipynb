{
 "cells": [
  {
   "cell_type": "markdown",
   "id": "a156e6b5",
   "metadata": {},
   "source": [
    "For the statistical calculation of the t-test(a significant difference in the categories) just for practice, can maybe use both z and t test (should be able to derive the same ans)"
   ]
  },
  {
   "cell_type": "code",
   "execution_count": 1,
   "id": "144f3127",
   "metadata": {},
   "outputs": [],
   "source": [
    "import numpy as np\n",
    "import pandas as pd\n",
    "from statsmodels.stats import weightstats \n",
    "import scipy.stats as stats"
   ]
  },
  {
   "cell_type": "code",
   "execution_count": 2,
   "id": "ba48ecc2",
   "metadata": {},
   "outputs": [],
   "source": [
    "transac_data = pd.read_csv('Dummy Data (3 months).csv')"
   ]
  },
  {
   "cell_type": "code",
   "execution_count": 9,
   "id": "ab1b241d",
   "metadata": {},
   "outputs": [
    {
     "data": {
      "text/html": [
       "<div>\n",
       "<style scoped>\n",
       "    .dataframe tbody tr th:only-of-type {\n",
       "        vertical-align: middle;\n",
       "    }\n",
       "\n",
       "    .dataframe tbody tr th {\n",
       "        vertical-align: top;\n",
       "    }\n",
       "\n",
       "    .dataframe thead th {\n",
       "        text-align: right;\n",
       "    }\n",
       "</style>\n",
       "<table border=\"1\" class=\"dataframe\">\n",
       "  <thead>\n",
       "    <tr style=\"text-align: right;\">\n",
       "      <th></th>\n",
       "      <th>Date</th>\n",
       "      <th>Description of Purchase</th>\n",
       "      <th>Category of Purchase</th>\n",
       "      <th>Price</th>\n",
       "    </tr>\n",
       "  </thead>\n",
       "  <tbody>\n",
       "    <tr>\n",
       "      <th>0</th>\n",
       "      <td>1/1/22</td>\n",
       "      <td>Grocery Store</td>\n",
       "      <td>Groceries</td>\n",
       "      <td>45.67</td>\n",
       "    </tr>\n",
       "    <tr>\n",
       "      <th>1</th>\n",
       "      <td>2/1/22</td>\n",
       "      <td>Gas Station</td>\n",
       "      <td>Transportation</td>\n",
       "      <td>35.12</td>\n",
       "    </tr>\n",
       "    <tr>\n",
       "      <th>2</th>\n",
       "      <td>3/1/22</td>\n",
       "      <td>Coffee Shop</td>\n",
       "      <td>Dining Out</td>\n",
       "      <td>8.99</td>\n",
       "    </tr>\n",
       "    <tr>\n",
       "      <th>3</th>\n",
       "      <td>4/1/22</td>\n",
       "      <td>Movie Theater</td>\n",
       "      <td>Entertainment</td>\n",
       "      <td>22.50</td>\n",
       "    </tr>\n",
       "    <tr>\n",
       "      <th>4</th>\n",
       "      <td>5/1/22</td>\n",
       "      <td>Amazon.com</td>\n",
       "      <td>Online Shopping</td>\n",
       "      <td>67.89</td>\n",
       "    </tr>\n",
       "    <tr>\n",
       "      <th>5</th>\n",
       "      <td>6/1/22</td>\n",
       "      <td>Hair Salon</td>\n",
       "      <td>Personal Care</td>\n",
       "      <td>55.00</td>\n",
       "    </tr>\n",
       "    <tr>\n",
       "      <th>6</th>\n",
       "      <td>7/1/22</td>\n",
       "      <td>Gym Membership</td>\n",
       "      <td>Health/Fitness</td>\n",
       "      <td>80.00</td>\n",
       "    </tr>\n",
       "    <tr>\n",
       "      <th>7</th>\n",
       "      <td>8/1/22</td>\n",
       "      <td>Clothing Store</td>\n",
       "      <td>Clothing</td>\n",
       "      <td>112.45</td>\n",
       "    </tr>\n",
       "    <tr>\n",
       "      <th>8</th>\n",
       "      <td>9/1/22</td>\n",
       "      <td>Grocery Store</td>\n",
       "      <td>Groceries</td>\n",
       "      <td>23.12</td>\n",
       "    </tr>\n",
       "    <tr>\n",
       "      <th>9</th>\n",
       "      <td>10/1/22</td>\n",
       "      <td>Gas Station</td>\n",
       "      <td>Transportation</td>\n",
       "      <td>40.23</td>\n",
       "    </tr>\n",
       "  </tbody>\n",
       "</table>\n",
       "</div>"
      ],
      "text/plain": [
       "      Date Description of Purchase Category of Purchase  Price \n",
       "0   1/1/22           Grocery Store            Groceries   45.67\n",
       "1   2/1/22             Gas Station       Transportation   35.12\n",
       "2   3/1/22             Coffee Shop           Dining Out    8.99\n",
       "3   4/1/22           Movie Theater        Entertainment   22.50\n",
       "4   5/1/22              Amazon.com      Online Shopping   67.89\n",
       "5   6/1/22              Hair Salon        Personal Care   55.00\n",
       "6   7/1/22          Gym Membership       Health/Fitness   80.00\n",
       "7   8/1/22          Clothing Store             Clothing  112.45\n",
       "8   9/1/22           Grocery Store            Groceries   23.12\n",
       "9  10/1/22             Gas Station       Transportation   40.23"
      ]
     },
     "execution_count": 9,
     "metadata": {},
     "output_type": "execute_result"
    }
   ],
   "source": [
    "transac_data.head(10)"
   ]
  },
  {
   "cell_type": "code",
   "execution_count": 12,
   "id": "5d7e371a",
   "metadata": {},
   "outputs": [],
   "source": [
    "#getting rid of whitespace \n",
    "transac_data.columns = transac_data.columns.str.strip()"
   ]
  },
  {
   "cell_type": "markdown",
   "id": "a3f9bb54",
   "metadata": {},
   "source": [
    "**Analysis 1**: Any significant difference between the amount spent within the different categories"
   ]
  },
  {
   "cell_type": "markdown",
   "id": "cfc32095",
   "metadata": {},
   "source": [
    "Categories: Groceries, Transportation, Dining Out, Entertainment, Online Shopping, Personal Care "
   ]
  },
  {
   "cell_type": "code",
   "execution_count": 13,
   "id": "3c22dc06",
   "metadata": {},
   "outputs": [
    {
     "data": {
      "text/plain": [
       "0     45.67\n",
       "8     23.12\n",
       "16    41.23\n",
       "24    27.23\n",
       "30    42.89\n",
       "38    23.56\n",
       "46    37.23\n",
       "54    29.23\n",
       "58    35.67\n",
       "66    28.34\n",
       "74    31.23\n",
       "82    26.23\n",
       "Name: Price, dtype: float64"
      ]
     },
     "execution_count": 13,
     "metadata": {},
     "output_type": "execute_result"
    }
   ],
   "source": [
    "#filtered item for groceries\n",
    "groceries = transac_data[transac_data['Category of Purchase']== 'Groceries']['Price']\n",
    "groceries"
   ]
  },
  {
   "cell_type": "code",
   "execution_count": 14,
   "id": "17ede412",
   "metadata": {},
   "outputs": [
    {
     "data": {
      "text/plain": [
       "1     35.12\n",
       "9     40.23\n",
       "17    37.12\n",
       "25    38.23\n",
       "31    30.12\n",
       "39    40.23\n",
       "47    35.12\n",
       "55    38.23\n",
       "59    25.42\n",
       "67    36.12\n",
       "75    29.45\n",
       "83    39.56\n",
       "Name: Price, dtype: float64"
      ]
     },
     "execution_count": 14,
     "metadata": {},
     "output_type": "execute_result"
    }
   ],
   "source": [
    "#filtered item for Transportation\n",
    "transportation = transac_data[transac_data['Category of Purchase']== 'Transportation']['Price']\n",
    "transportation"
   ]
  },
  {
   "cell_type": "code",
   "execution_count": 15,
   "id": "62edd5c1",
   "metadata": {},
   "outputs": [
    {
     "data": {
      "text/plain": [
       "2      8.99\n",
       "10    12.99\n",
       "18     9.99\n",
       "26    10.99\n",
       "32     8.50\n",
       "40    12.99\n",
       "48     9.99\n",
       "56    10.99\n",
       "60     7.99\n",
       "68    10.99\n",
       "76     8.50\n",
       "84    12.99\n",
       "Name: Price, dtype: float64"
      ]
     },
     "execution_count": 15,
     "metadata": {},
     "output_type": "execute_result"
    }
   ],
   "source": [
    "#filtered item for Dining Out\n",
    "dining_out = transac_data[transac_data['Category of Purchase']== 'Dining Out']['Price']\n",
    "dining_out"
   ]
  },
  {
   "cell_type": "code",
   "execution_count": 16,
   "id": "22407b5c",
   "metadata": {},
   "outputs": [
    {
     "data": {
      "text/plain": [
       "3     22.50\n",
       "11    28.75\n",
       "19    24.50\n",
       "27    26.75\n",
       "33    25.00\n",
       "41    28.50\n",
       "49    22.75\n",
       "57    26.75\n",
       "61    20.50\n",
       "69    23.75\n",
       "77    27.50\n",
       "85    21.75\n",
       "Name: Price, dtype: float64"
      ]
     },
     "execution_count": 16,
     "metadata": {},
     "output_type": "execute_result"
    }
   ],
   "source": [
    "#filtered item for Entertainment\n",
    "entertainment = transac_data[transac_data['Category of Purchase']== 'Entertainment']['Price']\n",
    "entertainment"
   ]
  },
  {
   "cell_type": "code",
   "execution_count": 20,
   "id": "5c9f760c",
   "metadata": {},
   "outputs": [
    {
     "data": {
      "text/plain": [
       "3     22.50\n",
       "11    28.75\n",
       "19    24.50\n",
       "27    26.75\n",
       "33    25.00\n",
       "41    28.50\n",
       "49    22.75\n",
       "57    26.75\n",
       "61    20.50\n",
       "69    23.75\n",
       "77    27.50\n",
       "85    21.75\n",
       "Name: Price, dtype: float64"
      ]
     },
     "execution_count": 20,
     "metadata": {},
     "output_type": "execute_result"
    }
   ],
   "source": [
    "#filtered item for Online Shopping\n",
    "online_shop = transac_data[transac_data['Category of Purchase'] == 'Entertainment']['Price']\n",
    "online_shop"
   ]
  },
  {
   "cell_type": "code",
   "execution_count": 22,
   "id": "073e9f44",
   "metadata": {},
   "outputs": [
    {
     "data": {
      "text/plain": [
       "5     55.0\n",
       "13    67.0\n",
       "21    62.0\n",
       "29    71.0\n",
       "35    65.0\n",
       "43    72.0\n",
       "51    60.0\n",
       "63    62.0\n",
       "71    75.0\n",
       "79    68.0\n",
       "87    80.0\n",
       "Name: Price, dtype: float64"
      ]
     },
     "execution_count": 22,
     "metadata": {},
     "output_type": "execute_result"
    }
   ],
   "source": [
    "#filtered item for Personal Care\n",
    "personal_care = transac_data[transac_data['Category of Purchase'] == 'Personal Care']['Price']\n",
    "personal_care"
   ]
  },
  {
   "cell_type": "code",
   "execution_count": null,
   "id": "14be8847",
   "metadata": {},
   "outputs": [],
   "source": []
  }
 ],
 "metadata": {
  "kernelspec": {
   "display_name": "Python 3 (ipykernel)",
   "language": "python",
   "name": "python3"
  },
  "language_info": {
   "codemirror_mode": {
    "name": "ipython",
    "version": 3
   },
   "file_extension": ".py",
   "mimetype": "text/x-python",
   "name": "python",
   "nbconvert_exporter": "python",
   "pygments_lexer": "ipython3",
   "version": "3.9.13"
  }
 },
 "nbformat": 4,
 "nbformat_minor": 5
}
