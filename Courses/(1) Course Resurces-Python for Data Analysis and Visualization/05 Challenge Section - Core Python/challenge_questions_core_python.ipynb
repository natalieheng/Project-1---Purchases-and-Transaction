{
 "cells": [
  {
   "cell_type": "markdown",
   "id": "fad1607b",
   "metadata": {},
   "source": [
    "# Challenge Questions - Core Python"
   ]
  },
  {
   "cell_type": "markdown",
   "id": "357a4035",
   "metadata": {},
   "source": [
    "# Instructions:\n",
    "• Please ensure you don't overwrite any existing cells. Add new cells below by pressing ALT+ENTER\n",
    "\n",
    "• Attempt all of the questions\n",
    "\n",
    "• You are encouraged to look online for help should you need it"
   ]
  },
  {
   "cell_type": "markdown",
   "id": "a216156e",
   "metadata": {},
   "source": [
    "# "
   ]
  },
  {
   "cell_type": "markdown",
   "id": "fabc79f4",
   "metadata": {},
   "source": [
    "## Q1: In the cell below variable \"name\" generates a random name. The variable \"score\" generates a random score.\n",
    "### • If the score is greater than or equal to 70 I want you to print:\n",
    "#### f\" {name} perfomed really well in the test and got a score of {score}\"\n",
    "### • If the score is equal to or above 50 but less than 70 print:\n",
    "#### f\" {name} passed the test and got a score of {score}\"\n",
    "### • If the score is less than 50 print:\n",
    "#### f\" {name} failed the test with a score of {score}\""
   ]
  },
  {
   "cell_type": "code",
   "execution_count": null,
   "id": "0187b52a",
   "metadata": {},
   "outputs": [],
   "source": [
    "# run this cell first - DO NOT OVERWRITE\n",
    "import random\n",
    "name = random.choice(['Meera','Ben','John','Anand'])\n",
    "score = random.randint(0,100)"
   ]
  },
  {
   "cell_type": "code",
   "execution_count": null,
   "id": "d5e40856",
   "metadata": {},
   "outputs": [],
   "source": [
    "# Write your solution here\n"
   ]
  },
  {
   "cell_type": "code",
   "execution_count": null,
   "id": "6b7ffc8f",
   "metadata": {},
   "outputs": [],
   "source": []
  },
  {
   "cell_type": "code",
   "execution_count": null,
   "id": "15b12bc5",
   "metadata": {},
   "outputs": [],
   "source": []
  },
  {
   "cell_type": "markdown",
   "id": "1552d74e",
   "metadata": {},
   "source": [
    "## Q2: Use indexing to return 'Ford' from the variable x below"
   ]
  },
  {
   "cell_type": "code",
   "execution_count": null,
   "id": "d087ea67",
   "metadata": {},
   "outputs": [],
   "source": [
    "# Run this cell first\n",
    "x = [1,2,{'car':'Ford'},'Hello']"
   ]
  },
  {
   "cell_type": "code",
   "execution_count": null,
   "id": "5a6cea6e",
   "metadata": {},
   "outputs": [],
   "source": [
    "# Write your solution here"
   ]
  },
  {
   "cell_type": "code",
   "execution_count": null,
   "id": "ff823ab4",
   "metadata": {},
   "outputs": [],
   "source": []
  },
  {
   "cell_type": "code",
   "execution_count": null,
   "id": "09717d89",
   "metadata": {},
   "outputs": [],
   "source": []
  },
  {
   "cell_type": "markdown",
   "id": "35a5b3b9",
   "metadata": {},
   "source": [
    "## Q3: Use slicing to return [2,3,4] from the variable x below"
   ]
  },
  {
   "cell_type": "code",
   "execution_count": null,
   "id": "1297038b",
   "metadata": {},
   "outputs": [],
   "source": [
    "# Run this cell first\n",
    "x = [1,2,3,(1,2,[1,2,3,4,5],3,2,1,[1,2])]"
   ]
  },
  {
   "cell_type": "code",
   "execution_count": null,
   "id": "b86261c2",
   "metadata": {},
   "outputs": [],
   "source": [
    "# Write your solution here\n"
   ]
  },
  {
   "cell_type": "code",
   "execution_count": null,
   "id": "037d6dc5",
   "metadata": {},
   "outputs": [],
   "source": []
  },
  {
   "cell_type": "code",
   "execution_count": null,
   "id": "b39b36e9",
   "metadata": {},
   "outputs": [],
   "source": []
  },
  {
   "cell_type": "markdown",
   "id": "790fa78c",
   "metadata": {},
   "source": [
    "## Q4: The last 3 characters in each element of the object \"codes\" below are 2 digit alpha codes representing a country. Extract these codes into a new list called alpha2 "
   ]
  },
  {
   "cell_type": "code",
   "execution_count": null,
   "id": "a7c3f034",
   "metadata": {},
   "outputs": [],
   "source": [
    "# Run this cell first\n",
    "codes = ['826GBR','840USA','276DEU','818EGY','250FRA']"
   ]
  },
  {
   "cell_type": "code",
   "execution_count": null,
   "id": "2ec2d387",
   "metadata": {},
   "outputs": [],
   "source": [
    "# Write your solution here\n"
   ]
  },
  {
   "cell_type": "code",
   "execution_count": null,
   "id": "0c1cc631",
   "metadata": {},
   "outputs": [],
   "source": []
  },
  {
   "cell_type": "code",
   "execution_count": null,
   "id": "64701a34",
   "metadata": {},
   "outputs": [],
   "source": []
  },
  {
   "cell_type": "markdown",
   "id": "14f98f6d",
   "metadata": {},
   "source": [
    "## Q5: Return the list names with all elements in uppercase"
   ]
  },
  {
   "cell_type": "code",
   "execution_count": null,
   "id": "a7d1ba19",
   "metadata": {},
   "outputs": [],
   "source": [
    "# Run this cell first\n",
    "names=['Sophie', 'Mark','Susan','Jerome','Roger','Sunita','Boris','Steve']"
   ]
  },
  {
   "cell_type": "code",
   "execution_count": null,
   "id": "4a9cd1b4",
   "metadata": {},
   "outputs": [],
   "source": [
    "# Write your solution here\n"
   ]
  },
  {
   "cell_type": "code",
   "execution_count": null,
   "id": "baffb225",
   "metadata": {},
   "outputs": [],
   "source": []
  },
  {
   "cell_type": "code",
   "execution_count": null,
   "id": "a2366a02",
   "metadata": {},
   "outputs": [],
   "source": []
  },
  {
   "cell_type": "markdown",
   "id": "5b14b4e3",
   "metadata": {},
   "source": [
    "## Q6:  Find a way to filter the elements of list_1 to only include integers. Assign this new list to the variable whole_numbers"
   ]
  },
  {
   "cell_type": "code",
   "execution_count": null,
   "id": "1b8c3528",
   "metadata": {},
   "outputs": [],
   "source": [
    "# Run this cell first\n",
    "list_1 = [1,2,3,4,'Helena',9,2.8724,4,2,'Rick',{'name':'John'}]"
   ]
  },
  {
   "cell_type": "code",
   "execution_count": null,
   "id": "b9e26c9e",
   "metadata": {},
   "outputs": [],
   "source": [
    "# Write your solution here\n"
   ]
  },
  {
   "cell_type": "code",
   "execution_count": null,
   "id": "c9b27ad2",
   "metadata": {},
   "outputs": [],
   "source": []
  },
  {
   "cell_type": "code",
   "execution_count": null,
   "id": "bab813f1",
   "metadata": {},
   "outputs": [],
   "source": []
  },
  {
   "cell_type": "markdown",
   "id": "20c942dc",
   "metadata": {},
   "source": [
    "## Q7: Create a function called str_tup_list, it should take one argument. \n",
    "#### • If you pass in a list then it sorts and returns the elements in the list in ascending order\n",
    "#### • If you pass in a tuple then it returns the length of the tuple\n",
    "#### • If you pass in a string then it returns the string in uppercase\n",
    "#### • For any other data types it should print 'This is not a string, tuple or list'"
   ]
  },
  {
   "cell_type": "code",
   "execution_count": null,
   "id": "e76613e1",
   "metadata": {},
   "outputs": [],
   "source": [
    "# Create your function here\n"
   ]
  },
  {
   "cell_type": "code",
   "execution_count": null,
   "id": "79c7cc68",
   "metadata": {},
   "outputs": [],
   "source": [
    "# Test your function here\n"
   ]
  },
  {
   "cell_type": "code",
   "execution_count": null,
   "id": "40dde9ab",
   "metadata": {},
   "outputs": [],
   "source": []
  },
  {
   "cell_type": "code",
   "execution_count": null,
   "id": "c5feced9",
   "metadata": {},
   "outputs": [],
   "source": []
  },
  {
   "cell_type": "markdown",
   "id": "44410426",
   "metadata": {},
   "source": [
    "## Q8: I want you to implement a function that can take a string value as an argument and returns True if that string contains any numbers. Call this function num_check. You do not need to add control flow to check the argument.\n",
    "\n",
    "\n",
    "#### Note: Research the method isnumeric() for this solution: https://docs.python.org/3/library/stdtypes.html\n",
    "#### A big part of becoming a better developer is being able to look up and apply functions you haven't used before"
   ]
  },
  {
   "cell_type": "code",
   "execution_count": null,
   "id": "30b6054d",
   "metadata": {},
   "outputs": [],
   "source": [
    "# Create your function here\n"
   ]
  },
  {
   "cell_type": "code",
   "execution_count": null,
   "id": "11515cbc",
   "metadata": {},
   "outputs": [],
   "source": [
    "# Test your function here\n"
   ]
  },
  {
   "cell_type": "code",
   "execution_count": null,
   "id": "b3dc9a66",
   "metadata": {},
   "outputs": [],
   "source": []
  },
  {
   "cell_type": "code",
   "execution_count": null,
   "id": "54ca11eb",
   "metadata": {},
   "outputs": [],
   "source": []
  },
  {
   "cell_type": "markdown",
   "id": "d83df6c6",
   "metadata": {},
   "source": [
    "## Q9: The below list contains information about a person, their age and favourite color. The information for each person is contained in a tuple.\n",
    "## Filter this list so that it only contains the information for people who's favourite color is blue"
   ]
  },
  {
   "cell_type": "code",
   "execution_count": null,
   "id": "3a44de7e",
   "metadata": {},
   "outputs": [],
   "source": [
    "# Run this cell first\n",
    "person = [('Andrew',39,'Blue'),('Ross',48,'Red'),('Sarah',19,'Yellow'),('Meena',42,'Orange'),('Sophue',28,'Blue')]"
   ]
  },
  {
   "cell_type": "code",
   "execution_count": null,
   "id": "1c9420f1",
   "metadata": {},
   "outputs": [],
   "source": [
    "# Write your solution here\n"
   ]
  },
  {
   "cell_type": "code",
   "execution_count": null,
   "id": "c379d905",
   "metadata": {},
   "outputs": [],
   "source": []
  },
  {
   "cell_type": "code",
   "execution_count": null,
   "id": "d899b3a7",
   "metadata": {},
   "outputs": [],
   "source": []
  },
  {
   "cell_type": "markdown",
   "id": "a995ba7d",
   "metadata": {},
   "source": [
    "## Bonus Question : Add Control Flow to the below Function to ensure that the user inputs an integer before advancing to the next step"
   ]
  },
  {
   "cell_type": "code",
   "execution_count": null,
   "id": "4f6ca47c",
   "metadata": {},
   "outputs": [],
   "source": [
    "# Modify this function, you can copy it in the cell below\n",
    "def create_ranged_list():\n",
    "    x = int(input('Please select a start parameter'))\n",
    "    y = int(input('Please select a stop parameter'))\n",
    "    z = int(input('Please select a step parameter'))\n",
    "    return list(range(x,y,z))"
   ]
  },
  {
   "cell_type": "code",
   "execution_count": null,
   "id": "7d936e93",
   "metadata": {},
   "outputs": [],
   "source": [
    "# Create your function here\n"
   ]
  },
  {
   "cell_type": "code",
   "execution_count": null,
   "id": "117281a0",
   "metadata": {},
   "outputs": [],
   "source": [
    "# Test the function here\n"
   ]
  },
  {
   "cell_type": "code",
   "execution_count": null,
   "id": "f9fd216b",
   "metadata": {},
   "outputs": [],
   "source": []
  },
  {
   "cell_type": "code",
   "execution_count": null,
   "id": "6eb08e9f",
   "metadata": {},
   "outputs": [],
   "source": []
  }
 ],
 "metadata": {
  "kernelspec": {
   "display_name": "Python 3 (ipykernel)",
   "language": "python",
   "name": "python3"
  },
  "language_info": {
   "codemirror_mode": {
    "name": "ipython",
    "version": 3
   },
   "file_extension": ".py",
   "mimetype": "text/x-python",
   "name": "python",
   "nbconvert_exporter": "python",
   "pygments_lexer": "ipython3",
   "version": "3.9.7"
  }
 },
 "nbformat": 4,
 "nbformat_minor": 5
}
