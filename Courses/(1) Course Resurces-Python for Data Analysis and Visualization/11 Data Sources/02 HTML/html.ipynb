{
 "cells": [
  {
   "cell_type": "markdown",
   "id": "f3b5e845",
   "metadata": {},
   "source": [
    "# HTML\n",
    "read_html: https://pandas.pydata.org/docs/reference/api/pandas.read_html.html"
   ]
  },
  {
   "cell_type": "code",
   "execution_count": 1,
   "id": "fcd1f00d",
   "metadata": {},
   "outputs": [],
   "source": [
    "import pandas as pd"
   ]
  },
  {
   "cell_type": "code",
   "execution_count": 2,
   "id": "db442a6d",
   "metadata": {},
   "outputs": [],
   "source": [
    "url = 'https://en.wikipedia.org/wiki/List_of_highest-grossing_films'"
   ]
  },
  {
   "cell_type": "code",
   "execution_count": 3,
   "id": "14867fdc",
   "metadata": {},
   "outputs": [],
   "source": [
    "movies = pd.read_html(url)"
   ]
  },
  {
   "cell_type": "code",
   "execution_count": 4,
   "id": "25f7aa56",
   "metadata": {},
   "outputs": [
    {
     "data": {
      "text/html": [
       "<div>\n",
       "<style scoped>\n",
       "    .dataframe tbody tr th:only-of-type {\n",
       "        vertical-align: middle;\n",
       "    }\n",
       "\n",
       "    .dataframe tbody tr th {\n",
       "        vertical-align: top;\n",
       "    }\n",
       "\n",
       "    .dataframe thead th {\n",
       "        text-align: right;\n",
       "    }\n",
       "</style>\n",
       "<table border=\"1\" class=\"dataframe\">\n",
       "  <thead>\n",
       "    <tr style=\"text-align: right;\">\n",
       "      <th></th>\n",
       "      <th>Year</th>\n",
       "      <th>Title</th>\n",
       "      <th>Worldwide gross</th>\n",
       "      <th>Budget</th>\n",
       "      <th>Reference(s)</th>\n",
       "    </tr>\n",
       "  </thead>\n",
       "  <tbody>\n",
       "    <tr>\n",
       "      <th>0</th>\n",
       "      <td>1915</td>\n",
       "      <td>The Birth of a Nation</td>\n",
       "      <td>$50,000,000–100,000,000$20,000,000+R ($5,200,0...</td>\n",
       "      <td>$110,000</td>\n",
       "      <td>[# 82][# 83][# 84]</td>\n",
       "    </tr>\n",
       "    <tr>\n",
       "      <th>1</th>\n",
       "      <td>1916</td>\n",
       "      <td>Intolerance</td>\n",
       "      <td>$1,000,000*R IN</td>\n",
       "      <td>$489,653</td>\n",
       "      <td>[# 85][# 86]</td>\n",
       "    </tr>\n",
       "    <tr>\n",
       "      <th>2</th>\n",
       "      <td>1917</td>\n",
       "      <td>Cleopatra</td>\n",
       "      <td>$500,000*R</td>\n",
       "      <td>$300,000</td>\n",
       "      <td>[# 85]</td>\n",
       "    </tr>\n",
       "    <tr>\n",
       "      <th>3</th>\n",
       "      <td>1918</td>\n",
       "      <td>Mickey</td>\n",
       "      <td>$8,000,000</td>\n",
       "      <td>$250,000</td>\n",
       "      <td>[# 87]</td>\n",
       "    </tr>\n",
       "    <tr>\n",
       "      <th>4</th>\n",
       "      <td>1919</td>\n",
       "      <td>The Miracle Man</td>\n",
       "      <td>$3,000,000R</td>\n",
       "      <td>$120,000</td>\n",
       "      <td>[# 88]</td>\n",
       "    </tr>\n",
       "  </tbody>\n",
       "</table>\n",
       "</div>"
      ],
      "text/plain": [
       "   Year                  Title  \\\n",
       "0  1915  The Birth of a Nation   \n",
       "1  1916            Intolerance   \n",
       "2  1917              Cleopatra   \n",
       "3  1918                 Mickey   \n",
       "4  1919        The Miracle Man   \n",
       "\n",
       "                                     Worldwide gross    Budget  \\\n",
       "0  $50,000,000–100,000,000$20,000,000+R ($5,200,0...  $110,000   \n",
       "1                                    $1,000,000*R IN  $489,653   \n",
       "2                                         $500,000*R  $300,000   \n",
       "3                                         $8,000,000  $250,000   \n",
       "4                                        $3,000,000R  $120,000   \n",
       "\n",
       "         Reference(s)  \n",
       "0  [# 82][# 83][# 84]  \n",
       "1        [# 85][# 86]  \n",
       "2              [# 85]  \n",
       "3              [# 87]  \n",
       "4              [# 88]  "
      ]
     },
     "execution_count": 4,
     "metadata": {},
     "output_type": "execute_result"
    }
   ],
   "source": [
    "movies[2].head()"
   ]
  },
  {
   "cell_type": "code",
   "execution_count": 5,
   "id": "2d8321e4",
   "metadata": {},
   "outputs": [],
   "source": [
    "# Specify match argument to filter results based on text matching the target table\n",
    "\n",
    "movies = pd.read_html(url, match='High-grossing films by year of release')"
   ]
  },
  {
   "cell_type": "code",
   "execution_count": 6,
   "id": "e17fe985",
   "metadata": {},
   "outputs": [
    {
     "data": {
      "text/plain": [
       "list"
      ]
     },
     "execution_count": 6,
     "metadata": {},
     "output_type": "execute_result"
    }
   ],
   "source": [
    "type(movies)"
   ]
  },
  {
   "cell_type": "code",
   "execution_count": 7,
   "id": "b79051a6",
   "metadata": {},
   "outputs": [
    {
     "data": {
      "text/html": [
       "<div>\n",
       "<style scoped>\n",
       "    .dataframe tbody tr th:only-of-type {\n",
       "        vertical-align: middle;\n",
       "    }\n",
       "\n",
       "    .dataframe tbody tr th {\n",
       "        vertical-align: top;\n",
       "    }\n",
       "\n",
       "    .dataframe thead th {\n",
       "        text-align: right;\n",
       "    }\n",
       "</style>\n",
       "<table border=\"1\" class=\"dataframe\">\n",
       "  <thead>\n",
       "    <tr style=\"text-align: right;\">\n",
       "      <th></th>\n",
       "      <th>Year</th>\n",
       "      <th>Title</th>\n",
       "      <th>Worldwide gross</th>\n",
       "      <th>Budget</th>\n",
       "      <th>Reference(s)</th>\n",
       "    </tr>\n",
       "  </thead>\n",
       "  <tbody>\n",
       "    <tr>\n",
       "      <th>0</th>\n",
       "      <td>1915</td>\n",
       "      <td>The Birth of a Nation</td>\n",
       "      <td>$50,000,000–100,000,000$20,000,000+R ($5,200,0...</td>\n",
       "      <td>$110,000</td>\n",
       "      <td>[# 82][# 83][# 84]</td>\n",
       "    </tr>\n",
       "    <tr>\n",
       "      <th>1</th>\n",
       "      <td>1916</td>\n",
       "      <td>Intolerance</td>\n",
       "      <td>$1,000,000*R IN</td>\n",
       "      <td>$489,653</td>\n",
       "      <td>[# 85][# 86]</td>\n",
       "    </tr>\n",
       "    <tr>\n",
       "      <th>2</th>\n",
       "      <td>1917</td>\n",
       "      <td>Cleopatra</td>\n",
       "      <td>$500,000*R</td>\n",
       "      <td>$300,000</td>\n",
       "      <td>[# 85]</td>\n",
       "    </tr>\n",
       "    <tr>\n",
       "      <th>3</th>\n",
       "      <td>1918</td>\n",
       "      <td>Mickey</td>\n",
       "      <td>$8,000,000</td>\n",
       "      <td>$250,000</td>\n",
       "      <td>[# 87]</td>\n",
       "    </tr>\n",
       "    <tr>\n",
       "      <th>4</th>\n",
       "      <td>1919</td>\n",
       "      <td>The Miracle Man</td>\n",
       "      <td>$3,000,000R</td>\n",
       "      <td>$120,000</td>\n",
       "      <td>[# 88]</td>\n",
       "    </tr>\n",
       "  </tbody>\n",
       "</table>\n",
       "</div>"
      ],
      "text/plain": [
       "   Year                  Title  \\\n",
       "0  1915  The Birth of a Nation   \n",
       "1  1916            Intolerance   \n",
       "2  1917              Cleopatra   \n",
       "3  1918                 Mickey   \n",
       "4  1919        The Miracle Man   \n",
       "\n",
       "                                     Worldwide gross    Budget  \\\n",
       "0  $50,000,000–100,000,000$20,000,000+R ($5,200,0...  $110,000   \n",
       "1                                    $1,000,000*R IN  $489,653   \n",
       "2                                         $500,000*R  $300,000   \n",
       "3                                         $8,000,000  $250,000   \n",
       "4                                        $3,000,000R  $120,000   \n",
       "\n",
       "         Reference(s)  \n",
       "0  [# 82][# 83][# 84]  \n",
       "1        [# 85][# 86]  \n",
       "2              [# 85]  \n",
       "3              [# 87]  \n",
       "4              [# 88]  "
      ]
     },
     "execution_count": 7,
     "metadata": {},
     "output_type": "execute_result"
    }
   ],
   "source": [
    "movies[0].head()"
   ]
  }
 ],
 "metadata": {
  "kernelspec": {
   "display_name": "Python 3 (ipykernel)",
   "language": "python",
   "name": "python3"
  },
  "language_info": {
   "codemirror_mode": {
    "name": "ipython",
    "version": 3
   },
   "file_extension": ".py",
   "mimetype": "text/x-python",
   "name": "python",
   "nbconvert_exporter": "python",
   "pygments_lexer": "ipython3",
   "version": "3.9.7"
  }
 },
 "nbformat": 4,
 "nbformat_minor": 5
}
