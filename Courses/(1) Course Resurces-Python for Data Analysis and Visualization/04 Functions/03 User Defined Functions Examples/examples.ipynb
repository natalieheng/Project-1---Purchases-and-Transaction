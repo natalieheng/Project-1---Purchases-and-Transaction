{
 "cells": [
  {
   "cell_type": "markdown",
   "id": "e548b769",
   "metadata": {},
   "source": [
    "# Examples"
   ]
  },
  {
   "cell_type": "markdown",
   "id": "0fe72b00",
   "metadata": {},
   "source": [
    "### Example 1"
   ]
  },
  {
   "cell_type": "code",
   "execution_count": 1,
   "id": "fe1e7940",
   "metadata": {},
   "outputs": [],
   "source": [
    "list_1=[3,10,11,3]"
   ]
  },
  {
   "cell_type": "code",
   "execution_count": 2,
   "id": "171d1e4a",
   "metadata": {},
   "outputs": [
    {
     "data": {
      "text/plain": [
       "6.75"
      ]
     },
     "execution_count": 2,
     "metadata": {},
     "output_type": "execute_result"
    }
   ],
   "source": [
    "sum(list_1)/len(list_1)"
   ]
  },
  {
   "cell_type": "code",
   "execution_count": 3,
   "id": "d7758cf7",
   "metadata": {},
   "outputs": [],
   "source": [
    "# Creating a function that calculates the average values of elements in a list, tuple or set\n",
    "def avg(x):\n",
    "    return sum(x)/len(x)"
   ]
  },
  {
   "cell_type": "code",
   "execution_count": 4,
   "id": "f6e6ee1e",
   "metadata": {},
   "outputs": [
    {
     "data": {
      "text/plain": [
       "6.75"
      ]
     },
     "execution_count": 4,
     "metadata": {},
     "output_type": "execute_result"
    }
   ],
   "source": [
    "avg(list_1)"
   ]
  },
  {
   "cell_type": "code",
   "execution_count": 5,
   "id": "ddf8f411",
   "metadata": {},
   "outputs": [
    {
     "ename": "TypeError",
     "evalue": "unsupported operand type(s) for +: 'int' and 'str'",
     "output_type": "error",
     "traceback": [
      "\u001b[0;31m---------------------------------------------------------------------------\u001b[0m",
      "\u001b[0;31mTypeError\u001b[0m                                 Traceback (most recent call last)",
      "\u001b[0;32m/var/folders/yg/s7srppzj68gg2kxw49gsgbyr0000gn/T/ipykernel_50369/2469538583.py\u001b[0m in \u001b[0;36m<module>\u001b[0;34m\u001b[0m\n\u001b[0;32m----> 1\u001b[0;31m \u001b[0mavg\u001b[0m\u001b[0;34m(\u001b[0m\u001b[0;34m'hello'\u001b[0m\u001b[0;34m)\u001b[0m\u001b[0;34m\u001b[0m\u001b[0;34m\u001b[0m\u001b[0m\n\u001b[0m",
      "\u001b[0;32m/var/folders/yg/s7srppzj68gg2kxw49gsgbyr0000gn/T/ipykernel_50369/1933844195.py\u001b[0m in \u001b[0;36mavg\u001b[0;34m(x)\u001b[0m\n\u001b[1;32m      1\u001b[0m \u001b[0;31m# Creating a function that calculates the average values of elements in a list, tuple or set\u001b[0m\u001b[0;34m\u001b[0m\u001b[0;34m\u001b[0m\u001b[0m\n\u001b[1;32m      2\u001b[0m \u001b[0;32mdef\u001b[0m \u001b[0mavg\u001b[0m\u001b[0;34m(\u001b[0m\u001b[0mx\u001b[0m\u001b[0;34m)\u001b[0m\u001b[0;34m:\u001b[0m\u001b[0;34m\u001b[0m\u001b[0;34m\u001b[0m\u001b[0m\n\u001b[0;32m----> 3\u001b[0;31m     \u001b[0;32mreturn\u001b[0m \u001b[0msum\u001b[0m\u001b[0;34m(\u001b[0m\u001b[0mx\u001b[0m\u001b[0;34m)\u001b[0m\u001b[0;34m/\u001b[0m\u001b[0mlen\u001b[0m\u001b[0;34m(\u001b[0m\u001b[0mx\u001b[0m\u001b[0;34m)\u001b[0m\u001b[0;34m\u001b[0m\u001b[0;34m\u001b[0m\u001b[0m\n\u001b[0m",
      "\u001b[0;31mTypeError\u001b[0m: unsupported operand type(s) for +: 'int' and 'str'"
     ]
    }
   ],
   "source": [
    "avg('hello')"
   ]
  },
  {
   "cell_type": "code",
   "execution_count": 6,
   "id": "fd017365",
   "metadata": {},
   "outputs": [],
   "source": [
    "# Introducing control flow to the avg() function to ensure the correct data type is passed in\n",
    "def avg(x):\n",
    "    if type(x) in [list,tuple,set]:\n",
    "        return sum(x)/len(x)\n",
    "    else:\n",
    "        print('please pass in a list, tuple or set')"
   ]
  },
  {
   "cell_type": "code",
   "execution_count": 7,
   "id": "0354a15b",
   "metadata": {},
   "outputs": [
    {
     "name": "stdout",
     "output_type": "stream",
     "text": [
      "please pass in a list, tuple or set\n"
     ]
    }
   ],
   "source": [
    "avg('hello')"
   ]
  },
  {
   "cell_type": "code",
   "execution_count": 8,
   "id": "e0d3cdde",
   "metadata": {},
   "outputs": [
    {
     "data": {
      "text/plain": [
       "6.75"
      ]
     },
     "execution_count": 8,
     "metadata": {},
     "output_type": "execute_result"
    }
   ],
   "source": [
    "avg(list_1)"
   ]
  },
  {
   "cell_type": "markdown",
   "id": "151b5aae",
   "metadata": {},
   "source": [
    "### Example 2"
   ]
  },
  {
   "cell_type": "code",
   "execution_count": 9,
   "id": "1932580f",
   "metadata": {},
   "outputs": [
    {
     "data": {
      "text/plain": [
       "[0, 1, 2, 3, 4, 5, 6, 7, 8, 9, 10]"
      ]
     },
     "execution_count": 9,
     "metadata": {},
     "output_type": "execute_result"
    }
   ],
   "source": [
    "list(range(0,11,1))"
   ]
  },
  {
   "cell_type": "code",
   "execution_count": 10,
   "id": "b4a8b8a3",
   "metadata": {},
   "outputs": [],
   "source": [
    "# Creating a function that takes 3 arguments via the input function and creates a list\n",
    "def create_ranged_list():\n",
    "    x = int(input('Please select a start parameter'))\n",
    "    y = int(input('Please select a stop parameter'))\n",
    "    z = int(input('Please select a step parameter'))\n",
    "    return list(range(x,y,z))"
   ]
  },
  {
   "cell_type": "code",
   "execution_count": 11,
   "id": "65639676",
   "metadata": {},
   "outputs": [
    {
     "name": "stdout",
     "output_type": "stream",
     "text": [
      "Please select a start parameter0\n",
      "Please select a stop parameter11\n",
      "Please select a step parameter2\n"
     ]
    },
    {
     "data": {
      "text/plain": [
       "[0, 2, 4, 6, 8, 10]"
      ]
     },
     "execution_count": 11,
     "metadata": {},
     "output_type": "execute_result"
    }
   ],
   "source": [
    "create_ranged_list()"
   ]
  },
  {
   "cell_type": "markdown",
   "id": "cc2b796b",
   "metadata": {},
   "source": [
    "### Example 3"
   ]
  },
  {
   "cell_type": "code",
   "execution_count": 13,
   "id": "f711c0f1",
   "metadata": {},
   "outputs": [],
   "source": [
    "# Function that returns True if an element in an iterable object is greater than 10, and False otherwise\n",
    "def greater_than_10(x):\n",
    "    for element in x:\n",
    "        if element > 10:\n",
    "            return True\n",
    "        else:\n",
    "            pass\n",
    "    return False"
   ]
  },
  {
   "cell_type": "code",
   "execution_count": 14,
   "id": "50b8e7d3",
   "metadata": {},
   "outputs": [
    {
     "data": {
      "text/plain": [
       "True"
      ]
     },
     "execution_count": 14,
     "metadata": {},
     "output_type": "execute_result"
    }
   ],
   "source": [
    "greater_than_10([11,3,1])"
   ]
  }
 ],
 "metadata": {
  "kernelspec": {
   "display_name": "Python 3 (ipykernel)",
   "language": "python",
   "name": "python3"
  },
  "language_info": {
   "codemirror_mode": {
    "name": "ipython",
    "version": 3
   },
   "file_extension": ".py",
   "mimetype": "text/x-python",
   "name": "python",
   "nbconvert_exporter": "python",
   "pygments_lexer": "ipython3",
   "version": "3.9.7"
  }
 },
 "nbformat": 4,
 "nbformat_minor": 5
}
