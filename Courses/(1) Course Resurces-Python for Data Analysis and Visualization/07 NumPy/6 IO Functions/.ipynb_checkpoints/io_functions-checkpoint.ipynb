{
 "cells": [
  {
   "cell_type": "markdown",
   "id": "ada12553",
   "metadata": {},
   "source": [
    "# IO with NumPy"
   ]
  },
  {
   "cell_type": "code",
   "execution_count": 1,
   "id": "85afdeaf",
   "metadata": {},
   "outputs": [],
   "source": [
    "import numpy as np"
   ]
  },
  {
   "cell_type": "markdown",
   "id": "5c56581e",
   "metadata": {},
   "source": [
    "Documentation on the loadtxt function: https://numpy.org/doc/stable/reference/generated/numpy.loadtxt.html"
   ]
  },
  {
   "cell_type": "code",
   "execution_count": 2,
   "id": "96688a4d",
   "metadata": {},
   "outputs": [],
   "source": [
    "# Loading the 2nd column from the file below, file should be in the same directory as this notebook\n",
    "x = np.loadtxt(\"tfl-daily-cycle-hires.txt\",delimiter=',',usecols=(1),skiprows=1)"
   ]
  },
  {
   "cell_type": "code",
   "execution_count": 3,
   "id": "3c9cff83",
   "metadata": {},
   "outputs": [
    {
     "data": {
      "text/plain": [
       "4081"
      ]
     },
     "execution_count": 3,
     "metadata": {},
     "output_type": "execute_result"
    }
   ],
   "source": [
    "# Total of 4081 elements in the array\n",
    "np.count_nonzero(x)"
   ]
  },
  {
   "cell_type": "code",
   "execution_count": 4,
   "id": "555f3110",
   "metadata": {},
   "outputs": [
    {
     "data": {
      "text/plain": [
       "73094.0"
      ]
     },
     "execution_count": 4,
     "metadata": {},
     "output_type": "execute_result"
    }
   ],
   "source": [
    "# maximum element value\n",
    "x.max()"
   ]
  },
  {
   "cell_type": "code",
   "execution_count": 5,
   "id": "8c302740",
   "metadata": {},
   "outputs": [
    {
     "data": {
      "text/plain": [
       "2764.0"
      ]
     },
     "execution_count": 5,
     "metadata": {},
     "output_type": "execute_result"
    }
   ],
   "source": [
    "# minimum element value\n",
    "x.min()"
   ]
  },
  {
   "cell_type": "code",
   "execution_count": 6,
   "id": "340cc48f",
   "metadata": {},
   "outputs": [
    {
     "data": {
      "text/plain": [
       "26261.932124479295"
      ]
     },
     "execution_count": 6,
     "metadata": {},
     "output_type": "execute_result"
    }
   ],
   "source": [
    "# average element value\n",
    "x.mean()"
   ]
  },
  {
   "cell_type": "code",
   "execution_count": 7,
   "id": "5b9fda85",
   "metadata": {},
   "outputs": [
    {
     "data": {
      "text/plain": [
       "9740.107235227775"
      ]
     },
     "execution_count": 7,
     "metadata": {},
     "output_type": "execute_result"
    }
   ],
   "source": [
    "# standard deviation\n",
    "x.std()"
   ]
  },
  {
   "cell_type": "markdown",
   "id": "ddd9b774",
   "metadata": {},
   "source": [
    "### Windows filepath: \"/Users/malvikvaghadia/Desktop/tfl-daily-cycle-hires.txt\""
   ]
  },
  {
   "cell_type": "markdown",
   "id": "a3827407",
   "metadata": {},
   "source": [
    "### MAC filepath: \"C:\\Desktop\\tfl-daily-cycle-hires.txt\""
   ]
  },
  {
   "cell_type": "markdown",
   "id": "68fd1a3d",
   "metadata": {},
   "source": [
    "## Links and Resources\n",
    "* IO Functions: https://numpy.org/doc/stable/reference/routines.io.html"
   ]
  }
 ],
 "metadata": {
  "kernelspec": {
   "display_name": "Python 3 (ipykernel)",
   "language": "python",
   "name": "python3"
  },
  "language_info": {
   "codemirror_mode": {
    "name": "ipython",
    "version": 3
   },
   "file_extension": ".py",
   "mimetype": "text/x-python",
   "name": "python",
   "nbconvert_exporter": "python",
   "pygments_lexer": "ipython3",
   "version": "3.9.13"
  }
 },
 "nbformat": 4,
 "nbformat_minor": 5
}
