{
 "cells": [
  {
   "cell_type": "markdown",
   "id": "fad1607b",
   "metadata": {},
   "source": [
    "# Challenge Questions - Matplotlib"
   ]
  },
  {
   "cell_type": "markdown",
   "id": "357a4035",
   "metadata": {},
   "source": [
    "# Instructions:\n",
    "• Please ensure you don't overwrite any existing cells. Add new cells below by pressing ALT+ENTER\n",
    "\n",
    "• Attempt all of the questions\n",
    "\n",
    "• You are encouraged to look online for help should you need it"
   ]
  },
  {
   "cell_type": "markdown",
   "id": "620b8fa0",
   "metadata": {},
   "source": [
    "## Run the data preparation steps below. We will be creating three DataFrames:\n",
    "## • 'tfl' contains the following columns\n",
    "* **'Day'**\n",
    "* **'Number of Bicycle Hires'**\n",
    "* **'Cumulative (m)'**: This is the running total in millions\n",
    "* **'Day of Week'**: This is the Day of the week name\n",
    "* **'Month'**: This is the Month name\n",
    "\n",
    "## • 'tfl_day' is an aggregated DataFrame and contains the following columns\n",
    "* **'Day of Week'**: This is the Day of the week name\n",
    "* **'Day Number'**: Weekday as a decimal number\n",
    "* **'Number of Bicycle Hires (millions)'**\n",
    "\n",
    "## • 'tfl_month' is an aggregated DataFrame and contains the following columns\n",
    "* **'Month'**: This is the Month\n",
    "* **'Month Number'**\n",
    "* **'Number of Bicycle Hires (millions)'**"
   ]
  },
  {
   "cell_type": "code",
   "execution_count": 1,
   "id": "07f42443",
   "metadata": {},
   "outputs": [],
   "source": [
    "## Importing pandas, numpy, matplotlib.pyplot and datetime\n",
    "import pandas as pd\n",
    "import numpy as np\n",
    "import matplotlib.pyplot as plt\n",
    "import datetime as dt"
   ]
  },
  {
   "cell_type": "code",
   "execution_count": 2,
   "id": "028cf556",
   "metadata": {},
   "outputs": [],
   "source": [
    "tfl = pd.read_csv('tfl-daily-cycle-hires.csv')"
   ]
  },
  {
   "cell_type": "code",
   "execution_count": 3,
   "id": "57707c16",
   "metadata": {},
   "outputs": [
    {
     "data": {
      "text/plain": [
       "Day                         object\n",
       "Number of Bicycle Hires    float64\n",
       "Unnamed: 2                 float64\n",
       "dtype: object"
      ]
     },
     "execution_count": 3,
     "metadata": {},
     "output_type": "execute_result"
    }
   ],
   "source": [
    "tfl.dtypes"
   ]
  },
  {
   "cell_type": "code",
   "execution_count": 4,
   "id": "134cb5da",
   "metadata": {},
   "outputs": [],
   "source": [
    "# Changing 'Day' to be datetime dtype, 'Number of Bicycle Hires' as string\n",
    "# Dropping extra columns\n",
    "tfl['Day'] = pd.to_datetime(tfl['Day'], format='%d/%m/%Y')\n",
    "tfl['Number of Bicycle Hires'] = tfl['Number of Bicycle Hires'].astype('float')\n",
    "tfl.drop(columns='Unnamed: 2', inplace=True)"
   ]
  },
  {
   "cell_type": "code",
   "execution_count": 5,
   "id": "40445791",
   "metadata": {},
   "outputs": [
    {
     "data": {
      "text/plain": [
       "Day                        datetime64[ns]\n",
       "Number of Bicycle Hires           float64\n",
       "dtype: object"
      ]
     },
     "execution_count": 5,
     "metadata": {},
     "output_type": "execute_result"
    }
   ],
   "source": [
    "tfl.dtypes"
   ]
  },
  {
   "cell_type": "code",
   "execution_count": 6,
   "id": "dfe9d06f",
   "metadata": {},
   "outputs": [],
   "source": [
    "# Sorting values by 'Day' ascending\n",
    "tfl.sort_values('Day', ascending = True, inplace =True)"
   ]
  },
  {
   "cell_type": "code",
   "execution_count": 7,
   "id": "495fe93a",
   "metadata": {},
   "outputs": [],
   "source": [
    "# Adding Cumulative total via expanding() window operation\n",
    "tfl['Cumulative (millions)'] = tfl['Number of Bicycle Hires'].expanding().sum()/1000000"
   ]
  },
  {
   "cell_type": "code",
   "execution_count": 8,
   "id": "51457111",
   "metadata": {},
   "outputs": [
    {
     "data": {
      "text/html": [
       "<div>\n",
       "<style scoped>\n",
       "    .dataframe tbody tr th:only-of-type {\n",
       "        vertical-align: middle;\n",
       "    }\n",
       "\n",
       "    .dataframe tbody tr th {\n",
       "        vertical-align: top;\n",
       "    }\n",
       "\n",
       "    .dataframe thead th {\n",
       "        text-align: right;\n",
       "    }\n",
       "</style>\n",
       "<table border=\"1\" class=\"dataframe\">\n",
       "  <thead>\n",
       "    <tr style=\"text-align: right;\">\n",
       "      <th></th>\n",
       "      <th>Day</th>\n",
       "      <th>Number of Bicycle Hires</th>\n",
       "      <th>Cumulative (millions)</th>\n",
       "    </tr>\n",
       "  </thead>\n",
       "  <tbody>\n",
       "    <tr>\n",
       "      <th>0</th>\n",
       "      <td>2010-07-30</td>\n",
       "      <td>6897.0</td>\n",
       "      <td>0.006897</td>\n",
       "    </tr>\n",
       "    <tr>\n",
       "      <th>1</th>\n",
       "      <td>2010-07-31</td>\n",
       "      <td>5564.0</td>\n",
       "      <td>0.012461</td>\n",
       "    </tr>\n",
       "    <tr>\n",
       "      <th>2</th>\n",
       "      <td>2010-08-01</td>\n",
       "      <td>4303.0</td>\n",
       "      <td>0.016764</td>\n",
       "    </tr>\n",
       "    <tr>\n",
       "      <th>3</th>\n",
       "      <td>2010-08-02</td>\n",
       "      <td>6642.0</td>\n",
       "      <td>0.023406</td>\n",
       "    </tr>\n",
       "    <tr>\n",
       "      <th>4</th>\n",
       "      <td>2010-08-03</td>\n",
       "      <td>7966.0</td>\n",
       "      <td>0.031372</td>\n",
       "    </tr>\n",
       "  </tbody>\n",
       "</table>\n",
       "</div>"
      ],
      "text/plain": [
       "         Day  Number of Bicycle Hires  Cumulative (millions)\n",
       "0 2010-07-30                   6897.0               0.006897\n",
       "1 2010-07-31                   5564.0               0.012461\n",
       "2 2010-08-01                   4303.0               0.016764\n",
       "3 2010-08-02                   6642.0               0.023406\n",
       "4 2010-08-03                   7966.0               0.031372"
      ]
     },
     "execution_count": 8,
     "metadata": {},
     "output_type": "execute_result"
    }
   ],
   "source": [
    "tfl.head()"
   ]
  },
  {
   "cell_type": "code",
   "execution_count": 9,
   "id": "a43a21dd",
   "metadata": {},
   "outputs": [],
   "source": [
    "# Creating additional columns\n",
    "# You can see the format codes here: https://docs.python.org/3/library/datetime.html#strftime-strptime-behavior\n",
    "# 'Day Number' and 'Month Number' are purely for ordering the DataFrame\n",
    "tfl['Day of Week'] = tfl['Day'].dt.strftime('%A')\n",
    "tfl['Month'] = tfl['Day'].dt.strftime('%B')\n",
    "tfl['Day Number'] = tfl['Day'].dt.strftime('%w')\n",
    "tfl['Month Number'] = tfl['Day'].dt.strftime('%m')"
   ]
  },
  {
   "cell_type": "code",
   "execution_count": 10,
   "id": "aee6c960",
   "metadata": {},
   "outputs": [
    {
     "data": {
      "text/html": [
       "<div>\n",
       "<style scoped>\n",
       "    .dataframe tbody tr th:only-of-type {\n",
       "        vertical-align: middle;\n",
       "    }\n",
       "\n",
       "    .dataframe tbody tr th {\n",
       "        vertical-align: top;\n",
       "    }\n",
       "\n",
       "    .dataframe thead th {\n",
       "        text-align: right;\n",
       "    }\n",
       "</style>\n",
       "<table border=\"1\" class=\"dataframe\">\n",
       "  <thead>\n",
       "    <tr style=\"text-align: right;\">\n",
       "      <th></th>\n",
       "      <th>Day</th>\n",
       "      <th>Number of Bicycle Hires</th>\n",
       "      <th>Cumulative (millions)</th>\n",
       "      <th>Day of Week</th>\n",
       "      <th>Month</th>\n",
       "      <th>Day Number</th>\n",
       "      <th>Month Number</th>\n",
       "    </tr>\n",
       "  </thead>\n",
       "  <tbody>\n",
       "    <tr>\n",
       "      <th>0</th>\n",
       "      <td>2010-07-30</td>\n",
       "      <td>6897.0</td>\n",
       "      <td>0.006897</td>\n",
       "      <td>Friday</td>\n",
       "      <td>July</td>\n",
       "      <td>5</td>\n",
       "      <td>07</td>\n",
       "    </tr>\n",
       "    <tr>\n",
       "      <th>1</th>\n",
       "      <td>2010-07-31</td>\n",
       "      <td>5564.0</td>\n",
       "      <td>0.012461</td>\n",
       "      <td>Saturday</td>\n",
       "      <td>July</td>\n",
       "      <td>6</td>\n",
       "      <td>07</td>\n",
       "    </tr>\n",
       "    <tr>\n",
       "      <th>2</th>\n",
       "      <td>2010-08-01</td>\n",
       "      <td>4303.0</td>\n",
       "      <td>0.016764</td>\n",
       "      <td>Sunday</td>\n",
       "      <td>August</td>\n",
       "      <td>0</td>\n",
       "      <td>08</td>\n",
       "    </tr>\n",
       "    <tr>\n",
       "      <th>3</th>\n",
       "      <td>2010-08-02</td>\n",
       "      <td>6642.0</td>\n",
       "      <td>0.023406</td>\n",
       "      <td>Monday</td>\n",
       "      <td>August</td>\n",
       "      <td>1</td>\n",
       "      <td>08</td>\n",
       "    </tr>\n",
       "    <tr>\n",
       "      <th>4</th>\n",
       "      <td>2010-08-03</td>\n",
       "      <td>7966.0</td>\n",
       "      <td>0.031372</td>\n",
       "      <td>Tuesday</td>\n",
       "      <td>August</td>\n",
       "      <td>2</td>\n",
       "      <td>08</td>\n",
       "    </tr>\n",
       "    <tr>\n",
       "      <th>...</th>\n",
       "      <td>...</td>\n",
       "      <td>...</td>\n",
       "      <td>...</td>\n",
       "      <td>...</td>\n",
       "      <td>...</td>\n",
       "      <td>...</td>\n",
       "      <td>...</td>\n",
       "    </tr>\n",
       "    <tr>\n",
       "      <th>4076</th>\n",
       "      <td>2021-09-26</td>\n",
       "      <td>45120.0</td>\n",
       "      <td>107.036280</td>\n",
       "      <td>Sunday</td>\n",
       "      <td>September</td>\n",
       "      <td>0</td>\n",
       "      <td>09</td>\n",
       "    </tr>\n",
       "    <tr>\n",
       "      <th>4077</th>\n",
       "      <td>2021-09-27</td>\n",
       "      <td>32167.0</td>\n",
       "      <td>107.068447</td>\n",
       "      <td>Monday</td>\n",
       "      <td>September</td>\n",
       "      <td>1</td>\n",
       "      <td>09</td>\n",
       "    </tr>\n",
       "    <tr>\n",
       "      <th>4078</th>\n",
       "      <td>2021-09-28</td>\n",
       "      <td>32539.0</td>\n",
       "      <td>107.100986</td>\n",
       "      <td>Tuesday</td>\n",
       "      <td>September</td>\n",
       "      <td>2</td>\n",
       "      <td>09</td>\n",
       "    </tr>\n",
       "    <tr>\n",
       "      <th>4079</th>\n",
       "      <td>2021-09-29</td>\n",
       "      <td>39889.0</td>\n",
       "      <td>107.140875</td>\n",
       "      <td>Wednesday</td>\n",
       "      <td>September</td>\n",
       "      <td>3</td>\n",
       "      <td>09</td>\n",
       "    </tr>\n",
       "    <tr>\n",
       "      <th>4080</th>\n",
       "      <td>2021-09-30</td>\n",
       "      <td>34070.0</td>\n",
       "      <td>107.174945</td>\n",
       "      <td>Thursday</td>\n",
       "      <td>September</td>\n",
       "      <td>4</td>\n",
       "      <td>09</td>\n",
       "    </tr>\n",
       "  </tbody>\n",
       "</table>\n",
       "<p>4081 rows × 7 columns</p>\n",
       "</div>"
      ],
      "text/plain": [
       "            Day  Number of Bicycle Hires  Cumulative (millions) Day of Week  \\\n",
       "0    2010-07-30                   6897.0               0.006897      Friday   \n",
       "1    2010-07-31                   5564.0               0.012461    Saturday   \n",
       "2    2010-08-01                   4303.0               0.016764      Sunday   \n",
       "3    2010-08-02                   6642.0               0.023406      Monday   \n",
       "4    2010-08-03                   7966.0               0.031372     Tuesday   \n",
       "...         ...                      ...                    ...         ...   \n",
       "4076 2021-09-26                  45120.0             107.036280      Sunday   \n",
       "4077 2021-09-27                  32167.0             107.068447      Monday   \n",
       "4078 2021-09-28                  32539.0             107.100986     Tuesday   \n",
       "4079 2021-09-29                  39889.0             107.140875   Wednesday   \n",
       "4080 2021-09-30                  34070.0             107.174945    Thursday   \n",
       "\n",
       "          Month Day Number Month Number  \n",
       "0          July          5           07  \n",
       "1          July          6           07  \n",
       "2        August          0           08  \n",
       "3        August          1           08  \n",
       "4        August          2           08  \n",
       "...         ...        ...          ...  \n",
       "4076  September          0           09  \n",
       "4077  September          1           09  \n",
       "4078  September          2           09  \n",
       "4079  September          3           09  \n",
       "4080  September          4           09  \n",
       "\n",
       "[4081 rows x 7 columns]"
      ]
     },
     "execution_count": 10,
     "metadata": {},
     "output_type": "execute_result"
    }
   ],
   "source": [
    "tfl"
   ]
  },
  {
   "cell_type": "code",
   "execution_count": 11,
   "id": "9f5bfe9d",
   "metadata": {},
   "outputs": [],
   "source": [
    "# Creating the tfl_day DF\n",
    "tfl_day = tfl[['Day of Week', 'Day Number','Number of Bicycle Hires']].groupby(by=['Day of Week','Day Number']).sum()"
   ]
  },
  {
   "cell_type": "code",
   "execution_count": 12,
   "id": "b4097392",
   "metadata": {},
   "outputs": [],
   "source": [
    "# Resetting index and returning 'Day of Week' and 'Day Number' as columns\n",
    "tfl_day.reset_index(inplace=True)"
   ]
  },
  {
   "cell_type": "code",
   "execution_count": 13,
   "id": "25a44d89",
   "metadata": {},
   "outputs": [],
   "source": [
    "# Sorting via the 'Day Number' column\n",
    "tfl_day.sort_values('Day Number', inplace=True)"
   ]
  },
  {
   "cell_type": "code",
   "execution_count": 14,
   "id": "23eee669",
   "metadata": {},
   "outputs": [],
   "source": [
    "# New column showing the 'Number of Bicycle Hires (millions)'\n",
    "tfl_day['Number of Bicycle Hires (millions)'] = round(tfl_day['Number of Bicycle Hires']/1000000,2)"
   ]
  },
  {
   "cell_type": "code",
   "execution_count": 15,
   "id": "350a8bde",
   "metadata": {},
   "outputs": [],
   "source": [
    "# Dropping the 'Number of Bicycle Hires' column\n",
    "tfl_day.drop(columns='Number of Bicycle Hires', inplace=True)"
   ]
  },
  {
   "cell_type": "code",
   "execution_count": 16,
   "id": "97e89f2d",
   "metadata": {},
   "outputs": [
    {
     "data": {
      "text/html": [
       "<div>\n",
       "<style scoped>\n",
       "    .dataframe tbody tr th:only-of-type {\n",
       "        vertical-align: middle;\n",
       "    }\n",
       "\n",
       "    .dataframe tbody tr th {\n",
       "        vertical-align: top;\n",
       "    }\n",
       "\n",
       "    .dataframe thead th {\n",
       "        text-align: right;\n",
       "    }\n",
       "</style>\n",
       "<table border=\"1\" class=\"dataframe\">\n",
       "  <thead>\n",
       "    <tr style=\"text-align: right;\">\n",
       "      <th></th>\n",
       "      <th>Day of Week</th>\n",
       "      <th>Day Number</th>\n",
       "      <th>Number of Bicycle Hires (millions)</th>\n",
       "    </tr>\n",
       "  </thead>\n",
       "  <tbody>\n",
       "    <tr>\n",
       "      <th>3</th>\n",
       "      <td>Sunday</td>\n",
       "      <td>0</td>\n",
       "      <td>13.01</td>\n",
       "    </tr>\n",
       "    <tr>\n",
       "      <th>1</th>\n",
       "      <td>Monday</td>\n",
       "      <td>1</td>\n",
       "      <td>15.21</td>\n",
       "    </tr>\n",
       "    <tr>\n",
       "      <th>5</th>\n",
       "      <td>Tuesday</td>\n",
       "      <td>2</td>\n",
       "      <td>16.38</td>\n",
       "    </tr>\n",
       "    <tr>\n",
       "      <th>6</th>\n",
       "      <td>Wednesday</td>\n",
       "      <td>3</td>\n",
       "      <td>16.43</td>\n",
       "    </tr>\n",
       "    <tr>\n",
       "      <th>4</th>\n",
       "      <td>Thursday</td>\n",
       "      <td>4</td>\n",
       "      <td>16.37</td>\n",
       "    </tr>\n",
       "    <tr>\n",
       "      <th>0</th>\n",
       "      <td>Friday</td>\n",
       "      <td>5</td>\n",
       "      <td>15.79</td>\n",
       "    </tr>\n",
       "    <tr>\n",
       "      <th>2</th>\n",
       "      <td>Saturday</td>\n",
       "      <td>6</td>\n",
       "      <td>13.99</td>\n",
       "    </tr>\n",
       "  </tbody>\n",
       "</table>\n",
       "</div>"
      ],
      "text/plain": [
       "  Day of Week Day Number  Number of Bicycle Hires (millions)\n",
       "3      Sunday          0                               13.01\n",
       "1      Monday          1                               15.21\n",
       "5     Tuesday          2                               16.38\n",
       "6   Wednesday          3                               16.43\n",
       "4    Thursday          4                               16.37\n",
       "0      Friday          5                               15.79\n",
       "2    Saturday          6                               13.99"
      ]
     },
     "execution_count": 16,
     "metadata": {},
     "output_type": "execute_result"
    }
   ],
   "source": [
    "tfl_day"
   ]
  },
  {
   "cell_type": "code",
   "execution_count": 17,
   "id": "15881ac5",
   "metadata": {},
   "outputs": [],
   "source": [
    "# Creating the tfl_month DF\n",
    "tfl_month = tfl[['Month', 'Month Number','Number of Bicycle Hires']].groupby(by=['Month','Month Number']).sum()"
   ]
  },
  {
   "cell_type": "code",
   "execution_count": 18,
   "id": "3afb5a6e",
   "metadata": {},
   "outputs": [],
   "source": [
    "# Resetting index and returning 'Month of Week' and 'Month Number' as columns\n",
    "tfl_month.reset_index(inplace=True)"
   ]
  },
  {
   "cell_type": "code",
   "execution_count": 19,
   "id": "5e7107cd",
   "metadata": {},
   "outputs": [],
   "source": [
    "# Sorting via the 'Month Number' column\n",
    "tfl_month.sort_values('Month Number', inplace=True)"
   ]
  },
  {
   "cell_type": "code",
   "execution_count": 20,
   "id": "ef8304c8",
   "metadata": {},
   "outputs": [],
   "source": [
    "# New column showing the 'Number of Bicycle Hires (millions)'\n",
    "tfl_month['Number of Bicycle Hires (millions)'] = round(tfl_month['Number of Bicycle Hires']/1000000,2)"
   ]
  },
  {
   "cell_type": "code",
   "execution_count": 21,
   "id": "8d5f0967",
   "metadata": {},
   "outputs": [],
   "source": [
    "# Dropping the 'Number of Bicycle Hires' column\n",
    "tfl_month.drop(columns='Number of Bicycle Hires', inplace=True)"
   ]
  },
  {
   "cell_type": "code",
   "execution_count": 22,
   "id": "7936b73f",
   "metadata": {},
   "outputs": [
    {
     "data": {
      "text/html": [
       "<div>\n",
       "<style scoped>\n",
       "    .dataframe tbody tr th:only-of-type {\n",
       "        vertical-align: middle;\n",
       "    }\n",
       "\n",
       "    .dataframe tbody tr th {\n",
       "        vertical-align: top;\n",
       "    }\n",
       "\n",
       "    .dataframe thead th {\n",
       "        text-align: right;\n",
       "    }\n",
       "</style>\n",
       "<table border=\"1\" class=\"dataframe\">\n",
       "  <thead>\n",
       "    <tr style=\"text-align: right;\">\n",
       "      <th></th>\n",
       "      <th>Month</th>\n",
       "      <th>Month Number</th>\n",
       "      <th>Number of Bicycle Hires (millions)</th>\n",
       "    </tr>\n",
       "  </thead>\n",
       "  <tbody>\n",
       "    <tr>\n",
       "      <th>4</th>\n",
       "      <td>January</td>\n",
       "      <td>01</td>\n",
       "      <td>6.22</td>\n",
       "    </tr>\n",
       "    <tr>\n",
       "      <th>3</th>\n",
       "      <td>February</td>\n",
       "      <td>02</td>\n",
       "      <td>6.11</td>\n",
       "    </tr>\n",
       "    <tr>\n",
       "      <th>7</th>\n",
       "      <td>March</td>\n",
       "      <td>03</td>\n",
       "      <td>7.52</td>\n",
       "    </tr>\n",
       "    <tr>\n",
       "      <th>0</th>\n",
       "      <td>April</td>\n",
       "      <td>04</td>\n",
       "      <td>8.56</td>\n",
       "    </tr>\n",
       "    <tr>\n",
       "      <th>8</th>\n",
       "      <td>May</td>\n",
       "      <td>05</td>\n",
       "      <td>10.36</td>\n",
       "    </tr>\n",
       "    <tr>\n",
       "      <th>6</th>\n",
       "      <td>June</td>\n",
       "      <td>06</td>\n",
       "      <td>10.99</td>\n",
       "    </tr>\n",
       "    <tr>\n",
       "      <th>5</th>\n",
       "      <td>July</td>\n",
       "      <td>07</td>\n",
       "      <td>12.12</td>\n",
       "    </tr>\n",
       "    <tr>\n",
       "      <th>1</th>\n",
       "      <td>August</td>\n",
       "      <td>08</td>\n",
       "      <td>11.68</td>\n",
       "    </tr>\n",
       "    <tr>\n",
       "      <th>11</th>\n",
       "      <td>September</td>\n",
       "      <td>09</td>\n",
       "      <td>11.22</td>\n",
       "    </tr>\n",
       "    <tr>\n",
       "      <th>10</th>\n",
       "      <td>October</td>\n",
       "      <td>10</td>\n",
       "      <td>9.17</td>\n",
       "    </tr>\n",
       "    <tr>\n",
       "      <th>9</th>\n",
       "      <td>November</td>\n",
       "      <td>11</td>\n",
       "      <td>7.42</td>\n",
       "    </tr>\n",
       "    <tr>\n",
       "      <th>2</th>\n",
       "      <td>December</td>\n",
       "      <td>12</td>\n",
       "      <td>5.80</td>\n",
       "    </tr>\n",
       "  </tbody>\n",
       "</table>\n",
       "</div>"
      ],
      "text/plain": [
       "        Month Month Number  Number of Bicycle Hires (millions)\n",
       "4     January           01                                6.22\n",
       "3    February           02                                6.11\n",
       "7       March           03                                7.52\n",
       "0       April           04                                8.56\n",
       "8         May           05                               10.36\n",
       "6        June           06                               10.99\n",
       "5        July           07                               12.12\n",
       "1      August           08                               11.68\n",
       "11  September           09                               11.22\n",
       "10    October           10                                9.17\n",
       "9    November           11                                7.42\n",
       "2    December           12                                5.80"
      ]
     },
     "execution_count": 22,
     "metadata": {},
     "output_type": "execute_result"
    }
   ],
   "source": [
    "tfl_month"
   ]
  },
  {
   "cell_type": "markdown",
   "id": "1118193b",
   "metadata": {},
   "source": [
    "# "
   ]
  },
  {
   "cell_type": "markdown",
   "id": "ee68e72b",
   "metadata": {},
   "source": [
    "# Challenge Exercises:"
   ]
  },
  {
   "cell_type": "markdown",
   "id": "17237a8c",
   "metadata": {},
   "source": [
    "## Create a bar plot using the tfl_day DataFrame \n",
    "* It should have a figuresize of (20,5)\n",
    "* It should plot 'Day of Week' on the x-axis and 'Number of Bicycle Hires (millions)' for the height\n",
    "* Title the Chart 'Total Bike Hires by Day of Week', fontsize 30\n",
    "* y-label should be 'Bike Hires (m)', fontsize 20\n",
    "* xticks and yticks should have a fontsize of 15\n"
   ]
  },
  {
   "cell_type": "code",
   "execution_count": null,
   "id": "7430ef2d",
   "metadata": {},
   "outputs": [],
   "source": []
  },
  {
   "cell_type": "code",
   "execution_count": null,
   "id": "15948cd1",
   "metadata": {},
   "outputs": [],
   "source": []
  },
  {
   "cell_type": "markdown",
   "id": "1ac0221a",
   "metadata": {},
   "source": [
    "## Copy the code for the previous bar plot in the cell below and add the following color codes with a black edgecolor:\n",
    "* Sunday: #6867AC\n",
    "* Monday: #A267AC\n",
    "* Tuesday: #CE7BB0\n",
    "* Wednesday: #FFBCD1\n",
    "* Thursday: #BAABDA\n",
    "* Friday: #D3DEDC\n",
    "* Saturday: #FFFDDE\n",
    "\n",
    "Hint: You can pass the colors in as a list in the order specified"
   ]
  },
  {
   "cell_type": "code",
   "execution_count": null,
   "id": "d892b580",
   "metadata": {},
   "outputs": [],
   "source": []
  },
  {
   "cell_type": "code",
   "execution_count": null,
   "id": "97808434",
   "metadata": {},
   "outputs": [],
   "source": []
  },
  {
   "cell_type": "markdown",
   "id": "5c47a6d1",
   "metadata": {},
   "source": [
    "## Create a bar plot using the tfl_month DataFrame \n",
    "* It should have a figuresize of (20,5)\n",
    "* It should plot 'Month' on the x-axis and 'Number of Bicycle Hires' for the height\n",
    "* Title the Chart 'Total Bike Hires by Month', fontsize 30\n",
    "* y-label should be 'Bike Hires (m)', fontsize 20\n",
    "* xticks and yticks should have a fontsize of 15"
   ]
  },
  {
   "cell_type": "code",
   "execution_count": null,
   "id": "e4870c29",
   "metadata": {},
   "outputs": [],
   "source": []
  },
  {
   "cell_type": "code",
   "execution_count": null,
   "id": "a0199327",
   "metadata": {},
   "outputs": [],
   "source": []
  },
  {
   "cell_type": "markdown",
   "id": "85701c97",
   "metadata": {},
   "source": [
    "## Using the tfl DataFrame create a chart with a secondary y-axis:\n",
    "* It should have a figuresize of (20,10)\n",
    "* 'Day' on the x-axis\n",
    "* 'Number of Bicycle Hires' on the left (main) y-axis as a Bar Plot, color '#CE7BB0'\n",
    "* 'Cumulative' on the right (secondary) y-axis as a Line Plot, color '#6867AC'\n",
    "* Title the Chart 'TfL Bike Hires (Combo Chart)', fontsize 30\n",
    "* The left y-axis label should be 'Daily Number of Bicycle Hires', fontsize 20\n",
    "* The right y-axis label should be 'Cumulative Total (millions)', fontsize 20\n",
    "* The x-axis label should be 'Date', fontsize 20"
   ]
  },
  {
   "cell_type": "code",
   "execution_count": null,
   "id": "7bca22cd",
   "metadata": {},
   "outputs": [],
   "source": []
  },
  {
   "cell_type": "code",
   "execution_count": null,
   "id": "c2501b91",
   "metadata": {},
   "outputs": [],
   "source": []
  },
  {
   "cell_type": "markdown",
   "id": "728ae4df",
   "metadata": {},
   "source": [
    "## Create a Plot Area Consisting of 3 axes\n",
    "* Two of the axes should be side by side and have a figure size of (5,4)\n",
    "* One axis should be in the bottom and have a figure size of (12,4)\n",
    "\n",
    "## Plot the following Charts using the tfl DataFrame:\n",
    "### On the top left axes plot a box plot\n",
    "* 'Number of Bicycle Hires' on the x-axis and label of 'Number of Bicycle Hires (millions)'\n",
    "* Do not include outliers\n",
    "\n",
    "### On the top right axes plot a histogram\n",
    "* 'Number of Bicycle Hires' on the x-axis\n",
    "* binsize of 30\n",
    "\n",
    "### On the bottom axes plot a line chart\n",
    "* 'Day' on the x-axis\n",
    "* 'Number of Bicycle Hires' on the y-axis\n",
    "\n",
    "Format the chart however you like and add appropriate titles, x-axis labels and y-axis labels."
   ]
  },
  {
   "cell_type": "code",
   "execution_count": null,
   "id": "5000f3e8",
   "metadata": {},
   "outputs": [],
   "source": []
  },
  {
   "cell_type": "code",
   "execution_count": null,
   "id": "83db59fd",
   "metadata": {},
   "outputs": [],
   "source": []
  },
  {
   "cell_type": "markdown",
   "id": "8c38d334",
   "metadata": {},
   "source": [
    "## Create a Plot Area Consisting of 2 axes (2 rows and 1 column) using the Subplots method\n",
    "* The Plot Area should have a figuresize of (15,10) and a tight_layout\n",
    "\n",
    "## Plot the following Bar Charts:\n",
    "### On the top axes plot a bar chart using the tfl_month DataFrame\n",
    "* 'Month' on the x-axis with a label of 'Month'\n",
    "* 'Number of Bicycle Hires (millions)' on the y-axis with a label of 'Bike Hires (m)'\n",
    "\n",
    "### On the bottom axes plot a bar chart using the tfl_day DataFrame\n",
    "* 'Day of Week' on the x-axis with a label of 'Day of Week'\n",
    "* 'Number of Bicycle Hires (millions)' on the y-axis with a label of 'Bike Hires (m)'\n",
    "\n",
    "\n",
    "* Format both charts however you like"
   ]
  },
  {
   "cell_type": "code",
   "execution_count": null,
   "id": "9691e127",
   "metadata": {},
   "outputs": [],
   "source": []
  },
  {
   "cell_type": "code",
   "execution_count": null,
   "id": "be666a39",
   "metadata": {},
   "outputs": [],
   "source": []
  }
 ],
 "metadata": {
  "kernelspec": {
   "display_name": "Python 3 (ipykernel)",
   "language": "python",
   "name": "python3"
  },
  "language_info": {
   "codemirror_mode": {
    "name": "ipython",
    "version": 3
   },
   "file_extension": ".py",
   "mimetype": "text/x-python",
   "name": "python",
   "nbconvert_exporter": "python",
   "pygments_lexer": "ipython3",
   "version": "3.9.7"
  }
 },
 "nbformat": 4,
 "nbformat_minor": 5
}
