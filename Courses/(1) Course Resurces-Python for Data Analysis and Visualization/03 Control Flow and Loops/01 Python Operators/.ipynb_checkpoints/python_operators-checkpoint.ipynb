{
 "cells": [
  {
   "cell_type": "markdown",
   "id": "850dda51",
   "metadata": {},
   "source": [
    "## Arithmetic Operators"
   ]
  },
  {
   "cell_type": "markdown",
   "id": "a0dfcef9",
   "metadata": {},
   "source": [
    "\\+ Addition\n",
    "\n",
    "\\- Subtraction\n",
    "\n",
    "\\* Multiplication\n",
    "\n",
    "/ Division\n",
    "\n",
    "% Modulus\n",
    "\n",
    "\\** Exponent"
   ]
  },
  {
   "cell_type": "code",
   "execution_count": 1,
   "id": "0352e4e5",
   "metadata": {},
   "outputs": [],
   "source": [
    "#We've already covered arithmetic operators when discussing number data types"
   ]
  },
  {
   "cell_type": "markdown",
   "id": "306711f2",
   "metadata": {},
   "source": [
    "## Comparison Operators"
   ]
  },
  {
   "cell_type": "markdown",
   "id": "fd0eb82e",
   "metadata": {},
   "source": [
    "\\== Equal\n",
    "\n",
    "\\!= Not equal\n",
    "\n",
    "\\> Left operand is greater than right operand\n",
    "\n",
    "\\>= Left operand is greater or equal to right operand\n",
    "\n",
    "< Left operand is less than right operand\n",
    "\n",
    "<= Left operand is less than or equal to right operand"
   ]
  },
  {
   "cell_type": "code",
   "execution_count": 1,
   "id": "40e674d2",
   "metadata": {},
   "outputs": [
    {
     "data": {
      "text/plain": [
       "True"
      ]
     },
     "execution_count": 1,
     "metadata": {},
     "output_type": "execute_result"
    }
   ],
   "source": [
    "# The equality operator compares the values of the left and right operands\n",
    "# It returns the boolean True if they are the same\n",
    "10==10"
   ]
  },
  {
   "cell_type": "code",
   "execution_count": 2,
   "id": "cc1ea2f4",
   "metadata": {},
   "outputs": [],
   "source": [
    "#assignment operator\n",
    "a=10\n",
    "b=20"
   ]
  },
  {
   "cell_type": "code",
   "execution_count": 3,
   "id": "ad4232b0",
   "metadata": {},
   "outputs": [
    {
     "data": {
      "text/plain": [
       "10"
      ]
     },
     "execution_count": 3,
     "metadata": {},
     "output_type": "execute_result"
    }
   ],
   "source": [
    "a"
   ]
  },
  {
   "cell_type": "code",
   "execution_count": 4,
   "id": "e3f1c901",
   "metadata": {},
   "outputs": [
    {
     "data": {
      "text/plain": [
       "20"
      ]
     },
     "execution_count": 4,
     "metadata": {},
     "output_type": "execute_result"
    }
   ],
   "source": [
    "b"
   ]
  },
  {
   "cell_type": "code",
   "execution_count": 5,
   "id": "16fde931",
   "metadata": {},
   "outputs": [
    {
     "data": {
      "text/plain": [
       "False"
      ]
     },
     "execution_count": 5,
     "metadata": {},
     "output_type": "execute_result"
    }
   ],
   "source": [
    "# The equality operator returns False as a=10 and b=20\n",
    "a==b"
   ]
  },
  {
   "cell_type": "code",
   "execution_count": 6,
   "id": "32850f0a",
   "metadata": {},
   "outputs": [],
   "source": [
    "# The assignment operator assigns the value of b to a\n",
    "# The assignment operator should not be confused with the equality operator\n",
    "a=b"
   ]
  },
  {
   "cell_type": "code",
   "execution_count": 7,
   "id": "c8c51298",
   "metadata": {},
   "outputs": [
    {
     "data": {
      "text/plain": [
       "20"
      ]
     },
     "execution_count": 7,
     "metadata": {},
     "output_type": "execute_result"
    }
   ],
   "source": [
    "a"
   ]
  },
  {
   "cell_type": "code",
   "execution_count": 8,
   "id": "203bbbe7",
   "metadata": {},
   "outputs": [
    {
     "data": {
      "text/plain": [
       "True"
      ]
     },
     "execution_count": 8,
     "metadata": {},
     "output_type": "execute_result"
    }
   ],
   "source": [
    "10==10"
   ]
  },
  {
   "cell_type": "code",
   "execution_count": 9,
   "id": "a68d52f3",
   "metadata": {},
   "outputs": [
    {
     "data": {
      "text/plain": [
       "False"
      ]
     },
     "execution_count": 9,
     "metadata": {},
     "output_type": "execute_result"
    }
   ],
   "source": [
    "# The equality operator returns False as the data types are different\n",
    "'10'==10"
   ]
  },
  {
   "cell_type": "code",
   "execution_count": 10,
   "id": "25e44b90",
   "metadata": {},
   "outputs": [
    {
     "data": {
      "text/plain": [
       "True"
      ]
     },
     "execution_count": 10,
     "metadata": {},
     "output_type": "execute_result"
    }
   ],
   "source": [
    "'Tom'=='Tom'"
   ]
  },
  {
   "cell_type": "code",
   "execution_count": 11,
   "id": "05622ada",
   "metadata": {},
   "outputs": [
    {
     "data": {
      "text/plain": [
       "False"
      ]
     },
     "execution_count": 11,
     "metadata": {},
     "output_type": "execute_result"
    }
   ],
   "source": [
    "# The equality operator takes case sensitivity into consideration\n",
    "'tom'=='Tom'"
   ]
  },
  {
   "cell_type": "code",
   "execution_count": 12,
   "id": "d1233190",
   "metadata": {},
   "outputs": [
    {
     "data": {
      "text/plain": [
       "False"
      ]
     },
     "execution_count": 12,
     "metadata": {},
     "output_type": "execute_result"
    }
   ],
   "source": [
    "# ... and extra whitespace\n",
    "'Tom '=='Tom'"
   ]
  },
  {
   "cell_type": "code",
   "execution_count": 13,
   "id": "69bd8a06",
   "metadata": {},
   "outputs": [
    {
     "data": {
      "text/plain": [
       "False"
      ]
     },
     "execution_count": 13,
     "metadata": {},
     "output_type": "execute_result"
    }
   ],
   "source": [
    "# The output is Sale as the elements are ordered differently\n",
    "[1,2,3]==[2,1,3]"
   ]
  },
  {
   "cell_type": "code",
   "execution_count": 14,
   "id": "da606864",
   "metadata": {},
   "outputs": [
    {
     "data": {
      "text/plain": [
       "False"
      ]
     },
     "execution_count": 14,
     "metadata": {},
     "output_type": "execute_result"
    }
   ],
   "source": [
    "# The not equal comparison operator checks for values being not equal to each other\n",
    "10!=10"
   ]
  },
  {
   "cell_type": "code",
   "execution_count": 15,
   "id": "b2796170",
   "metadata": {},
   "outputs": [
    {
     "data": {
      "text/plain": [
       "True"
      ]
     },
     "execution_count": 15,
     "metadata": {},
     "output_type": "execute_result"
    }
   ],
   "source": [
    "# 10 is less than 20 so the output is True\n",
    "10 < 20"
   ]
  },
  {
   "cell_type": "code",
   "execution_count": 16,
   "id": "6e63e7a8",
   "metadata": {},
   "outputs": [
    {
     "data": {
      "text/plain": [
       "False"
      ]
     },
     "execution_count": 16,
     "metadata": {},
     "output_type": "execute_result"
    }
   ],
   "source": [
    "# 30 is less than 40 so the output is True\n",
    "30 > 40"
   ]
  },
  {
   "cell_type": "code",
   "execution_count": 17,
   "id": "58b098fe",
   "metadata": {},
   "outputs": [
    {
     "data": {
      "text/plain": [
       "True"
      ]
     },
     "execution_count": 17,
     "metadata": {},
     "output_type": "execute_result"
    }
   ],
   "source": [
    "# 30 is greater than or equal to 30 so the output is True\n",
    "30>=30"
   ]
  },
  {
   "cell_type": "code",
   "execution_count": null,
   "id": "b0771195",
   "metadata": {},
   "outputs": [],
   "source": [
    "# Create some cells below to practice with the rest of the operators..."
   ]
  },
  {
   "cell_type": "code",
   "execution_count": null,
   "id": "58c99e62",
   "metadata": {},
   "outputs": [],
   "source": []
  },
  {
   "cell_type": "markdown",
   "id": "7b40a417",
   "metadata": {},
   "source": [
    "## Logical Operators"
   ]
  },
  {
   "cell_type": "markdown",
   "id": "fa317dec",
   "metadata": {},
   "source": [
    "and - Returns True if both statements are true\n",
    "\n",
    "or - Returns True if any of the statements are true\n",
    "\n",
    "not - Returns False if the statement is True"
   ]
  },
  {
   "cell_type": "code",
   "execution_count": 18,
   "id": "7a890265",
   "metadata": {},
   "outputs": [
    {
     "data": {
      "text/plain": [
       "True"
      ]
     },
     "execution_count": 18,
     "metadata": {},
     "output_type": "execute_result"
    }
   ],
   "source": [
    "4>3"
   ]
  },
  {
   "cell_type": "code",
   "execution_count": 19,
   "id": "fefc0f54",
   "metadata": {},
   "outputs": [
    {
     "data": {
      "text/plain": [
       "True"
      ]
     },
     "execution_count": 19,
     "metadata": {},
     "output_type": "execute_result"
    }
   ],
   "source": [
    "100>3"
   ]
  },
  {
   "cell_type": "code",
   "execution_count": 20,
   "id": "c52f3b58",
   "metadata": {},
   "outputs": [
    {
     "data": {
      "text/plain": [
       "True"
      ]
     },
     "execution_count": 20,
     "metadata": {},
     "output_type": "execute_result"
    }
   ],
   "source": [
    "# The 'and' logical operator returns True if the statement to the right and left are True\n",
    "4>3 and 100>3"
   ]
  },
  {
   "cell_type": "code",
   "execution_count": 21,
   "id": "0bd83767",
   "metadata": {},
   "outputs": [
    {
     "data": {
      "text/plain": [
       "True"
      ]
     },
     "execution_count": 21,
     "metadata": {},
     "output_type": "execute_result"
    }
   ],
   "source": [
    "# The output is True because all of the statements are True\n",
    "3>1 and 3==3 and 4<100"
   ]
  },
  {
   "cell_type": "code",
   "execution_count": 22,
   "id": "09709f6f",
   "metadata": {},
   "outputs": [
    {
     "data": {
      "text/plain": [
       "True"
      ]
     },
     "execution_count": 22,
     "metadata": {},
     "output_type": "execute_result"
    }
   ],
   "source": [
    "3<4"
   ]
  },
  {
   "cell_type": "code",
   "execution_count": 23,
   "id": "fc451c9e",
   "metadata": {},
   "outputs": [
    {
     "data": {
      "text/plain": [
       "False"
      ]
     },
     "execution_count": 23,
     "metadata": {},
     "output_type": "execute_result"
    }
   ],
   "source": [
    "4<3"
   ]
  },
  {
   "cell_type": "code",
   "execution_count": 24,
   "id": "c0a943fc",
   "metadata": {},
   "outputs": [
    {
     "data": {
      "text/plain": [
       "True"
      ]
     },
     "execution_count": 24,
     "metadata": {},
     "output_type": "execute_result"
    }
   ],
   "source": [
    "# The 'or' logical operator returns True if any statements to the right or left are True\n",
    "3<4 or 4<3"
   ]
  },
  {
   "cell_type": "code",
   "execution_count": 25,
   "id": "7196f4fb",
   "metadata": {},
   "outputs": [
    {
     "data": {
      "text/plain": [
       "True"
      ]
     },
     "execution_count": 25,
     "metadata": {},
     "output_type": "execute_result"
    }
   ],
   "source": [
    "'hello'=='hello ' or 40>5 and 'hello'=='hello' "
   ]
  },
  {
   "cell_type": "code",
   "execution_count": 26,
   "id": "acc2bd8d",
   "metadata": {},
   "outputs": [
    {
     "data": {
      "text/plain": [
       "False"
      ]
     },
     "execution_count": 26,
     "metadata": {},
     "output_type": "execute_result"
    }
   ],
   "source": [
    "4<3"
   ]
  },
  {
   "cell_type": "code",
   "execution_count": 27,
   "id": "7609db48",
   "metadata": {},
   "outputs": [
    {
     "data": {
      "text/plain": [
       "True"
      ]
     },
     "execution_count": 27,
     "metadata": {},
     "output_type": "execute_result"
    }
   ],
   "source": [
    "# The 'not' operator reverses the output of the statement\n",
    "not 4<3"
   ]
  },
  {
   "cell_type": "code",
   "execution_count": 28,
   "id": "1cd59296",
   "metadata": {},
   "outputs": [],
   "source": [
    "a=20\n",
    "b=20"
   ]
  },
  {
   "cell_type": "code",
   "execution_count": 29,
   "id": "fe8789c1",
   "metadata": {},
   "outputs": [
    {
     "data": {
      "text/plain": [
       "True"
      ]
     },
     "execution_count": 29,
     "metadata": {},
     "output_type": "execute_result"
    }
   ],
   "source": [
    "# The 'is' operator checks if the values stored in two variables are the same\n",
    "a is b"
   ]
  },
  {
   "cell_type": "code",
   "execution_count": 30,
   "id": "8ce74f20",
   "metadata": {},
   "outputs": [
    {
     "data": {
      "text/plain": [
       "False"
      ]
     },
     "execution_count": 30,
     "metadata": {},
     "output_type": "execute_result"
    }
   ],
   "source": [
    "# The 'is not' operator checks if the values stored in two variables are NOT the same\n",
    "a is not b"
   ]
  },
  {
   "cell_type": "code",
   "execution_count": null,
   "id": "26646016",
   "metadata": {},
   "outputs": [],
   "source": [
    "# Create some cells below to practice with the rest of the operators..."
   ]
  },
  {
   "cell_type": "code",
   "execution_count": null,
   "id": "c37457dc",
   "metadata": {},
   "outputs": [],
   "source": []
  },
  {
   "cell_type": "markdown",
   "id": "5de68bff",
   "metadata": {},
   "source": [
    "## Additional Resources and Guidance: \n",
    "* https://docs.python.org/3/reference/expressions.html\n",
    "* https://www.w3schools.com/python/python_operators.asp"
   ]
  }
 ],
 "metadata": {
  "kernelspec": {
   "display_name": "Python 3 (ipykernel)",
   "language": "python",
   "name": "python3"
  },
  "language_info": {
   "codemirror_mode": {
    "name": "ipython",
    "version": 3
   },
   "file_extension": ".py",
   "mimetype": "text/x-python",
   "name": "python",
   "nbconvert_exporter": "python",
   "pygments_lexer": "ipython3",
   "version": "3.9.13"
  }
 },
 "nbformat": 4,
 "nbformat_minor": 5
}
