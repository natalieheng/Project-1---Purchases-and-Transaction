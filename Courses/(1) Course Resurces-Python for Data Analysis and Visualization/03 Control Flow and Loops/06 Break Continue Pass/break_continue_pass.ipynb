{
 "cells": [
  {
   "cell_type": "markdown",
   "id": "502ba925",
   "metadata": {},
   "source": [
    "## pass"
   ]
  },
  {
   "cell_type": "markdown",
   "id": "fc4dbd86",
   "metadata": {},
   "source": [
    "The pass statement is like a null statement. It results in no operation being performed"
   ]
  },
  {
   "cell_type": "code",
   "execution_count": 1,
   "id": "ffca5ae2",
   "metadata": {},
   "outputs": [],
   "source": [
    "number = 2"
   ]
  },
  {
   "cell_type": "code",
   "execution_count": 2,
   "id": "a4a2632e",
   "metadata": {},
   "outputs": [],
   "source": [
    "# We can use the pass statement to act as a placeholder\n",
    "if number == 2:\n",
    "    pass\n",
    "    # complete later\n",
    "else:\n",
    "    print(number)"
   ]
  },
  {
   "cell_type": "code",
   "execution_count": 3,
   "id": "47910f75",
   "metadata": {},
   "outputs": [],
   "source": [
    "num = [0,1,2,3,4,5,6,7,8,9,10]"
   ]
  },
  {
   "cell_type": "code",
   "execution_count": 4,
   "id": "424454dc",
   "metadata": {},
   "outputs": [
    {
     "ename": "IndentationError",
     "evalue": "expected an indented block (2105192334.py, line 5)",
     "output_type": "error",
     "traceback": [
      "\u001b[0;36m  File \u001b[0;32m\"/var/folders/yg/s7srppzj68gg2kxw49gsgbyr0000gn/T/ipykernel_36090/2105192334.py\"\u001b[0;36m, line \u001b[0;32m5\u001b[0m\n\u001b[0;31m    else:\u001b[0m\n\u001b[0m    ^\u001b[0m\n\u001b[0;31mIndentationError\u001b[0m\u001b[0;31m:\u001b[0m expected an indented block\n"
     ]
    }
   ],
   "source": [
    "# We get an error here because the interpreter expects a block of code after the colon\n",
    "for x in num:\n",
    "    if x==5:\n",
    "        \n",
    "    else:\n",
    "        print(x)"
   ]
  },
  {
   "cell_type": "code",
   "execution_count": 5,
   "id": "1f03c510",
   "metadata": {},
   "outputs": [
    {
     "name": "stdout",
     "output_type": "stream",
     "text": [
      "0\n",
      "1\n",
      "2\n",
      "3\n",
      "4\n",
      "6\n",
      "7\n",
      "8\n",
      "9\n",
      "10\n"
     ]
    }
   ],
   "source": [
    "# This is a practical use case for the pass statement\n",
    "# If x=5 then the loop does nothing for that iteration\n",
    "num = [0,1,2,3,4,5,6,7,8,9,10]\n",
    "for x in num:\n",
    "    if x==5:\n",
    "        pass\n",
    "    else:\n",
    "        print(x)\n",
    "    x+=1"
   ]
  },
  {
   "cell_type": "markdown",
   "id": "a44be542",
   "metadata": {},
   "source": [
    "## break"
   ]
  },
  {
   "cell_type": "markdown",
   "id": "c08ab64b",
   "metadata": {},
   "source": [
    "The break statement will \"break\" out of the current loop"
   ]
  },
  {
   "cell_type": "code",
   "execution_count": 6,
   "id": "f412be54",
   "metadata": {},
   "outputs": [
    {
     "name": "stdout",
     "output_type": "stream",
     "text": [
      "0\n",
      "1\n",
      "2\n",
      "3\n",
      "4\n"
     ]
    }
   ],
   "source": [
    "num = [0,1,2,3,4,5,6,7,8,9,10]\n",
    "for x in num:\n",
    "    if x==5:\n",
    "        break\n",
    "    print(x)"
   ]
  },
  {
   "cell_type": "markdown",
   "id": "0b37c9a7",
   "metadata": {},
   "source": [
    "## continue"
   ]
  },
  {
   "cell_type": "markdown",
   "id": "cff858e4",
   "metadata": {},
   "source": [
    "The continue statement does nothing for the current iteration and continues on to the next loop"
   ]
  },
  {
   "cell_type": "code",
   "execution_count": 7,
   "id": "23bb563d",
   "metadata": {},
   "outputs": [
    {
     "name": "stdout",
     "output_type": "stream",
     "text": [
      "0\n",
      "1\n",
      "2\n",
      "3\n",
      "4\n",
      "6\n",
      "7\n",
      "8\n",
      "9\n",
      "10\n"
     ]
    }
   ],
   "source": [
    "num = [0,1,2,3,4,5,6,7,8,9,10]\n",
    "for x in num:\n",
    "    if x==5:\n",
    "        continue\n",
    "    print(x)"
   ]
  }
 ],
 "metadata": {
  "kernelspec": {
   "display_name": "Python 3 (ipykernel)",
   "language": "python",
   "name": "python3"
  },
  "language_info": {
   "codemirror_mode": {
    "name": "ipython",
    "version": 3
   },
   "file_extension": ".py",
   "mimetype": "text/x-python",
   "name": "python",
   "nbconvert_exporter": "python",
   "pygments_lexer": "ipython3",
   "version": "3.9.7"
  }
 },
 "nbformat": 4,
 "nbformat_minor": 5
}
