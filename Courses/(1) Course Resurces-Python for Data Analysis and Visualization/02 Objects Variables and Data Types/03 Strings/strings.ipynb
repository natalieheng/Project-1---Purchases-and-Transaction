{
 "cells": [
  {
   "cell_type": "markdown",
   "id": "9cf6f4d7",
   "metadata": {},
   "source": [
    "# Strings"
   ]
  },
  {
   "cell_type": "markdown",
   "id": "8cb91609",
   "metadata": {},
   "source": [
    "Strings are sequences of characters"
   ]
  },
  {
   "cell_type": "markdown",
   "id": "ceba7293",
   "metadata": {},
   "source": [
    "Strings should be enclosed in:\n",
    "* Single quotes: 'This is a string'\n",
    "* Double quotes: \"This is a string\"\n",
    "* Triple quotes: '''This is a string''' and \"\"\"This is also a string\"\"\""
   ]
  },
  {
   "cell_type": "code",
   "execution_count": 1,
   "id": "25383757",
   "metadata": {},
   "outputs": [
    {
     "data": {
      "text/plain": [
       "'This is a string'"
      ]
     },
     "execution_count": 1,
     "metadata": {},
     "output_type": "execute_result"
    }
   ],
   "source": [
    "# String enclosed in single quotes\n",
    "'This is a string'"
   ]
  },
  {
   "cell_type": "code",
   "execution_count": 2,
   "id": "52224a8e",
   "metadata": {},
   "outputs": [
    {
     "data": {
      "text/plain": [
       "str"
      ]
     },
     "execution_count": 2,
     "metadata": {},
     "output_type": "execute_result"
    }
   ],
   "source": [
    "# The type is str which confirms it is indeed a string\n",
    "type('This is a string')"
   ]
  },
  {
   "cell_type": "code",
   "execution_count": 3,
   "id": "a54fdcbd",
   "metadata": {},
   "outputs": [
    {
     "data": {
      "text/plain": [
       "str"
      ]
     },
     "execution_count": 3,
     "metadata": {},
     "output_type": "execute_result"
    }
   ],
   "source": [
    "# String enclosed in double quotes\n",
    "type(\"This is a string\")"
   ]
  },
  {
   "cell_type": "code",
   "execution_count": 4,
   "id": "31c8a093",
   "metadata": {},
   "outputs": [
    {
     "data": {
      "text/plain": [
       "str"
      ]
     },
     "execution_count": 4,
     "metadata": {},
     "output_type": "execute_result"
    }
   ],
   "source": [
    "# String enclosed in triple single quotes\n",
    "type('''This is a string''')"
   ]
  },
  {
   "cell_type": "code",
   "execution_count": 5,
   "id": "0504411b",
   "metadata": {},
   "outputs": [
    {
     "data": {
      "text/plain": [
       "str"
      ]
     },
     "execution_count": 5,
     "metadata": {},
     "output_type": "execute_result"
    }
   ],
   "source": [
    "# String enclosed in triple double quotes\n",
    "type(\"\"\"This is a string\"\"\")"
   ]
  },
  {
   "cell_type": "code",
   "execution_count": 1,
   "id": "2d2963e5",
   "metadata": {},
   "outputs": [
    {
     "data": {
      "text/plain": [
       "int"
      ]
     },
     "execution_count": 1,
     "metadata": {},
     "output_type": "execute_result"
    }
   ],
   "source": [
    "type(2)"
   ]
  },
  {
   "cell_type": "code",
   "execution_count": 6,
   "id": "4f7402de",
   "metadata": {},
   "outputs": [
    {
     "data": {
      "text/plain": [
       "str"
      ]
     },
     "execution_count": 6,
     "metadata": {},
     "output_type": "execute_result"
    }
   ],
   "source": [
    "# A number enclosed in quotes is also a string\n",
    "type('2')"
   ]
  },
  {
   "cell_type": "code",
   "execution_count": 7,
   "id": "edce28ba",
   "metadata": {},
   "outputs": [
    {
     "ename": "SyntaxError",
     "evalue": "invalid syntax (2613145133.py, line 2)",
     "output_type": "error",
     "traceback": [
      "\u001b[0;36m  File \u001b[0;32m\"/var/folders/yg/s7srppzj68gg2kxw49gsgbyr0000gn/T/ipykernel_53762/2613145133.py\"\u001b[0;36m, line \u001b[0;32m2\u001b[0m\n\u001b[0;31m    'I don't think this will work'\u001b[0m\n\u001b[0m           ^\u001b[0m\n\u001b[0;31mSyntaxError\u001b[0m\u001b[0;31m:\u001b[0m invalid syntax\n"
     ]
    }
   ],
   "source": [
    "# If a string contains a single quote it should not be enclosed in single quotes\n",
    "'I don't think this will work'"
   ]
  },
  {
   "cell_type": "code",
   "execution_count": 2,
   "id": "58311214",
   "metadata": {},
   "outputs": [
    {
     "data": {
      "text/plain": [
       "\"It's going to work now\""
      ]
     },
     "execution_count": 2,
     "metadata": {},
     "output_type": "execute_result"
    }
   ],
   "source": [
    "# If a string contains a single quote it should be enclosed in double quotes\n",
    "\n",
    "\"It's going to work now\""
   ]
  },
  {
   "cell_type": "code",
   "execution_count": 3,
   "id": "71d0a9ac",
   "metadata": {},
   "outputs": [
    {
     "ename": "SyntaxError",
     "evalue": "invalid syntax (2336423699.py, line 2)",
     "output_type": "error",
     "traceback": [
      "\u001b[0;36m  File \u001b[0;32m\"/var/folders/qs/xb1jbyld51vb97tmpps_g21w0000gn/T/ipykernel_90459/2336423699.py\"\u001b[0;36m, line \u001b[0;32m2\u001b[0m\n\u001b[0;31m    \"The student said \"its fun to learn Python\"\"\u001b[0m\n\u001b[0m                       ^\u001b[0m\n\u001b[0;31mSyntaxError\u001b[0m\u001b[0;31m:\u001b[0m invalid syntax\n"
     ]
    }
   ],
   "source": [
    "# This string contains double quotes, so it should not be enclosed in double quotes\n",
    "\"The student said \"its fun to learn Python\"\""
   ]
  },
  {
   "cell_type": "code",
   "execution_count": 4,
   "id": "193438d4",
   "metadata": {},
   "outputs": [
    {
     "data": {
      "text/plain": [
       "'The student said \"it is fun to learn Python\"'"
      ]
     },
     "execution_count": 4,
     "metadata": {},
     "output_type": "execute_result"
    }
   ],
   "source": [
    "# This string contains double quotes, so it can be enclosed in single quotes\n",
    "'The student said \"it is fun to learn Python\"'"
   ]
  },
  {
   "cell_type": "code",
   "execution_count": 5,
   "id": "49df6557",
   "metadata": {},
   "outputs": [
    {
     "data": {
      "text/plain": [
       "'The student said \"it\\'s fun to learn Python\"'"
      ]
     },
     "execution_count": 5,
     "metadata": {},
     "output_type": "execute_result"
    }
   ],
   "source": [
    "# ... or triple single quotes\n",
    "# note the backslash is an escape character to differentiate between the single quotes enclosing the string\n",
    "'''The student said \"it's fun to learn Python\"'''"
   ]
  },
  {
   "cell_type": "code",
   "execution_count": 7,
   "id": "5779379b",
   "metadata": {},
   "outputs": [
    {
     "data": {
      "text/plain": [
       "\"this isn't what I expected\""
      ]
     },
     "execution_count": 7,
     "metadata": {},
     "output_type": "execute_result"
    }
   ],
   "source": [
    "'this isn\\'t what I expected'"
   ]
  },
  {
   "cell_type": "markdown",
   "id": "fac16d61",
   "metadata": {},
   "source": [
    "### Escape Sequences"
   ]
  },
  {
   "cell_type": "markdown",
   "id": "44b3473c",
   "metadata": {},
   "source": [
    "using /n (escape sequence) which basically helps to return and start the output in a new line \n",
    "/t - stands for tab (4 white spaces) "
   ]
  },
  {
   "cell_type": "code",
   "execution_count": 8,
   "id": "2d0f85ea",
   "metadata": {},
   "outputs": [
    {
     "data": {
      "text/plain": [
       "\"this isn't what I expected\""
      ]
     },
     "execution_count": 8,
     "metadata": {},
     "output_type": "execute_result"
    }
   ],
   "source": [
    "# Alternatively, if you add the backslash escape character before the single quote then it prevents an error\n",
    "'this isn\\'t what I expected'"
   ]
  },
  {
   "cell_type": "code",
   "execution_count": 9,
   "id": "d89f8ba4",
   "metadata": {},
   "outputs": [
    {
     "ename": "SyntaxError",
     "evalue": "EOL while scanning string literal (1984011863.py, line 2)",
     "output_type": "error",
     "traceback": [
      "\u001b[0;36m  File \u001b[0;32m\"/var/folders/qs/xb1jbyld51vb97tmpps_g21w0000gn/T/ipykernel_90459/1984011863.py\"\u001b[0;36m, line \u001b[0;32m2\u001b[0m\n\u001b[0;31m    print('hello I would like this\u001b[0m\n\u001b[0m                                   ^\u001b[0m\n\u001b[0;31mSyntaxError\u001b[0m\u001b[0;31m:\u001b[0m EOL while scanning string literal\n"
     ]
    }
   ],
   "source": [
    "# You cannot print multiple lines unless you use a special escape sequence...\n",
    "print('hello I would like this \n",
    "      string in two lines')"
   ]
  },
  {
   "cell_type": "code",
   "execution_count": 10,
   "id": "549b3406",
   "metadata": {},
   "outputs": [
    {
     "name": "stdout",
     "output_type": "stream",
     "text": [
      "hello I would like this \n",
      "string in two lines\n"
     ]
    }
   ],
   "source": [
    "# The escape sequence '\\n' prints the remaining text in a new line\n",
    "print('hello I would like this \\nstring in two lines')"
   ]
  },
  {
   "cell_type": "code",
   "execution_count": 11,
   "id": "3eab988e",
   "metadata": {},
   "outputs": [
    {
     "name": "stdout",
     "output_type": "stream",
     "text": [
      "hello I would like this \n",
      " string in two lines\n"
     ]
    }
   ],
   "source": [
    "# This time there is an extra whitespace after the escape sequence\n",
    "print('hello I would like this \\n string in two lines')"
   ]
  },
  {
   "cell_type": "code",
   "execution_count": 12,
   "id": "b219a2f2",
   "metadata": {},
   "outputs": [
    {
     "name": "stdout",
     "output_type": "stream",
     "text": [
      "hello I would like this \t string in two lines\n"
     ]
    }
   ],
   "source": [
    "# '\\t' is an escape sequence that prints a tab which is 4 whitespace characters\n",
    "print('hello I would like this \\t string in two lines')"
   ]
  },
  {
   "cell_type": "markdown",
   "id": "bb26afa7",
   "metadata": {},
   "source": [
    "### Some more escape sequences"
   ]
  },
  {
   "attachments": {
    "Escape%20sequences%20wide.png": {
     "image/png": "[encoded data removed]"
    }
   },
   "cell_type": "markdown",
   "id": "e6ea2cd9",
   "metadata": {},
   "source": [
    "![Escape%20sequences%20wide.png](attachment:Escape%20sequences%20wide.png)"
   ]
  },
  {
   "cell_type": "markdown",
   "id": "c23ba02b",
   "metadata": {},
   "source": [
    "## Additional Resources and Guidance: \n",
    "* https://docs.python.org/3/library/stdtypes.html#text-sequence-type-str"
   ]
  }
 ],
 "metadata": {
  "kernelspec": {
   "display_name": "Python 3 (ipykernel)",
   "language": "python",
   "name": "python3"
  },
  "language_info": {
   "codemirror_mode": {
    "name": "ipython",
    "version": 3
   },
   "file_extension": ".py",
   "mimetype": "text/x-python",
   "name": "python",
   "nbconvert_exporter": "python",
   "pygments_lexer": "ipython3",
   "version": "3.9.13"
  }
 },
 "nbformat": 4,
 "nbformat_minor": 5
}
