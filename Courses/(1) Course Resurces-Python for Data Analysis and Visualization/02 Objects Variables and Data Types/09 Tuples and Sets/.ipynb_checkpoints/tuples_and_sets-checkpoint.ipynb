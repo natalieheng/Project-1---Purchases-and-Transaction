{
 "cells": [
  {
   "cell_type": "markdown",
   "id": "84fd9e07",
   "metadata": {},
   "source": [
    "# Tuples"
   ]
  },
  {
   "cell_type": "markdown",
   "id": "60d36f97",
   "metadata": {},
   "source": [
    "Tuples are ordered sequences of values or elements enclosed inside round braces.\n",
    "\n",
    "Tuples can store multiple items into a single variable.\n",
    "\n",
    "Tuples allow duplicate values.\n",
    "\n",
    "Tuples are immutable!"
   ]
  },
  {
   "cell_type": "code",
   "execution_count": 1,
   "id": "1176f0c4",
   "metadata": {},
   "outputs": [],
   "source": [
    "# A tuple is enclosed with round braces\n",
    "x = (1,2,2,3)"
   ]
  },
  {
   "cell_type": "code",
   "execution_count": 2,
   "id": "0708e2e7",
   "metadata": {},
   "outputs": [
    {
     "data": {
      "text/plain": [
       "(1, 2, 2, 3)"
      ]
     },
     "execution_count": 2,
     "metadata": {},
     "output_type": "execute_result"
    }
   ],
   "source": [
    "x"
   ]
  },
  {
   "cell_type": "code",
   "execution_count": 3,
   "id": "4fa3c0a2",
   "metadata": {},
   "outputs": [
    {
     "data": {
      "text/plain": [
       "tuple"
      ]
     },
     "execution_count": 3,
     "metadata": {},
     "output_type": "execute_result"
    }
   ],
   "source": [
    "type(x)"
   ]
  },
  {
   "cell_type": "code",
   "execution_count": 4,
   "id": "faa66dc7",
   "metadata": {},
   "outputs": [],
   "source": [
    "# You can store elements of different data types in a tuple\n",
    "x=(1,'John',[1,2,3],{'key1','value1'})"
   ]
  },
  {
   "cell_type": "code",
   "execution_count": 5,
   "id": "9aef0e70",
   "metadata": {},
   "outputs": [
    {
     "data": {
      "text/plain": [
       "(1, 'John', [1, 2, 3], {'key1', 'value1'})"
      ]
     },
     "execution_count": 5,
     "metadata": {},
     "output_type": "execute_result"
    }
   ],
   "source": [
    "x"
   ]
  },
  {
   "cell_type": "code",
   "execution_count": 6,
   "id": "bd6327de",
   "metadata": {},
   "outputs": [
    {
     "data": {
      "text/plain": [
       "tuple"
      ]
     },
     "execution_count": 6,
     "metadata": {},
     "output_type": "execute_result"
    }
   ],
   "source": [
    "type(x)"
   ]
  },
  {
   "cell_type": "code",
   "execution_count": 7,
   "id": "7e979e17",
   "metadata": {},
   "outputs": [
    {
     "data": {
      "text/plain": [
       "1"
      ]
     },
     "execution_count": 7,
     "metadata": {},
     "output_type": "execute_result"
    }
   ],
   "source": [
    "# You can perform indexing and slicing on a tuple\n",
    "x[0]"
   ]
  },
  {
   "cell_type": "code",
   "execution_count": 8,
   "id": "16334ba2",
   "metadata": {},
   "outputs": [
    {
     "ename": "TypeError",
     "evalue": "'tuple' object does not support item assignment",
     "output_type": "error",
     "traceback": [
      "\u001b[0;31m---------------------------------------------------------------------------\u001b[0m",
      "\u001b[0;31mTypeError\u001b[0m                                 Traceback (most recent call last)",
      "\u001b[0;32m/var/folders/yg/s7srppzj68gg2kxw49gsgbyr0000gn/T/ipykernel_90829/191288293.py\u001b[0m in \u001b[0;36m<module>\u001b[0;34m\u001b[0m\n\u001b[0;32m----> 1\u001b[0;31m \u001b[0mx\u001b[0m\u001b[0;34m[\u001b[0m\u001b[0;36m0\u001b[0m\u001b[0;34m]\u001b[0m\u001b[0;34m=\u001b[0m\u001b[0;36m2\u001b[0m\u001b[0;34m\u001b[0m\u001b[0;34m\u001b[0m\u001b[0m\n\u001b[0m",
      "\u001b[0;31mTypeError\u001b[0m: 'tuple' object does not support item assignment"
     ]
    }
   ],
   "source": [
    "# But a tuple (unlike a list) is immutable\n",
    "x[0]=2"
   ]
  },
  {
   "cell_type": "code",
   "execution_count": 9,
   "id": "ea83f8e3",
   "metadata": {},
   "outputs": [],
   "source": [
    "# A tuple can store duplicated values\n",
    "x = (1,1,1,2,3,3,3,3)"
   ]
  },
  {
   "cell_type": "code",
   "execution_count": 10,
   "id": "96d9517a",
   "metadata": {},
   "outputs": [
    {
     "data": {
      "text/plain": [
       "(1, 1, 1, 2, 3, 3, 3, 3)"
      ]
     },
     "execution_count": 10,
     "metadata": {},
     "output_type": "execute_result"
    }
   ],
   "source": [
    "x"
   ]
  },
  {
   "cell_type": "code",
   "execution_count": 11,
   "id": "d4878710",
   "metadata": {},
   "outputs": [
    {
     "data": {
      "text/plain": [
       "3"
      ]
     },
     "execution_count": 11,
     "metadata": {},
     "output_type": "execute_result"
    }
   ],
   "source": [
    "# The count method counts occurences of the value in the parenthesis\n",
    "x.count(1)"
   ]
  },
  {
   "cell_type": "code",
   "execution_count": 13,
   "id": "e75c1744",
   "metadata": {},
   "outputs": [
    {
     "data": {
      "text/plain": [
       "4"
      ]
     },
     "execution_count": 13,
     "metadata": {},
     "output_type": "execute_result"
    }
   ],
   "source": [
    "# The index method returns the index location of the first occurence of the value in the parenthesis\n",
    "x.index(3)"
   ]
  },
  {
   "cell_type": "markdown",
   "id": "8b9bb88b",
   "metadata": {},
   "source": [
    "# Sets"
   ]
  },
  {
   "cell_type": "markdown",
   "id": "67e6d178",
   "metadata": {},
   "source": [
    "Sets are mutable sequences of values or elements enclosed inside curly braces.\n",
    "\n",
    "Sets can store multiple items into a single variable.\n",
    "\n",
    "Sets are unordered.\n",
    "\n",
    "Sets do NOT allow duplicate values!\n",
    "\n",
    "You cannot index or slice sets!"
   ]
  },
  {
   "cell_type": "code",
   "execution_count": 14,
   "id": "0a357b98",
   "metadata": {},
   "outputs": [],
   "source": [
    "# A set is enclosed inside curly braces just like a dictionary\n",
    "# But unlike a dictionary it doesn't store key value pairs\n",
    "x = {1,2,3}"
   ]
  },
  {
   "cell_type": "code",
   "execution_count": 15,
   "id": "416d80a5",
   "metadata": {},
   "outputs": [
    {
     "data": {
      "text/plain": [
       "{1, 2, 3}"
      ]
     },
     "execution_count": 15,
     "metadata": {},
     "output_type": "execute_result"
    }
   ],
   "source": [
    "x"
   ]
  },
  {
   "cell_type": "code",
   "execution_count": 16,
   "id": "90eeea23",
   "metadata": {},
   "outputs": [
    {
     "data": {
      "text/plain": [
       "set"
      ]
     },
     "execution_count": 16,
     "metadata": {},
     "output_type": "execute_result"
    }
   ],
   "source": [
    "type(x)"
   ]
  },
  {
   "cell_type": "code",
   "execution_count": 17,
   "id": "8158ae9b",
   "metadata": {},
   "outputs": [],
   "source": [
    "# This is the way you create an empty set\n",
    "x=set()"
   ]
  },
  {
   "cell_type": "code",
   "execution_count": 18,
   "id": "10afdf95",
   "metadata": {},
   "outputs": [
    {
     "data": {
      "text/plain": [
       "set"
      ]
     },
     "execution_count": 18,
     "metadata": {},
     "output_type": "execute_result"
    }
   ],
   "source": [
    "type(x)"
   ]
  },
  {
   "cell_type": "code",
   "execution_count": 19,
   "id": "46727df7",
   "metadata": {},
   "outputs": [
    {
     "data": {
      "text/plain": [
       "set()"
      ]
     },
     "execution_count": 19,
     "metadata": {},
     "output_type": "execute_result"
    }
   ],
   "source": [
    "x"
   ]
  },
  {
   "cell_type": "code",
   "execution_count": 20,
   "id": "c303171c",
   "metadata": {},
   "outputs": [],
   "source": [
    "# This will create an empty dictionary object\n",
    "x={}"
   ]
  },
  {
   "cell_type": "code",
   "execution_count": 21,
   "id": "b84c34b1",
   "metadata": {},
   "outputs": [
    {
     "data": {
      "text/plain": [
       "dict"
      ]
     },
     "execution_count": 21,
     "metadata": {},
     "output_type": "execute_result"
    }
   ],
   "source": [
    "type(x)"
   ]
  },
  {
   "cell_type": "code",
   "execution_count": 22,
   "id": "55342337",
   "metadata": {},
   "outputs": [],
   "source": [
    "# Sets can take elements of different data types\n",
    "x = {1,2,'John'}"
   ]
  },
  {
   "cell_type": "code",
   "execution_count": 23,
   "id": "b3ff5af3",
   "metadata": {},
   "outputs": [
    {
     "data": {
      "text/plain": [
       "{1, 2, 'John'}"
      ]
     },
     "execution_count": 23,
     "metadata": {},
     "output_type": "execute_result"
    }
   ],
   "source": [
    "x"
   ]
  },
  {
   "cell_type": "markdown",
   "id": "54007571",
   "metadata": {},
   "source": [
    "## Additional Resources and Guidance: \n",
    "* https://docs.python.org/3/tutorial/datastructures.html#tuples-and-sequences"
   ]
  },
  {
   "cell_type": "markdown",
   "id": "60c80360",
   "metadata": {},
   "source": [
    "## Set Methods"
   ]
  },
  {
   "cell_type": "code",
   "execution_count": 24,
   "id": "515af5de",
   "metadata": {},
   "outputs": [],
   "source": [
    "# The add method adds an element into a set\n",
    "x.add(5)"
   ]
  },
  {
   "cell_type": "code",
   "execution_count": 25,
   "id": "b1a0f8f7",
   "metadata": {},
   "outputs": [
    {
     "data": {
      "text/plain": [
       "{1, 2, 5, 'John'}"
      ]
     },
     "execution_count": 25,
     "metadata": {},
     "output_type": "execute_result"
    }
   ],
   "source": [
    "x"
   ]
  },
  {
   "cell_type": "code",
   "execution_count": 26,
   "id": "0cd0f254",
   "metadata": {},
   "outputs": [],
   "source": [
    "# Duplicate elements will not get added to the set\n",
    "x.add(5)"
   ]
  },
  {
   "cell_type": "code",
   "execution_count": 27,
   "id": "00f2ea24",
   "metadata": {},
   "outputs": [
    {
     "data": {
      "text/plain": [
       "{1, 2, 5, 'John'}"
      ]
     },
     "execution_count": 27,
     "metadata": {},
     "output_type": "execute_result"
    }
   ],
   "source": [
    "x"
   ]
  },
  {
   "cell_type": "code",
   "execution_count": 28,
   "id": "4d82d219",
   "metadata": {},
   "outputs": [],
   "source": [
    "# Duplicate elements will be removed on set creation\n",
    "y = {1,2,2,2,2,2}"
   ]
  },
  {
   "cell_type": "code",
   "execution_count": 29,
   "id": "40c84215",
   "metadata": {},
   "outputs": [
    {
     "data": {
      "text/plain": [
       "{1, 2}"
      ]
     },
     "execution_count": 29,
     "metadata": {},
     "output_type": "execute_result"
    }
   ],
   "source": [
    "\n",
    "y"
   ]
  },
  {
   "cell_type": "code",
   "execution_count": 30,
   "id": "56a03fa3",
   "metadata": {},
   "outputs": [
    {
     "ename": "TypeError",
     "evalue": "'set' object is not subscriptable",
     "output_type": "error",
     "traceback": [
      "\u001b[0;31m---------------------------------------------------------------------------\u001b[0m",
      "\u001b[0;31mTypeError\u001b[0m                                 Traceback (most recent call last)",
      "\u001b[0;32m/var/folders/yg/s7srppzj68gg2kxw49gsgbyr0000gn/T/ipykernel_90829/1463351067.py\u001b[0m in \u001b[0;36m<module>\u001b[0;34m\u001b[0m\n\u001b[0;32m----> 1\u001b[0;31m \u001b[0my\u001b[0m\u001b[0;34m[\u001b[0m\u001b[0;36m1\u001b[0m\u001b[0;34m]\u001b[0m\u001b[0;34m\u001b[0m\u001b[0;34m\u001b[0m\u001b[0m\n\u001b[0m",
      "\u001b[0;31mTypeError\u001b[0m: 'set' object is not subscriptable"
     ]
    }
   ],
   "source": [
    "# You cannot index or slice a set\n",
    "y[1]"
   ]
  },
  {
   "cell_type": "code",
   "execution_count": 31,
   "id": "439a0b56",
   "metadata": {},
   "outputs": [],
   "source": [
    "list_1 = [1,2,2,3]"
   ]
  },
  {
   "cell_type": "code",
   "execution_count": 32,
   "id": "daddbd40",
   "metadata": {},
   "outputs": [],
   "source": [
    "# A list can be converted to a set. However, duplicate elements will be removed\n",
    "set_1 = set(list_1)"
   ]
  },
  {
   "cell_type": "code",
   "execution_count": 33,
   "id": "58fc7862",
   "metadata": {},
   "outputs": [
    {
     "data": {
      "text/plain": [
       "{1, 2, 3}"
      ]
     },
     "execution_count": 33,
     "metadata": {},
     "output_type": "execute_result"
    }
   ],
   "source": [
    "set_1"
   ]
  },
  {
   "cell_type": "code",
   "execution_count": 34,
   "id": "9a8cf881",
   "metadata": {},
   "outputs": [],
   "source": [
    "x = {1,2,3,4}\n",
    "y = {3,4,5,6}"
   ]
  },
  {
   "cell_type": "code",
   "execution_count": 35,
   "id": "283be02d",
   "metadata": {},
   "outputs": [
    {
     "data": {
      "text/plain": [
       "{3, 4}"
      ]
     },
     "execution_count": 35,
     "metadata": {},
     "output_type": "execute_result"
    }
   ],
   "source": [
    "# The intersection method returns common elements between two sets\n",
    "x.intersection(y)"
   ]
  },
  {
   "cell_type": "markdown",
   "id": "62b3db85",
   "metadata": {},
   "source": [
    "## Additional Resources and Guidance: \n",
    "* https://docs.python.org/3/tutorial/datastructures.html#sets\n",
    "* https://www.w3schools.com/python/python_ref_set.asp"
   ]
  }
 ],
 "metadata": {
  "kernelspec": {
   "display_name": "Python 3 (ipykernel)",
   "language": "python",
   "name": "python3"
  },
  "language_info": {
   "codemirror_mode": {
    "name": "ipython",
    "version": 3
   },
   "file_extension": ".py",
   "mimetype": "text/x-python",
   "name": "python",
   "nbconvert_exporter": "python",
   "pygments_lexer": "ipython3",
   "version": "3.9.13"
  }
 },
 "nbformat": 4,
 "nbformat_minor": 5
}
