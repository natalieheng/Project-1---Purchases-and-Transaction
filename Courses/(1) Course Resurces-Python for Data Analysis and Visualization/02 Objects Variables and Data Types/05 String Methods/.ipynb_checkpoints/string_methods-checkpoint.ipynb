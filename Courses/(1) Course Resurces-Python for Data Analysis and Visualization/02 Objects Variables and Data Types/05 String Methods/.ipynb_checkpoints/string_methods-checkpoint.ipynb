{
 "cells": [
  {
   "cell_type": "markdown",
   "id": "2fa7bc6a",
   "metadata": {},
   "source": [
    "## String Methods"
   ]
  },
  {
   "cell_type": "code",
   "execution_count": 1,
   "id": "6011b99b",
   "metadata": {},
   "outputs": [
    {
     "data": {
      "text/plain": [
       "'THIS IS A STRING'"
      ]
     },
     "execution_count": 1,
     "metadata": {},
     "output_type": "execute_result"
    }
   ],
   "source": [
    "# The upper() method returns the string in uppecase\n",
    "x = 'This is a string'\n",
    "x.upper()"
   ]
  },
  {
   "cell_type": "code",
   "execution_count": 2,
   "id": "2653bba7",
   "metadata": {},
   "outputs": [
    {
     "data": {
      "text/plain": [
       "'This is a string'"
      ]
     },
     "execution_count": 2,
     "metadata": {},
     "output_type": "execute_result"
    }
   ],
   "source": [
    "# The upper() method is not in-place\n",
    "# the variable will need to be reassigned to the previous result to keep it in upper case\n",
    "x"
   ]
  },
  {
   "cell_type": "code",
   "execution_count": 3,
   "id": "a0ba1fd8",
   "metadata": {},
   "outputs": [],
   "source": [
    "x = x.upper()"
   ]
  },
  {
   "cell_type": "code",
   "execution_count": 4,
   "id": "d6d4e575",
   "metadata": {},
   "outputs": [
    {
     "data": {
      "text/plain": [
       "'THIS IS A STRING'"
      ]
     },
     "execution_count": 4,
     "metadata": {},
     "output_type": "execute_result"
    }
   ],
   "source": [
    "x"
   ]
  },
  {
   "cell_type": "code",
   "execution_count": 5,
   "id": "45b337a3",
   "metadata": {},
   "outputs": [
    {
     "data": {
      "text/plain": [
       "'this is a string'"
      ]
     },
     "execution_count": 5,
     "metadata": {},
     "output_type": "execute_result"
    }
   ],
   "source": [
    "# The lower() method returns the string in lowercase\n",
    "x.lower()"
   ]
  },
  {
   "cell_type": "markdown",
   "id": "03d172a2",
   "metadata": {},
   "source": [
    "### find(text, start, stop)"
   ]
  },
  {
   "cell_type": "markdown",
   "id": "f2cff5fb",
   "metadata": {},
   "source": [
    "The find method searches for text in the target string, it takes three parameters\n",
    "* text is the text to search for\n",
    "* start is the start index position, this is optional\n",
    "* stop is the stop index position, this is optional\n",
    "\n",
    "0 is a match, -1 is not a match"
   ]
  },
  {
   "cell_type": "code",
   "execution_count": 6,
   "id": "e0d23146",
   "metadata": {},
   "outputs": [],
   "source": [
    "y = 'Red Flag'"
   ]
  },
  {
   "cell_type": "code",
   "execution_count": 7,
   "id": "35979a3c",
   "metadata": {},
   "outputs": [
    {
     "data": {
      "text/plain": [
       "0"
      ]
     },
     "execution_count": 7,
     "metadata": {},
     "output_type": "execute_result"
    }
   ],
   "source": [
    "# Checking to see if the text 'Red' is contained in the variable y\n",
    "y.find(\"Red\")"
   ]
  },
  {
   "cell_type": "code",
   "execution_count": 8,
   "id": "b9456256",
   "metadata": {},
   "outputs": [
    {
     "data": {
      "text/plain": [
       "-1"
      ]
     },
     "execution_count": 8,
     "metadata": {},
     "output_type": "execute_result"
    }
   ],
   "source": [
    "# It is case sensitive\n",
    "y.find('red')"
   ]
  },
  {
   "cell_type": "code",
   "execution_count": 9,
   "id": "9c7c27cc",
   "metadata": {},
   "outputs": [
    {
     "data": {
      "text/plain": [
       "0"
      ]
     },
     "execution_count": 9,
     "metadata": {},
     "output_type": "execute_result"
    }
   ],
   "source": [
    "# Checking to see if the text 'Red Flag' is contained in the variable y\n",
    "y.find('Red Flag')"
   ]
  },
  {
   "cell_type": "markdown",
   "id": "80893930",
   "metadata": {},
   "source": [
    "### replace(old text, new text, count)"
   ]
  },
  {
   "cell_type": "markdown",
   "id": "ddcf8082",
   "metadata": {},
   "source": [
    "The replace method can replace text with new text.\n",
    "It takes 3 parameters:\n",
    "* old text is the text to be replaced\n",
    "* new text is the text to replace with\n",
    "* The count parameter is the number of times you want to replace the old text, by default this is all occurences of the old text to be replaced"
   ]
  },
  {
   "cell_type": "code",
   "execution_count": 10,
   "id": "a46c109b",
   "metadata": {},
   "outputs": [
    {
     "data": {
      "text/plain": [
       "'Red Flag'"
      ]
     },
     "execution_count": 10,
     "metadata": {},
     "output_type": "execute_result"
    }
   ],
   "source": [
    "y"
   ]
  },
  {
   "cell_type": "code",
   "execution_count": 11,
   "id": "d2d805a4",
   "metadata": {},
   "outputs": [
    {
     "data": {
      "text/plain": [
       "'Green Flag'"
      ]
     },
     "execution_count": 11,
     "metadata": {},
     "output_type": "execute_result"
    }
   ],
   "source": [
    "# Replacing 'Red' with 'Green'\n",
    "y.replace('Red','Green')"
   ]
  },
  {
   "cell_type": "code",
   "execution_count": 12,
   "id": "3a834f85",
   "metadata": {},
   "outputs": [
    {
     "data": {
      "text/plain": [
       "'Red Flag'"
      ]
     },
     "execution_count": 12,
     "metadata": {},
     "output_type": "execute_result"
    }
   ],
   "source": [
    "# The change doesn't happen in place, y will need to be reassigned\n",
    "y"
   ]
  },
  {
   "cell_type": "code",
   "execution_count": 13,
   "id": "3557a48f",
   "metadata": {},
   "outputs": [],
   "source": [
    "y = y.replace('Red','Green')"
   ]
  },
  {
   "cell_type": "code",
   "execution_count": 14,
   "id": "e4ee553a",
   "metadata": {},
   "outputs": [
    {
     "data": {
      "text/plain": [
       "'Green Flag'"
      ]
     },
     "execution_count": 14,
     "metadata": {},
     "output_type": "execute_result"
    }
   ],
   "source": [
    "y"
   ]
  },
  {
   "cell_type": "markdown",
   "id": "e56aa50c",
   "metadata": {},
   "source": [
    "### split()"
   ]
  },
  {
   "cell_type": "markdown",
   "id": "783a697b",
   "metadata": {},
   "source": [
    "The split() method will split a string into a list, by default the string will be seperated by each whitespace character"
   ]
  },
  {
   "cell_type": "code",
   "execution_count": 15,
   "id": "3934bb28",
   "metadata": {},
   "outputs": [
    {
     "data": {
      "text/plain": [
       "'THIS IS A STRING'"
      ]
     },
     "execution_count": 15,
     "metadata": {},
     "output_type": "execute_result"
    }
   ],
   "source": [
    "x"
   ]
  },
  {
   "cell_type": "code",
   "execution_count": 16,
   "id": "e44abd06",
   "metadata": {},
   "outputs": [
    {
     "data": {
      "text/plain": [
       "['THIS', 'IS', 'A', 'STRING']"
      ]
     },
     "execution_count": 16,
     "metadata": {},
     "output_type": "execute_result"
    }
   ],
   "source": [
    "# The result of applying the split method on x\n",
    "x.split()"
   ]
  },
  {
   "cell_type": "code",
   "execution_count": 17,
   "id": "5205823c",
   "metadata": {},
   "outputs": [],
   "source": [
    "# Reassigning variable x\n",
    "x = 'THIS, IS A STRING'"
   ]
  },
  {
   "cell_type": "code",
   "execution_count": 18,
   "id": "25951a1e",
   "metadata": {},
   "outputs": [
    {
     "data": {
      "text/plain": [
       "['THIS', ' IS A STRING']"
      ]
     },
     "execution_count": 18,
     "metadata": {},
     "output_type": "execute_result"
    }
   ],
   "source": [
    "# Using the split method with ',' as the specified seperator\n",
    "x.split(',')"
   ]
  },
  {
   "cell_type": "code",
   "execution_count": 19,
   "id": "8b734e68",
   "metadata": {},
   "outputs": [],
   "source": [
    "# Reassigning variable x\n",
    "x = 'THIS, IS A , STRING'"
   ]
  },
  {
   "cell_type": "code",
   "execution_count": 20,
   "id": "62f1cb34",
   "metadata": {},
   "outputs": [
    {
     "data": {
      "text/plain": [
       "['THIS', ' IS A ', ' STRING']"
      ]
     },
     "execution_count": 20,
     "metadata": {},
     "output_type": "execute_result"
    }
   ],
   "source": [
    "# Using the split method with ',' as the specified seperator\n",
    "x.split(',')"
   ]
  },
  {
   "cell_type": "code",
   "execution_count": 21,
   "id": "c3506d68",
   "metadata": {},
   "outputs": [
    {
     "data": {
      "text/plain": [
       "['THIS,', 'IS', 'A', ',', 'STRING']"
      ]
     },
     "execution_count": 21,
     "metadata": {},
     "output_type": "execute_result"
    }
   ],
   "source": [
    "# Using the split method with ' ' as the specified seperator (this is the default behaviour)\n",
    "x.split(' ')"
   ]
  },
  {
   "cell_type": "markdown",
   "id": "759b24e3",
   "metadata": {},
   "source": [
    "## Strings are immutable"
   ]
  },
  {
   "cell_type": "markdown",
   "id": "dcfdad13",
   "metadata": {},
   "source": [
    "Strings  are immutable. This means the value cannot be changed of individual character elements of the string."
   ]
  },
  {
   "cell_type": "code",
   "execution_count": 22,
   "id": "773bb0cd",
   "metadata": {},
   "outputs": [],
   "source": [
    "a = 'Hello'"
   ]
  },
  {
   "cell_type": "code",
   "execution_count": 23,
   "id": "1e2ab656",
   "metadata": {},
   "outputs": [
    {
     "data": {
      "text/plain": [
       "'Hello'"
      ]
     },
     "execution_count": 23,
     "metadata": {},
     "output_type": "execute_result"
    }
   ],
   "source": [
    "a"
   ]
  },
  {
   "cell_type": "code",
   "execution_count": 24,
   "id": "15d6e939",
   "metadata": {},
   "outputs": [],
   "source": [
    "# the string variable a can be reassigned\n",
    "a = 'Goodbye'"
   ]
  },
  {
   "cell_type": "code",
   "execution_count": 25,
   "id": "f90ae899",
   "metadata": {},
   "outputs": [
    {
     "data": {
      "text/plain": [
       "'Goodbye'"
      ]
     },
     "execution_count": 25,
     "metadata": {},
     "output_type": "execute_result"
    }
   ],
   "source": [
    "a"
   ]
  },
  {
   "cell_type": "code",
   "execution_count": 26,
   "id": "bf185a5b",
   "metadata": {},
   "outputs": [
    {
     "data": {
      "text/plain": [
       "'G'"
      ]
     },
     "execution_count": 26,
     "metadata": {},
     "output_type": "execute_result"
    }
   ],
   "source": [
    "a[0]"
   ]
  },
  {
   "cell_type": "code",
   "execution_count": 27,
   "id": "568b2d2c",
   "metadata": {},
   "outputs": [
    {
     "ename": "TypeError",
     "evalue": "'str' object does not support item assignment",
     "output_type": "error",
     "traceback": [
      "\u001b[0;31m---------------------------------------------------------------------------\u001b[0m",
      "\u001b[0;31mTypeError\u001b[0m                                 Traceback (most recent call last)",
      "\u001b[0;32m/var/folders/yg/s7srppzj68gg2kxw49gsgbyr0000gn/T/ipykernel_85346/1288952416.py\u001b[0m in \u001b[0;36m<module>\u001b[0;34m\u001b[0m\n\u001b[1;32m      1\u001b[0m \u001b[0;31m# But you cannot change an individual character due to its immutability\u001b[0m\u001b[0;34m\u001b[0m\u001b[0;34m\u001b[0m\u001b[0m\n\u001b[0;32m----> 2\u001b[0;31m \u001b[0ma\u001b[0m\u001b[0;34m[\u001b[0m\u001b[0;36m0\u001b[0m\u001b[0;34m]\u001b[0m\u001b[0;34m=\u001b[0m\u001b[0;34m'P'\u001b[0m\u001b[0;34m\u001b[0m\u001b[0;34m\u001b[0m\u001b[0m\n\u001b[0m",
      "\u001b[0;31mTypeError\u001b[0m: 'str' object does not support item assignment"
     ]
    }
   ],
   "source": [
    "# But you cannot change an individual character due to its immutability\n",
    "a[0]='P'"
   ]
  },
  {
   "cell_type": "markdown",
   "id": "c23ba02b",
   "metadata": {},
   "source": [
    "## Additional Resources and Guidance: \n",
    "* https://docs.python.org/3/library/stdtypes.html#text-sequence-type-str"
   ]
  }
 ],
 "metadata": {
  "kernelspec": {
   "display_name": "Python 3 (ipykernel)",
   "language": "python",
   "name": "python3"
  },
  "language_info": {
   "codemirror_mode": {
    "name": "ipython",
    "version": 3
   },
   "file_extension": ".py",
   "mimetype": "text/x-python",
   "name": "python",
   "nbconvert_exporter": "python",
   "pygments_lexer": "ipython3",
   "version": "3.9.13"
  }
 },
 "nbformat": 4,
 "nbformat_minor": 5
}
