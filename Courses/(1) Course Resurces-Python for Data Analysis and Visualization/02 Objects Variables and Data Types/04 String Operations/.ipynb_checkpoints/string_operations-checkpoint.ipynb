{
 "cells": [
  {
   "cell_type": "markdown",
   "id": "46906acd",
   "metadata": {},
   "source": [
    "## String slicing and indexing"
   ]
  },
  {
   "cell_type": "markdown",
   "id": "fbe88e0d",
   "metadata": {},
   "source": [
    "String indexing and slicing allows you to access specific characters or sequences of characters within a string"
   ]
  },
  {
   "cell_type": "markdown",
   "id": "944337b3",
   "metadata": {},
   "source": [
    "string[start:stop:step]"
   ]
  },
  {
   "cell_type": "markdown",
   "id": "edcaa377",
   "metadata": {},
   "source": [
    "start = starting index value of where the indexing or slicing starts"
   ]
  },
  {
   "cell_type": "markdown",
   "id": "96e00279",
   "metadata": {},
   "source": [
    "stop = index value of where the indexing or slicing stops"
   ]
  },
  {
   "cell_type": "markdown",
   "id": "1c83c275",
   "metadata": {},
   "source": [
    "step = the value indicates how many steps to 'skip' between indexes"
   ]
  },
  {
   "attachments": {
    "String%20Index%20Wide.png": {
     "image/png": "[encoded data removed]"
    }
   },
   "cell_type": "markdown",
   "id": "64ae5c35",
   "metadata": {},
   "source": [
    "![String%20Index%20Wide.png](attachment:String%20Index%20Wide.png)"
   ]
  },
  {
   "cell_type": "code",
   "execution_count": null,
   "id": "20bb320d",
   "metadata": {},
   "outputs": [],
   "source": [
    "x = 'This is a string'"
   ]
  },
  {
   "cell_type": "code",
   "execution_count": null,
   "id": "c3bba04f",
   "metadata": {},
   "outputs": [],
   "source": [
    "# To return the 4th character we require the index position 3\n",
    "x[3]"
   ]
  },
  {
   "cell_type": "code",
   "execution_count": null,
   "id": "a27cd44f",
   "metadata": {},
   "outputs": [],
   "source": [
    "# Here we are starting from index 0 up to (but not including) index position 4\n",
    "x[0:4]"
   ]
  },
  {
   "cell_type": "code",
   "execution_count": null,
   "id": "d47bbbdf",
   "metadata": {},
   "outputs": [],
   "source": [
    "# ... this is the same as not providing a start index at all\n",
    "x[:4]"
   ]
  },
  {
   "cell_type": "code",
   "execution_count": null,
   "id": "07c0cf99",
   "metadata": {},
   "outputs": [],
   "source": [
    "# ...it is also the same as providing a step value of 1, as this is the default step value when ommitted\n",
    "x[:4:1]"
   ]
  },
  {
   "cell_type": "code",
   "execution_count": null,
   "id": "efd2d339",
   "metadata": {},
   "outputs": [],
   "source": [
    "# this also produces the same result\n",
    "x[0:4:1]"
   ]
  },
  {
   "cell_type": "code",
   "execution_count": null,
   "id": "c4fd27e9",
   "metadata": {},
   "outputs": [],
   "source": [
    "# This returns a slice starting from the 3rd index up to the end of the string\n",
    "x[3::]"
   ]
  },
  {
   "cell_type": "code",
   "execution_count": null,
   "id": "33f6d5d9",
   "metadata": {},
   "outputs": [],
   "source": [
    "# Providing just the start parameter on its own will return the character at that index position\n",
    "x[3]"
   ]
  },
  {
   "cell_type": "code",
   "execution_count": null,
   "id": "b4fe2a7e",
   "metadata": {},
   "outputs": [],
   "source": [
    "# This returns a slice consisting of characters from index 5 and 6 as the stop value is exclusive\n",
    "x[5:7]"
   ]
  },
  {
   "cell_type": "code",
   "execution_count": null,
   "id": "878d0ec9",
   "metadata": {},
   "outputs": [],
   "source": [
    "x"
   ]
  },
  {
   "cell_type": "code",
   "execution_count": null,
   "id": "c66e0248",
   "metadata": {},
   "outputs": [],
   "source": [
    "# Providing a step of 2 will skip 2 characters between each index\n",
    "x[::2]"
   ]
  },
  {
   "cell_type": "code",
   "execution_count": null,
   "id": "9e39b0a4",
   "metadata": {},
   "outputs": [],
   "source": [
    "# Index position -1 is the last character of the string\n",
    "x[-1]"
   ]
  },
  {
   "cell_type": "code",
   "execution_count": null,
   "id": "460c17f3",
   "metadata": {},
   "outputs": [],
   "source": [
    "x[-16]"
   ]
  },
  {
   "cell_type": "code",
   "execution_count": null,
   "id": "474a8506",
   "metadata": {},
   "outputs": [],
   "source": [
    "# Providing a step of -1 will reverse the indexing\n",
    "x[::-1]"
   ]
  },
  {
   "cell_type": "markdown",
   "id": "c23ba02b",
   "metadata": {},
   "source": [
    "## Additional Resources and Guidance: \n",
    "* https://docs.python.org/3/library/stdtypes.html#text-sequence-type-str"
   ]
  }
 ],
 "metadata": {
  "kernelspec": {
   "display_name": "Python 3 (ipykernel)",
   "language": "python",
   "name": "python3"
  },
  "language_info": {
   "codemirror_mode": {
    "name": "ipython",
    "version": 3
   },
   "file_extension": ".py",
   "mimetype": "text/x-python",
   "name": "python",
   "nbconvert_exporter": "python",
   "pygments_lexer": "ipython3",
   "version": "3.9.13"
  }
 },
 "nbformat": 4,
 "nbformat_minor": 5
}
