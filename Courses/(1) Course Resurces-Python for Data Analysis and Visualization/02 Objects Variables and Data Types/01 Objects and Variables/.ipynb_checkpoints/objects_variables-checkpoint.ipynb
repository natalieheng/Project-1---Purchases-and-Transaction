{
 "cells": [
  {
   "cell_type": "markdown",
   "id": "9d9ae39f",
   "metadata": {},
   "source": [
    "# Objects"
   ]
  },
  {
   "cell_type": "markdown",
   "id": "1bfcd373",
   "metadata": {},
   "source": [
    "Python is an Object Oriented Programming Language, this means that it is centred around objects. These objects have associated methods and attributes."
   ]
  },
  {
   "cell_type": "markdown",
   "id": "44a02d33",
   "metadata": {},
   "source": [
    "There are different kinds of objects in Python, we will discuss these object types in detail. But essentially an object is just a collection of data."
   ]
  },
  {
   "cell_type": "code",
   "execution_count": 1,
   "id": "db434661",
   "metadata": {},
   "outputs": [
    {
     "data": {
      "text/plain": [
       "1"
      ]
     },
     "execution_count": 1,
     "metadata": {},
     "output_type": "execute_result"
    }
   ],
   "source": [
    "# The object below is an integer\n",
    "1"
   ]
  },
  {
   "cell_type": "code",
   "execution_count": 2,
   "id": "8824d341",
   "metadata": {},
   "outputs": [
    {
     "data": {
      "text/plain": [
       "int"
      ]
     },
     "execution_count": 2,
     "metadata": {},
     "output_type": "execute_result"
    }
   ],
   "source": [
    "# You can use the function type() to check the object type, simply enter the object value inside the parenthesis\n",
    "type(1)"
   ]
  },
  {
   "cell_type": "markdown",
   "id": "954e08f5",
   "metadata": {},
   "source": [
    "As you can see above, the type of the object with the value 1 is an int, which is short for integer"
   ]
  },
  {
   "cell_type": "code",
   "execution_count": 3,
   "id": "c92a14b1",
   "metadata": {},
   "outputs": [
    {
     "data": {
      "text/plain": [
       "str"
      ]
     },
     "execution_count": 3,
     "metadata": {},
     "output_type": "execute_result"
    }
   ],
   "source": [
    "# The type for the object consisting of the text characters 'hello world' is str, which is short for string\n",
    "type('hello world')"
   ]
  },
  {
   "cell_type": "markdown",
   "id": "d697491d",
   "metadata": {},
   "source": [
    "## Methods vs Functions "
   ]
  },
  {
   "cell_type": "markdown",
   "id": "ab894737",
   "metadata": {},
   "source": [
    "Objects have associated methods, you can apply these methods using dot notation as per the below example.\n",
    "The string object can call the upper() method which can capitalize all characters. \n",
    "Methods are specific to objects - integer objects may not have the same methods as string objects"
   ]
  },
  {
   "cell_type": "code",
   "execution_count": 4,
   "id": "4e83285c",
   "metadata": {},
   "outputs": [
    {
     "data": {
      "text/plain": [
       "'HELLO WORLD'"
      ]
     },
     "execution_count": 4,
     "metadata": {},
     "output_type": "execute_result"
    }
   ],
   "source": [
    "'hello world'.upper()"
   ]
  },
  {
   "cell_type": "markdown",
   "id": "e73250b2",
   "metadata": {},
   "source": [
    "Functions are similar to methods but can be applied more generally, they can take objects as parameters and apply a specific operation"
   ]
  },
  {
   "cell_type": "markdown",
   "id": "ccb527a0",
   "metadata": {},
   "source": [
    "The below function, print() takes a parameter and prints the specified message on screen. This method can take integer and string objects.\n",
    "This does not mean all functions accept ANY data object, you must consider each function on a case by case basis"
   ]
  },
  {
   "cell_type": "code",
   "execution_count": 5,
   "id": "567bafc7",
   "metadata": {},
   "outputs": [
    {
     "name": "stdout",
     "output_type": "stream",
     "text": [
      "1\n"
     ]
    }
   ],
   "source": [
    "print(1)"
   ]
  },
  {
   "cell_type": "code",
   "execution_count": 6,
   "id": "8e761f54",
   "metadata": {},
   "outputs": [
    {
     "name": "stdout",
     "output_type": "stream",
     "text": [
      "hello world\n"
     ]
    }
   ],
   "source": [
    "print('hello world')"
   ]
  },
  {
   "cell_type": "markdown",
   "id": "4d09a092",
   "metadata": {},
   "source": [
    "# Variables"
   ]
  },
  {
   "cell_type": "markdown",
   "id": "91351eb4",
   "metadata": {},
   "source": [
    "A variable is a reserved memory location to store a value.\n",
    "You can create a variable by simple assigning it a value, you can do this using the equal sign (=), the variable name should be on the left of the equal sign."
   ]
  },
  {
   "cell_type": "code",
   "execution_count": 7,
   "id": "9621d687",
   "metadata": {},
   "outputs": [],
   "source": [
    "# I am creating a variable x with the value 1\n",
    "x=1"
   ]
  },
  {
   "cell_type": "code",
   "execution_count": 8,
   "id": "1582b281",
   "metadata": {},
   "outputs": [
    {
     "data": {
      "text/plain": [
       "1"
      ]
     },
     "execution_count": 8,
     "metadata": {},
     "output_type": "execute_result"
    }
   ],
   "source": [
    "# I can call on this variable by simply specifying 'x' as per below\n",
    "x"
   ]
  },
  {
   "cell_type": "code",
   "execution_count": 9,
   "id": "aa8b7dc4",
   "metadata": {},
   "outputs": [
    {
     "data": {
      "text/plain": [
       "int"
      ]
     },
     "execution_count": 9,
     "metadata": {},
     "output_type": "execute_result"
    }
   ],
   "source": [
    "type(x)"
   ]
  },
  {
   "cell_type": "code",
   "execution_count": 10,
   "id": "7c150d2f",
   "metadata": {},
   "outputs": [],
   "source": [
    "# Python allows you to reassign this variable, even to a different object type\n",
    "#'x' is now a string\n",
    "x = 'hello world'"
   ]
  },
  {
   "cell_type": "code",
   "execution_count": 11,
   "id": "889eb2cc",
   "metadata": {},
   "outputs": [
    {
     "data": {
      "text/plain": [
       "'hello world'"
      ]
     },
     "execution_count": 11,
     "metadata": {},
     "output_type": "execute_result"
    }
   ],
   "source": [
    "x"
   ]
  },
  {
   "cell_type": "code",
   "execution_count": 12,
   "id": "fde26219",
   "metadata": {},
   "outputs": [
    {
     "data": {
      "text/plain": [
       "str"
      ]
     },
     "execution_count": 12,
     "metadata": {},
     "output_type": "execute_result"
    }
   ],
   "source": [
    "type(x)"
   ]
  },
  {
   "cell_type": "markdown",
   "id": "0c6ae534",
   "metadata": {},
   "source": [
    "Variables names can not start with a number.\n",
    "There is guidance online on best practice for variable naming conventions, refer here:\n",
    "https://www.python.org/dev/peps/pep-0008/#naming-conventions"
   ]
  }
 ],
 "metadata": {
  "kernelspec": {
   "display_name": "Python 3 (ipykernel)",
   "language": "python",
   "name": "python3"
  },
  "language_info": {
   "codemirror_mode": {
    "name": "ipython",
    "version": 3
   },
   "file_extension": ".py",
   "mimetype": "text/x-python",
   "name": "python",
   "nbconvert_exporter": "python",
   "pygments_lexer": "ipython3",
   "version": "3.9.13"
  }
 },
 "nbformat": 4,
 "nbformat_minor": 5
}
