{
 "cells": [
  {
   "cell_type": "markdown",
   "id": "91d6d92f",
   "metadata": {},
   "source": [
    "# Numerical Data Types"
   ]
  },
  {
   "cell_type": "markdown",
   "id": "453b6562",
   "metadata": {},
   "source": [
    "In Python there are three distinct built-in numerical data types which are integers, floating point numbers and complex numbers.\n",
    "\n",
    "We will cover integers and floating point numbers in this course"
   ]
  },
  {
   "cell_type": "markdown",
   "id": "36f7d9fc",
   "metadata": {},
   "source": [
    "## Integers"
   ]
  },
  {
   "cell_type": "markdown",
   "id": "8e5db480",
   "metadata": {},
   "source": [
    "Int, or integer, is a whole number, positive or negative."
   ]
  },
  {
   "cell_type": "code",
   "execution_count": 1,
   "id": "82ccc7db",
   "metadata": {},
   "outputs": [
    {
     "data": {
      "text/plain": [
       "int"
      ]
     },
     "execution_count": 1,
     "metadata": {},
     "output_type": "execute_result"
    }
   ],
   "source": [
    "# The number 2000 is an integer, we can confirm this by checking the type\n",
    "type(2000)"
   ]
  },
  {
   "cell_type": "code",
   "execution_count": 2,
   "id": "958cd5fc",
   "metadata": {},
   "outputs": [
    {
     "data": {
      "text/plain": [
       "int"
      ]
     },
     "execution_count": 2,
     "metadata": {},
     "output_type": "execute_result"
    }
   ],
   "source": [
    "# Similarly -2000 is also an integer\n",
    "type(-2000)"
   ]
  },
  {
   "cell_type": "code",
   "execution_count": 3,
   "id": "608f806c",
   "metadata": {},
   "outputs": [
    {
     "data": {
      "text/plain": [
       "float"
      ]
     },
     "execution_count": 3,
     "metadata": {},
     "output_type": "execute_result"
    }
   ],
   "source": [
    "# A decimal number is of the type 'float' which is short for 'floating point number'\n",
    "type(2.3)"
   ]
  },
  {
   "cell_type": "markdown",
   "id": "ab3e9acb",
   "metadata": {},
   "source": [
    "## Floating Point Numbers"
   ]
  },
  {
   "cell_type": "markdown",
   "id": "387815dd",
   "metadata": {},
   "source": [
    "A floating point number is a real number that is written with a decimal point dividing the integer and fractional part. \n",
    "Basically, a number with a decimal point!"
   ]
  },
  {
   "cell_type": "code",
   "execution_count": 4,
   "id": "51fe2010",
   "metadata": {},
   "outputs": [
    {
     "data": {
      "text/plain": [
       "float"
      ]
     },
     "execution_count": 4,
     "metadata": {},
     "output_type": "execute_result"
    }
   ],
   "source": [
    "# -2.3 is also a float, a float can be a positive or negative number with a decimal place\n",
    "type(-2.3)"
   ]
  },
  {
   "cell_type": "markdown",
   "id": "212357e6",
   "metadata": {},
   "source": [
    "Script: Well what about 7/4. The forward slash is the divide operation"
   ]
  },
  {
   "cell_type": "code",
   "execution_count": 5,
   "id": "cf63d30f",
   "metadata": {},
   "outputs": [
    {
     "data": {
      "text/plain": [
       "float"
      ]
     },
     "execution_count": 5,
     "metadata": {},
     "output_type": "execute_result"
    }
   ],
   "source": [
    "# 7/4 is also a float\n",
    "type(7/4)"
   ]
  },
  {
   "cell_type": "markdown",
   "id": "32f248d8",
   "metadata": {},
   "source": [
    "# Basic Arithmetic Operations and Functions"
   ]
  },
  {
   "cell_type": "code",
   "execution_count": 6,
   "id": "7bef7cd2",
   "metadata": {},
   "outputs": [
    {
     "data": {
      "text/plain": [
       "5"
      ]
     },
     "execution_count": 6,
     "metadata": {},
     "output_type": "execute_result"
    }
   ],
   "source": [
    "# We can add using the '+' symbol\n",
    "2+3"
   ]
  },
  {
   "cell_type": "code",
   "execution_count": 7,
   "id": "3779e372",
   "metadata": {},
   "outputs": [],
   "source": [
    "x=1\n",
    "y=3\n",
    "z=10"
   ]
  },
  {
   "cell_type": "code",
   "execution_count": 8,
   "id": "3d886815",
   "metadata": {},
   "outputs": [
    {
     "data": {
      "text/plain": [
       "14"
      ]
     },
     "execution_count": 8,
     "metadata": {},
     "output_type": "execute_result"
    }
   ],
   "source": [
    "# We can also perform arithmetic operations on numerical variables\n",
    "x+y+z"
   ]
  },
  {
   "cell_type": "code",
   "execution_count": 9,
   "id": "c066fd49",
   "metadata": {},
   "outputs": [
    {
     "data": {
      "text/plain": [
       "7"
      ]
     },
     "execution_count": 9,
     "metadata": {},
     "output_type": "execute_result"
    }
   ],
   "source": [
    "# We can subtract using the '-' symbol\n",
    "z-y"
   ]
  },
  {
   "cell_type": "code",
   "execution_count": 10,
   "id": "9ce03609",
   "metadata": {},
   "outputs": [
    {
     "data": {
      "text/plain": [
       "30"
      ]
     },
     "execution_count": 10,
     "metadata": {},
     "output_type": "execute_result"
    }
   ],
   "source": [
    "# We can multiply using the '*' symbol\n",
    "y*10"
   ]
  },
  {
   "cell_type": "code",
   "execution_count": 11,
   "id": "963351b8",
   "metadata": {},
   "outputs": [
    {
     "data": {
      "text/plain": [
       "3.3333333333333335"
      ]
     },
     "execution_count": 11,
     "metadata": {},
     "output_type": "execute_result"
    }
   ],
   "source": [
    "# We can divide using the '/' symbol\n",
    "z/y"
   ]
  },
  {
   "cell_type": "code",
   "execution_count": 12,
   "id": "5cd28932",
   "metadata": {},
   "outputs": [
    {
     "data": {
      "text/plain": [
       "1"
      ]
     },
     "execution_count": 12,
     "metadata": {},
     "output_type": "execute_result"
    }
   ],
   "source": [
    "#The % symbol is modulo, this returns the remainder of z/y\n",
    "z%y"
   ]
  },
  {
   "cell_type": "code",
   "execution_count": 13,
   "id": "4226f998",
   "metadata": {},
   "outputs": [
    {
     "data": {
      "text/plain": [
       "100"
      ]
     },
     "execution_count": 13,
     "metadata": {},
     "output_type": "execute_result"
    }
   ],
   "source": [
    "# x**y raises x to the power of y\n",
    "10**2"
   ]
  },
  {
   "cell_type": "code",
   "execution_count": 14,
   "id": "a386106c",
   "metadata": {},
   "outputs": [
    {
     "data": {
      "text/plain": [
       "100"
      ]
     },
     "execution_count": 14,
     "metadata": {},
     "output_type": "execute_result"
    }
   ],
   "source": [
    "# pow(x,y), where x is the base and y is the exponent\n",
    "pow(10,2)"
   ]
  },
  {
   "cell_type": "markdown",
   "id": "9ae92f7d",
   "metadata": {},
   "source": [
    "Python follows the PEDMAS order of operations."
   ]
  },
  {
   "cell_type": "markdown",
   "id": "41f5d6af",
   "metadata": {},
   "source": [
    "P = Parenthesis"
   ]
  },
  {
   "cell_type": "markdown",
   "id": "34566197",
   "metadata": {},
   "source": [
    "E = Exponents"
   ]
  },
  {
   "cell_type": "markdown",
   "id": "41145ad6",
   "metadata": {},
   "source": [
    "D = Division"
   ]
  },
  {
   "cell_type": "markdown",
   "id": "e81085a8",
   "metadata": {},
   "source": [
    "M = Multiplication"
   ]
  },
  {
   "cell_type": "markdown",
   "id": "c10a0e63",
   "metadata": {},
   "source": [
    "A = Addition"
   ]
  },
  {
   "cell_type": "markdown",
   "id": "148f64c1",
   "metadata": {},
   "source": [
    "S = Subtraction"
   ]
  },
  {
   "cell_type": "code",
   "execution_count": 15,
   "id": "2b21ecee",
   "metadata": {},
   "outputs": [
    {
     "data": {
      "text/plain": [
       "385.0"
      ]
     },
     "execution_count": 15,
     "metadata": {},
     "output_type": "execute_result"
    }
   ],
   "source": [
    "# (3+5) = 8\n",
    "# 2**8 = 256\n",
    "# 3/2 = 1.5\n",
    "# 256*1.5 = 384\n",
    "# 384+2 = 386\n",
    "# 386-1 = 385\n",
    "2**(3+5)*3/2+2-1"
   ]
  },
  {
   "cell_type": "code",
   "execution_count": 16,
   "id": "14289939",
   "metadata": {},
   "outputs": [
    {
     "data": {
      "text/plain": [
       "2000"
      ]
     },
     "execution_count": 16,
     "metadata": {},
     "output_type": "execute_result"
    }
   ],
   "source": [
    "# abs is a function that takes a number as a parameter and returns the absolute value \n",
    "# The absolute value is the number returned as a positive value\n",
    "abs(-2000)"
   ]
  },
  {
   "cell_type": "markdown",
   "id": "c57b8cd3",
   "metadata": {},
   "source": [
    "## Additional Resources and Guidance: \n",
    "* https://docs.python.org/3/library/stdtypes.html#numeric-types-int-float-complex"
   ]
  }
 ],
 "metadata": {
  "kernelspec": {
   "display_name": "Python 3 (ipykernel)",
   "language": "python",
   "name": "python3"
  },
  "language_info": {
   "codemirror_mode": {
    "name": "ipython",
    "version": 3
   },
   "file_extension": ".py",
   "mimetype": "text/x-python",
   "name": "python",
   "nbconvert_exporter": "python",
   "pygments_lexer": "ipython3",
   "version": "3.9.13"
  }
 },
 "nbformat": 4,
 "nbformat_minor": 5
}
