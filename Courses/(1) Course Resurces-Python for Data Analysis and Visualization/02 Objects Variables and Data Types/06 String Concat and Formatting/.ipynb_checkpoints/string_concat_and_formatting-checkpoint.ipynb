{
 "cells": [
  {
   "cell_type": "markdown",
   "id": "7236c72c",
   "metadata": {},
   "source": [
    "## String Concatenation"
   ]
  },
  {
   "cell_type": "code",
   "execution_count": 1,
   "id": "db54a8b0",
   "metadata": {},
   "outputs": [
    {
     "data": {
      "text/plain": [
       "10"
      ]
     },
     "execution_count": 1,
     "metadata": {},
     "output_type": "execute_result"
    }
   ],
   "source": [
    "# + is addition when applied to numeric types\n",
    "5+5"
   ]
  },
  {
   "cell_type": "code",
   "execution_count": 2,
   "id": "0bc16665",
   "metadata": {},
   "outputs": [
    {
     "data": {
      "text/plain": [
       "'This string That String'"
      ]
     },
     "execution_count": 2,
     "metadata": {},
     "output_type": "execute_result"
    }
   ],
   "source": [
    "# + is a string concatenator when applied to strings\n",
    "'This string' + ' That String'"
   ]
  },
  {
   "cell_type": "code",
   "execution_count": 3,
   "id": "bf71a9d7",
   "metadata": {},
   "outputs": [],
   "source": [
    "x='My name is'"
   ]
  },
  {
   "cell_type": "code",
   "execution_count": 4,
   "id": "1ecc2942",
   "metadata": {},
   "outputs": [],
   "source": [
    "y='Joe'"
   ]
  },
  {
   "cell_type": "code",
   "execution_count": 5,
   "id": "2706ca52",
   "metadata": {},
   "outputs": [
    {
     "data": {
      "text/plain": [
       "'My name isJoe'"
      ]
     },
     "execution_count": 5,
     "metadata": {},
     "output_type": "execute_result"
    }
   ],
   "source": [
    "x+y"
   ]
  },
  {
   "cell_type": "code",
   "execution_count": 6,
   "id": "3d298e47",
   "metadata": {},
   "outputs": [
    {
     "data": {
      "text/plain": [
       "'My name is Joe'"
      ]
     },
     "execution_count": 6,
     "metadata": {},
     "output_type": "execute_result"
    }
   ],
   "source": [
    "# We can concatenate variables with whitespaces\n",
    "x+' '+y"
   ]
  },
  {
   "cell_type": "code",
   "execution_count": 7,
   "id": "bbff29f2",
   "metadata": {},
   "outputs": [],
   "source": [
    "# Creating a variable z as to store the result of the concatenation\n",
    "z = x+' '+y"
   ]
  },
  {
   "cell_type": "code",
   "execution_count": 8,
   "id": "79c3a2ec",
   "metadata": {},
   "outputs": [
    {
     "data": {
      "text/plain": [
       "'My name is Joe'"
      ]
     },
     "execution_count": 8,
     "metadata": {},
     "output_type": "execute_result"
    }
   ],
   "source": [
    "z"
   ]
  },
  {
   "cell_type": "code",
   "execution_count": 9,
   "id": "19bcd94a",
   "metadata": {},
   "outputs": [
    {
     "data": {
      "text/plain": [
       "'My name is JoeMy name is Joe'"
      ]
     },
     "execution_count": 9,
     "metadata": {},
     "output_type": "execute_result"
    }
   ],
   "source": [
    "# Applying * on z\n",
    "z*2"
   ]
  },
  {
   "cell_type": "code",
   "execution_count": 10,
   "id": "73a99119",
   "metadata": {},
   "outputs": [
    {
     "data": {
      "text/plain": [
       "10"
      ]
     },
     "execution_count": 10,
     "metadata": {},
     "output_type": "execute_result"
    }
   ],
   "source": [
    "5+5"
   ]
  },
  {
   "cell_type": "code",
   "execution_count": 11,
   "id": "013e35af",
   "metadata": {},
   "outputs": [
    {
     "data": {
      "text/plain": [
       "'55'"
      ]
     },
     "execution_count": 11,
     "metadata": {},
     "output_type": "execute_result"
    }
   ],
   "source": [
    "# Numbers enclosed in single quotes are strings and will be treated as such\n",
    "'5'+'5'"
   ]
  },
  {
   "cell_type": "markdown",
   "id": "097f4ed7",
   "metadata": {},
   "source": [
    "## String Formatting"
   ]
  },
  {
   "cell_type": "markdown",
   "id": "77a05cc1",
   "metadata": {},
   "source": [
    "You can use the f string method to embed expressions inside string literals"
   ]
  },
  {
   "cell_type": "code",
   "execution_count": 12,
   "id": "8ce1beb5",
   "metadata": {},
   "outputs": [],
   "source": [
    "name='Joe'"
   ]
  },
  {
   "cell_type": "code",
   "execution_count": 13,
   "id": "0beba204",
   "metadata": {},
   "outputs": [
    {
     "data": {
      "text/plain": [
       "'Joe'"
      ]
     },
     "execution_count": 13,
     "metadata": {},
     "output_type": "execute_result"
    }
   ],
   "source": [
    "name"
   ]
  },
  {
   "cell_type": "code",
   "execution_count": 14,
   "id": "b8ba53df",
   "metadata": {},
   "outputs": [
    {
     "data": {
      "text/plain": [
       "'Hi, my name is Joe'"
      ]
     },
     "execution_count": 14,
     "metadata": {},
     "output_type": "execute_result"
    }
   ],
   "source": [
    "# The f string method\n",
    "f'Hi, my name is {name}'"
   ]
  },
  {
   "cell_type": "code",
   "execution_count": 15,
   "id": "7a7f5aa7",
   "metadata": {},
   "outputs": [],
   "source": [
    "# Reassigning the variable 'name'\n",
    "name = 'Ben'"
   ]
  },
  {
   "cell_type": "code",
   "execution_count": 16,
   "id": "835b6e21",
   "metadata": {},
   "outputs": [
    {
     "data": {
      "text/plain": [
       "'Hi, my name is Ben'"
      ]
     },
     "execution_count": 16,
     "metadata": {},
     "output_type": "execute_result"
    }
   ],
   "source": [
    "f'Hi, my name is {name}'"
   ]
  },
  {
   "cell_type": "markdown",
   "id": "3571ff30",
   "metadata": {},
   "source": [
    "You can also use string formatting to format decimal numbers to provide a width and precision. width is the whitespace padding and precision is number of decimals to display. "
   ]
  },
  {
   "cell_type": "code",
   "execution_count": 17,
   "id": "a74374e4",
   "metadata": {},
   "outputs": [],
   "source": [
    "cm = 100/88"
   ]
  },
  {
   "cell_type": "code",
   "execution_count": 18,
   "id": "d14a2c1b",
   "metadata": {},
   "outputs": [
    {
     "data": {
      "text/plain": [
       "1.1363636363636365"
      ]
     },
     "execution_count": 18,
     "metadata": {},
     "output_type": "execute_result"
    }
   ],
   "source": [
    "cm"
   ]
  },
  {
   "cell_type": "code",
   "execution_count": 19,
   "id": "403a65e2",
   "metadata": {},
   "outputs": [
    {
     "data": {
      "text/plain": [
       "'The measurement is 1.1363636363636365'"
      ]
     },
     "execution_count": 19,
     "metadata": {},
     "output_type": "execute_result"
    }
   ],
   "source": [
    "f'The measurement is {cm}'"
   ]
  },
  {
   "cell_type": "code",
   "execution_count": 20,
   "id": "9f467a15",
   "metadata": {},
   "outputs": [
    {
     "data": {
      "text/plain": [
       "'The measurement is 1.14'"
      ]
     },
     "execution_count": 20,
     "metadata": {},
     "output_type": "execute_result"
    }
   ],
   "source": [
    "# Applying a width of 1 and precision of 2 decimal places\n",
    "f'The measurement is {cm:1.2f}'"
   ]
  },
  {
   "cell_type": "code",
   "execution_count": 21,
   "id": "7290ac69",
   "metadata": {},
   "outputs": [
    {
     "data": {
      "text/plain": [
       "'The measurement is       1.14'"
      ]
     },
     "execution_count": 21,
     "metadata": {},
     "output_type": "execute_result"
    }
   ],
   "source": [
    "# Width of 10 means 10 whitespace characters after the word 'is' up to the end of the measurement value\n",
    "f'The measurement is {cm:10.2f}'"
   ]
  },
  {
   "cell_type": "markdown",
   "id": "c23ba02b",
   "metadata": {},
   "source": [
    "## Additional Resources and Guidance: \n",
    "* https://docs.python.org/3/library/stdtypes.html#text-sequence-type-str"
   ]
  }
 ],
 "metadata": {
  "kernelspec": {
   "display_name": "Python 3 (ipykernel)",
   "language": "python",
   "name": "python3"
  },
  "language_info": {
   "codemirror_mode": {
    "name": "ipython",
    "version": 3
   },
   "file_extension": ".py",
   "mimetype": "text/x-python",
   "name": "python",
   "nbconvert_exporter": "python",
   "pygments_lexer": "ipython3",
   "version": "3.9.13"
  }
 },
 "nbformat": 4,
 "nbformat_minor": 5
}
